{
  "cells": [
    {
      "cell_type": "code",
      "execution_count": null,
      "metadata": {
        "colab": {
          "base_uri": "https://localhost:8080/"
        },
        "id": "tUSJTTvRxLXD",
        "outputId": "58ac6ed8-205f-4831-cb6d-c3bb2e5cce17"
      },
      "outputs": [
        {
          "name": "stdout",
          "output_type": "stream",
          "text": [
            "Collecting transformers\n",
            "  Downloading transformers-4.30.2-py3-none-any.whl (7.2 MB)\n",
            "\u001b[2K     \u001b[90m━━━━━━━━━━━━━━━━━━━━━━━━━━━━━━━━━━━━━━━━\u001b[0m \u001b[32m7.2/7.2 MB\u001b[0m \u001b[31m62.4 MB/s\u001b[0m eta \u001b[36m0:00:00\u001b[0m\n",
            "\u001b[?25hRequirement already satisfied: filelock in /usr/local/lib/python3.10/dist-packages (from transformers) (3.12.2)\n",
            "Collecting huggingface-hub<1.0,>=0.14.1 (from transformers)\n",
            "  Downloading huggingface_hub-0.15.1-py3-none-any.whl (236 kB)\n",
            "\u001b[2K     \u001b[90m━━━━━━━━━━━━━━━━━━━━━━━━━━━━━━━━━━━━━━\u001b[0m \u001b[32m236.8/236.8 kB\u001b[0m \u001b[31m25.1 MB/s\u001b[0m eta \u001b[36m0:00:00\u001b[0m\n",
            "\u001b[?25hRequirement already satisfied: numpy>=1.17 in /usr/local/lib/python3.10/dist-packages (from transformers) (1.22.4)\n",
            "Requirement already satisfied: packaging>=20.0 in /usr/local/lib/python3.10/dist-packages (from transformers) (23.1)\n",
            "Requirement already satisfied: pyyaml>=5.1 in /usr/local/lib/python3.10/dist-packages (from transformers) (6.0)\n",
            "Requirement already satisfied: regex!=2019.12.17 in /usr/local/lib/python3.10/dist-packages (from transformers) (2022.10.31)\n",
            "Requirement already satisfied: requests in /usr/local/lib/python3.10/dist-packages (from transformers) (2.27.1)\n",
            "Collecting tokenizers!=0.11.3,<0.14,>=0.11.1 (from transformers)\n",
            "  Downloading tokenizers-0.13.3-cp310-cp310-manylinux_2_17_x86_64.manylinux2014_x86_64.whl (7.8 MB)\n",
            "\u001b[2K     \u001b[90m━━━━━━━━━━━━━━━━━━━━━━━━━━━━━━━━━━━━━━━━\u001b[0m \u001b[32m7.8/7.8 MB\u001b[0m \u001b[31m88.9 MB/s\u001b[0m eta \u001b[36m0:00:00\u001b[0m\n",
            "\u001b[?25hCollecting safetensors>=0.3.1 (from transformers)\n",
            "  Downloading safetensors-0.3.1-cp310-cp310-manylinux_2_17_x86_64.manylinux2014_x86_64.whl (1.3 MB)\n",
            "\u001b[2K     \u001b[90m━━━━━━━━━━━━━━━━━━━━━━━━━━━━━━━━━━━━━━━━\u001b[0m \u001b[32m1.3/1.3 MB\u001b[0m \u001b[31m65.2 MB/s\u001b[0m eta \u001b[36m0:00:00\u001b[0m\n",
            "\u001b[?25hRequirement already satisfied: tqdm>=4.27 in /usr/local/lib/python3.10/dist-packages (from transformers) (4.65.0)\n",
            "Requirement already satisfied: fsspec in /usr/local/lib/python3.10/dist-packages (from huggingface-hub<1.0,>=0.14.1->transformers) (2023.6.0)\n",
            "Requirement already satisfied: typing-extensions>=3.7.4.3 in /usr/local/lib/python3.10/dist-packages (from huggingface-hub<1.0,>=0.14.1->transformers) (4.6.3)\n",
            "Requirement already satisfied: urllib3<1.27,>=1.21.1 in /usr/local/lib/python3.10/dist-packages (from requests->transformers) (1.26.16)\n",
            "Requirement already satisfied: certifi>=2017.4.17 in /usr/local/lib/python3.10/dist-packages (from requests->transformers) (2023.5.7)\n",
            "Requirement already satisfied: charset-normalizer~=2.0.0 in /usr/local/lib/python3.10/dist-packages (from requests->transformers) (2.0.12)\n",
            "Requirement already satisfied: idna<4,>=2.5 in /usr/local/lib/python3.10/dist-packages (from requests->transformers) (3.4)\n",
            "Installing collected packages: tokenizers, safetensors, huggingface-hub, transformers\n",
            "Successfully installed huggingface-hub-0.15.1 safetensors-0.3.1 tokenizers-0.13.3 transformers-4.30.2\n"
          ]
        }
      ],
      "source": [
        "!pip install transformers"
      ]
    },
    {
      "cell_type": "code",
      "execution_count": null,
      "metadata": {
        "colab": {
          "base_uri": "https://localhost:8080/"
        },
        "id": "B2RsvS1XxUnE",
        "outputId": "7447e812-5ebb-4c5d-e075-8ba9425e728f"
      },
      "outputs": [
        {
          "name": "stdout",
          "output_type": "stream",
          "text": [
            "\u001b[?25l     \u001b[90m━━━━━━━━━━━━━━━━━━━━━━━━━━━━━━━━━━━━━━━━\u001b[0m \u001b[32m0.0/486.2 kB\u001b[0m \u001b[31m?\u001b[0m eta \u001b[36m-:--:--\u001b[0m\r\u001b[2K     \u001b[90m━━━━━━━━━━━━━━━━━━━━━━━━━━━━━━━━━━━━━━\u001b[0m \u001b[32m486.2/486.2 kB\u001b[0m \u001b[31m16.0 MB/s\u001b[0m eta \u001b[36m0:00:00\u001b[0m\n",
            "\u001b[2K     \u001b[90m━━━━━━━━━━━━━━━━━━━━━━━━━━━━━━━━━━━━━━\u001b[0m \u001b[32m110.5/110.5 kB\u001b[0m \u001b[31m13.4 MB/s\u001b[0m eta \u001b[36m0:00:00\u001b[0m\n",
            "\u001b[2K     \u001b[90m━━━━━━━━━━━━━━━━━━━━━━━━━━━━━━━━━━━━━━\u001b[0m \u001b[32m212.5/212.5 kB\u001b[0m \u001b[31m20.9 MB/s\u001b[0m eta \u001b[36m0:00:00\u001b[0m\n",
            "\u001b[2K     \u001b[90m━━━━━━━━━━━━━━━━━━━━━━━━━━━━━━━━━━━━━━\u001b[0m \u001b[32m134.3/134.3 kB\u001b[0m \u001b[31m15.7 MB/s\u001b[0m eta \u001b[36m0:00:00\u001b[0m\n",
            "\u001b[?25h"
          ]
        }
      ],
      "source": [
        "!pip install -q datasets"
      ]
    },
    {
      "cell_type": "code",
      "execution_count": null,
      "metadata": {
        "id": "BTRv3_wUxhZf"
      },
      "outputs": [],
      "source": [
        "import numpy as np\n",
        "import torch\n",
        "import cv2\n",
        "import torch.nn as nn\n",
        "from transformers import ViTModel,ViTConfig\n",
        "from torchvision import transforms\n",
        "from torch.optim import Adam\n",
        "from torch.utils.data import DataLoader\n",
        "from tqdm import tqdm\n",
        "import pandas as pd\n",
        "import matplotlib.pyplot as plt\n",
        "from sklearn.model_selection import train_test_split\n",
        "checkpoint='google/vit-base-patch16-224-in21k'"
      ]
    },
    {
      "cell_type": "code",
      "execution_count": null,
      "metadata": {
        "colab": {
          "base_uri": "https://localhost:8080/",
          "height": 459,
          "referenced_widgets": [
            "70d218f016dd4c06ba7025e3f3f117d5",
            "b0d96e56f97b4b639e3983e04a2262f8",
            "5d9c273353a84160b2a53de4206894a0",
            "45587637faa9400a8f1b0d28b846c2e3",
            "850b1a4708f843c0b463772e5f046870",
            "f858c3797f544e699950fa8592b48d20",
            "4aeeb3bdf4574d089634d1b514f8077b",
            "cbb3a714b55c4707b1d29651e1d8af88",
            "be6d86c9fa764a0aaf61068260ce9024",
            "18db62862c3e48b6b93f5718cfbd5c45",
            "1a1a42e867e140dc84e87ec6451d72fe",
            "5ca6a5d801ba4fa4be3d465c55623f55",
            "f103926b74eb4fd292ba2cb1791d3543",
            "06dbd27471ef484f90b47095d65e13d0",
            "35955207a73a4598a3a42e1ea2e5720a",
            "a68427db3c924bfe82c68921506789ee",
            "90cebba4be804d3bbe2ad29a23fdaf28",
            "a2f53fd1c68f4361b0e136eb10809c51",
            "6602d2f02410405bbfaacf65bbd01217",
            "92f0945cf0f04162b1951d2c4249220d",
            "e6016c8f6ea341af86d643d0f9edd742",
            "6493a4c92aa6454981d417c3e361c585",
            "faaf81aa5c364be2bdc37a327f0b249c",
            "527fe9ebde784df1b6b8f16800d4935d",
            "fc680274cc3a4871aa54aefd7ddeaea9",
            "3a8c81b24b704e41a20887a69e17a1a7",
            "2f7f0f2dddaf41d19cfb8e3b510b552a",
            "81a092215f664ea696ec7c61b3e1d309",
            "6e1c85821f9c4ee1a4a2d370101e9086",
            "45742bde4dcc4fd2aa9cb061ac12c653",
            "5266ccc9f18e4b25b5c30506b3f3d10d",
            "38ebc43e430b46378b15705d9ac16031",
            "0030ae52564e4359b54a316dae432d00",
            "c5df17d3da9244e3b10d02ba44326038",
            "2281ed1c7ba8410d9029f752af6d5527",
            "c0ae46588f8f47a8b5700effa4515efa",
            "8c288bb88d9345368b8ed6de8a2dbebf",
            "da750e10eaff4ef5ac8c224d20808072",
            "7f6f75abf8e342fe8fa627cb38f7ef60",
            "ac7a0fefed0c4782acce606645de7fc1",
            "22ecffc85df1452d90934da63bc299e7",
            "7a45c157db7a4638b1a3c4fe945c0c63",
            "5602f40ded264e729c3edac63251452a",
            "563e9d7058954570aee39bd85d2f113e",
            "d8aadb20f6e64787aab4dd0971719d73",
            "7ecaab3223754469905dbdacab85612f",
            "c2bb15cb582b4858a2f54c76222e6a99",
            "9cbf59fb949e4afea2f3ddd9c241b9e3",
            "9049ee25a8584e7fadf1701887fd1fd6",
            "e934a5b9e91b41968961804bb1c68612",
            "f5c487e2745f4b4995acadb6e7fc5682",
            "faffcd03162346c3a29d604b0b53b28d",
            "e026399afb7c4dac9a52bbf15faf3c09",
            "873d923b1c874e808b0279660cc61613",
            "3f14c04755744f589c29ed8ac597150b",
            "dbd513233bbb4305a92816cef3b98017",
            "f1c64eefea89497cb967e6729cf832be",
            "029efde3a92f43acb3f54734df21c677",
            "bd5f7e1b1cc0427cb174d1ac7b0deab2",
            "cf74664d0c79422693af3fcf2fec01c7",
            "c04b6f86312949d4aed562c6f23c25f6",
            "8a3779fcb37c4021aa2263a3f7186069",
            "9ae210c4f43a49a482400ecf1b93333a",
            "46f50ccdd3404843967ed09872251894",
            "5b25289eb0b04221ba4b38b080025608",
            "13a850daf219469aae2a6488246c2c0d",
            "e1e59342aaca46e4b6a42080a2c08448",
            "418e249d841d4671914e18eddafca35c",
            "02b01ff24e6044e88339be1bd2019bcd",
            "68373253278c4b79b50b5a991cf80ff1",
            "2c2ae4a1efb64329a6d9c4c9bc0aaa0c",
            "2429b01cf3534bed82809ab74a8df5de",
            "a45be2dca00c42af81f5486432d0dc5c",
            "d055d7d883e14c5cad7f5cc96c88d980",
            "1d1043c888994090be155ab509085176",
            "d5b7b0aaff6c4e7a9eea0550acf07cfa",
            "15f7463c1e594785b1f975c2e8d36a13"
          ]
        },
        "id": "VKj0yvMExwwW",
        "outputId": "e79b2ddf-a1f3-44a0-a639-0d7324c40b38"
      },
      "outputs": [
        {
          "data": {
            "application/vnd.jupyter.widget-view+json": {
              "model_id": "70d218f016dd4c06ba7025e3f3f117d5",
              "version_major": 2,
              "version_minor": 0
            },
            "text/plain": [
              "Downloading builder script:   0%|          | 0.00/3.50k [00:00<?, ?B/s]"
            ]
          },
          "metadata": {},
          "output_type": "display_data"
        },
        {
          "data": {
            "application/vnd.jupyter.widget-view+json": {
              "model_id": "5ca6a5d801ba4fa4be3d465c55623f55",
              "version_major": 2,
              "version_minor": 0
            },
            "text/plain": [
              "Downloading readme:   0%|          | 0.00/1.69k [00:00<?, ?B/s]"
            ]
          },
          "metadata": {},
          "output_type": "display_data"
        },
        {
          "name": "stdout",
          "output_type": "stream",
          "text": [
            "Downloading and preparing dataset snacks/default to /root/.cache/huggingface/datasets/Matthijs___snacks/default/0.0.1/c0ce49075aa469a098a5f2e3455941c894e02e1c9bf642d4d33e6c51460ff590...\n"
          ]
        },
        {
          "data": {
            "application/vnd.jupyter.widget-view+json": {
              "model_id": "faaf81aa5c364be2bdc37a327f0b249c",
              "version_major": 2,
              "version_minor": 0
            },
            "text/plain": [
              "Downloading data:   0%|          | 0.00/110M [00:00<?, ?B/s]"
            ]
          },
          "metadata": {},
          "output_type": "display_data"
        },
        {
          "data": {
            "application/vnd.jupyter.widget-view+json": {
              "model_id": "c5df17d3da9244e3b10d02ba44326038",
              "version_major": 2,
              "version_minor": 0
            },
            "text/plain": [
              "Generating train split: 0 examples [00:00, ? examples/s]"
            ]
          },
          "metadata": {},
          "output_type": "display_data"
        },
        {
          "data": {
            "application/vnd.jupyter.widget-view+json": {
              "model_id": "d8aadb20f6e64787aab4dd0971719d73",
              "version_major": 2,
              "version_minor": 0
            },
            "text/plain": [
              "Generating test split: 0 examples [00:00, ? examples/s]"
            ]
          },
          "metadata": {},
          "output_type": "display_data"
        },
        {
          "data": {
            "application/vnd.jupyter.widget-view+json": {
              "model_id": "dbd513233bbb4305a92816cef3b98017",
              "version_major": 2,
              "version_minor": 0
            },
            "text/plain": [
              "Generating validation split: 0 examples [00:00, ? examples/s]"
            ]
          },
          "metadata": {},
          "output_type": "display_data"
        },
        {
          "name": "stdout",
          "output_type": "stream",
          "text": [
            "Dataset snacks downloaded and prepared to /root/.cache/huggingface/datasets/Matthijs___snacks/default/0.0.1/c0ce49075aa469a098a5f2e3455941c894e02e1c9bf642d4d33e6c51460ff590. Subsequent calls will reuse this data.\n"
          ]
        },
        {
          "data": {
            "application/vnd.jupyter.widget-view+json": {
              "model_id": "e1e59342aaca46e4b6a42080a2c08448",
              "version_major": 2,
              "version_minor": 0
            },
            "text/plain": [
              "  0%|          | 0/3 [00:00<?, ?it/s]"
            ]
          },
          "metadata": {},
          "output_type": "display_data"
        },
        {
          "name": "stdout",
          "output_type": "stream",
          "text": [
            "DatasetDict({\n",
            "    train: Dataset({\n",
            "        features: ['image', 'label'],\n",
            "        num_rows: 4838\n",
            "    })\n",
            "    test: Dataset({\n",
            "        features: ['image', 'label'],\n",
            "        num_rows: 952\n",
            "    })\n",
            "    validation: Dataset({\n",
            "        features: ['image', 'label'],\n",
            "        num_rows: 955\n",
            "    })\n",
            "})\n"
          ]
        }
      ],
      "source": [
        "from datasets import load_dataset\n",
        "\n",
        "dataset=load_dataset('Matthijs/snacks')\n",
        "print(dataset)"
      ]
    },
    {
      "cell_type": "code",
      "execution_count": null,
      "metadata": {
        "id": "Zw34kiJLx2jx"
      },
      "outputs": [],
      "source": [
        "#Now writing a dataset for this dataset\n",
        "import torch.nn as nn\n",
        "\n",
        "class Snacks_Dataset(torch.utils.data.Dataset):\n",
        "  def __init__(self,dataset,transform=None):\n",
        "    self.dataset=dataset\n",
        "    self.transform=transform\n",
        "  def __len__(self):\n",
        "    return len(self.dataset)\n",
        "  def __getitem__(self,idx):\n",
        "    image=self.dataset[idx]['image']\n",
        "    labels=self.dataset[idx]['label']\n",
        "\n",
        "    if self.transform!=None:\n",
        "      image=self.transform(image)\n",
        "\n",
        "      return image,labels\n",
        "    return image,labels\n"
      ]
    },
    {
      "cell_type": "code",
      "execution_count": null,
      "metadata": {
        "id": "Ewrt3msUx6Jo"
      },
      "outputs": [],
      "source": [
        "from torchvision import transforms\n",
        "\n",
        "transform=transforms.Compose(\n",
        "    [\n",
        "        transforms.ToTensor(),\n",
        "        transforms.Resize((224,224),antialias=True),\n",
        "        transforms.Normalize(mean=[0.5,0.5,0.5],\n",
        "                             std=[0.5,0.5,0.5]\n",
        "                             )\n",
        "    ]\n",
        ")"
      ]
    },
    {
      "cell_type": "code",
      "execution_count": null,
      "metadata": {
        "id": "PxNDfZM1x9jc"
      },
      "outputs": [],
      "source": [
        "trainset=Snacks_Dataset(dataset['train'],transform)\n",
        "validset=Snacks_Dataset(dataset['validation'],transform)\n",
        "testset=Snacks_Dataset(dataset['test'],transform)"
      ]
    },
    {
      "cell_type": "code",
      "execution_count": null,
      "metadata": {
        "colab": {
          "base_uri": "https://localhost:8080/"
        },
        "id": "9--lYYDRyAzQ",
        "outputId": "bf5af9eb-4b77-4c7f-b607-9c08091abcde"
      },
      "outputs": [
        {
          "name": "stdout",
          "output_type": "stream",
          "text": [
            "Length of the Training Set 4838\n",
            "Length of the Validation Set 955\n",
            "Length of the Test Set 952\n"
          ]
        }
      ],
      "source": [
        "print(f\"Length of the Training Set {len(trainset)}\")\n",
        "print(f\"Length of the Validation Set {len(validset)}\")\n",
        "print(f\"Length of the Test Set {len(testset)}\")"
      ]
    },
    {
      "cell_type": "code",
      "execution_count": null,
      "metadata": {
        "id": "xCd_xJu4yssr"
      },
      "outputs": [],
      "source": [
        "trainloader=torch.utils.data.DataLoader(trainset,batch_size=8,shuffle=True)\n",
        "validloader=torch.utils.data.DataLoader(validset,batch_size=8,shuffle=True)"
      ]
    },
    {
      "cell_type": "code",
      "execution_count": null,
      "metadata": {
        "colab": {
          "base_uri": "https://localhost:8080/"
        },
        "id": "QLj1moTqy0dh",
        "outputId": "3daeebf1-6b24-4282-f4f5-f2e020683c55"
      },
      "outputs": [
        {
          "name": "stdout",
          "output_type": "stream",
          "text": [
            "One batch image size: torch.Size([8, 3, 224, 224]) \n",
            "One batch label size: torch.Size([8])\n"
          ]
        }
      ],
      "source": [
        "for data in trainloader:\n",
        "  image,label=data\n",
        "  break\n",
        "\n",
        "print(f\"One batch image size: {image.shape} \")\n",
        "print(f\"One batch label size: {label.shape}\")"
      ]
    },
    {
      "cell_type": "code",
      "execution_count": null,
      "metadata": {
        "id": "sNiYg3o-y9Ti"
      },
      "outputs": [],
      "source": [
        "\n",
        "class SnackVit(nn.Module):\n",
        "  def __init__(self,config=ViTConfig(),num_labels=1024,checkpoint=checkpoint):\n",
        "    super(SnackVit,self).__init__()\n",
        "    self.vit=ViTModel.from_pretrained(checkpoint,add_pooling_layer=False)\n",
        "    self.classifier=nn.Linear(config.hidden_size,num_labels)\n",
        "\n",
        "  def forward(self,image):\n",
        "    x=self.vit(image)['last_hidden_state']\n",
        "    out=self.classifier(x[:,0,:])\n",
        "\n",
        "    return out"
      ]
    },
    {
      "cell_type": "code",
      "execution_count": null,
      "metadata": {
        "colab": {
          "base_uri": "https://localhost:8080/",
          "height": 156,
          "referenced_widgets": [
            "94df2d3f47294a20a7f1ce16c9c1ad0e",
            "31037945c9254f4881f25933c620a2e2",
            "510a86e4942545918f8de7bf6d612a79",
            "d5d8b5fc79d94b258b14c39dac077083",
            "f1a8f6e1718b48a1b41df2a5b82e55d3",
            "8aa16c232e9c4f019539572bc0491078",
            "c3d23c348b85443aad4916ef02530cdb",
            "f75bc92f3fd349018afcebdc97903d4c",
            "c9b82af0b7934c6c88ef450b8d9f00fe",
            "dc68450a2fa041498f35b73cf6c38a80",
            "2f02b7c1cb5045c880132e2610aff345",
            "60717f60897147f39e68daa11a5d9613",
            "3403ed96235a4a4cb0de4566038db59f",
            "fcd1bc5565ed4cd79a904fec636c8eca",
            "ec11b9233fb54a88951008fa8e9eed7b",
            "a4c837dafded4456b3576af2dfb2181a",
            "e6f38deef60948d7b3bd4a407fb4f3df",
            "2503c9ccb00f4d489a5f78b43f564c14",
            "db044c16ea6e4297ac7df408dd0826fe",
            "c9be6e03b5534de0a50e03156566ab2b",
            "4e65202c394c48aab3ea2aeae2d959b2",
            "3ff96860785843c4b2b1a9bcbba28db3"
          ]
        },
        "id": "deg90MbTzAr8",
        "outputId": "e4d7d3f7-a60a-4e6b-c899-8306fc51f309"
      },
      "outputs": [
        {
          "data": {
            "application/vnd.jupyter.widget-view+json": {
              "model_id": "94df2d3f47294a20a7f1ce16c9c1ad0e",
              "version_major": 2,
              "version_minor": 0
            },
            "text/plain": [
              "Downloading (…)lve/main/config.json:   0%|          | 0.00/502 [00:00<?, ?B/s]"
            ]
          },
          "metadata": {},
          "output_type": "display_data"
        },
        {
          "data": {
            "application/vnd.jupyter.widget-view+json": {
              "model_id": "60717f60897147f39e68daa11a5d9613",
              "version_major": 2,
              "version_minor": 0
            },
            "text/plain": [
              "Downloading pytorch_model.bin:   0%|          | 0.00/346M [00:00<?, ?B/s]"
            ]
          },
          "metadata": {},
          "output_type": "display_data"
        },
        {
          "name": "stderr",
          "output_type": "stream",
          "text": [
            "Some weights of the model checkpoint at google/vit-base-patch16-224-in21k were not used when initializing ViTModel: ['pooler.dense.weight', 'pooler.dense.bias']\n",
            "- This IS expected if you are initializing ViTModel from the checkpoint of a model trained on another task or with another architecture (e.g. initializing a BertForSequenceClassification model from a BertForPreTraining model).\n",
            "- This IS NOT expected if you are initializing ViTModel from the checkpoint of a model that you expect to be exactly identical (initializing a BertForSequenceClassification model from a BertForSequenceClassification model).\n"
          ]
        }
      ],
      "source": [
        "model=SnackVit()\n",
        "model.to('cuda');"
      ]
    },
    {
      "cell_type": "code",
      "execution_count": null,
      "metadata": {
        "id": "WzlNAxk5OPS8"
      },
      "outputs": [],
      "source": [
        "torch.cuda.empty_cache()"
      ]
    },
    {
      "cell_type": "markdown",
      "metadata": {
        "id": "xFpCtoCBIZEn"
      },
      "source": [
        "# Extracting Training Features"
      ]
    },
    {
      "cell_type": "code",
      "execution_count": null,
      "metadata": {
        "id": "Y-AKQF9wILNO"
      },
      "outputs": [],
      "source": [
        "x_train=[]\n",
        "y_train=[]\n",
        "for image,label in trainloader:\n",
        "  image=image.to('cuda')\n",
        "  label=label.to('cuda')\n",
        "  output=model(image)\n",
        "  #Now appending the output to x_train\n",
        "  output=output.detach().cpu().numpy()\n",
        "  x_train.append(output)\n",
        "  label=label.cpu().detach().numpy()\n",
        "  #label=label.numpy()\n",
        "  label=label.astype('int')\n",
        "  y_train.append(label)\n",
        "  torch.cuda.empty_cache()"
      ]
    },
    {
      "cell_type": "code",
      "execution_count": null,
      "metadata": {
        "colab": {
          "base_uri": "https://localhost:8080/",
          "height": 146
        },
        "id": "2wJVsi-JNC-c",
        "outputId": "50202821-a81d-43ae-99d2-c7b8a3c88045"
      },
      "outputs": [
        {
          "data": {
            "application/vnd.google.colaboratory.intrinsic+json": {
              "type": "string"
            },
            "text/plain": [
              "'|===========================================================================|\\n|                  PyTorch CUDA memory summary, device ID 0                 |\\n|---------------------------------------------------------------------------|\\n|            CUDA OOMs: 0            |        cudaMalloc retries: 0         |\\n|===========================================================================|\\n|        Metric         | Cur Usage  | Peak Usage | Tot Alloc  | Tot Freed  |\\n|---------------------------------------------------------------------------|\\n| Allocated memory      | 354803 KiB |   2485 MiB |   1080 GiB |   1080 GiB |\\n|       from large pool | 353728 KiB |   2483 MiB |   1037 GiB |   1037 GiB |\\n|       from small pool |   1075 KiB |      2 MiB |     43 GiB |     43 GiB |\\n|---------------------------------------------------------------------------|\\n| Active memory         | 354803 KiB |   2485 MiB |   1080 GiB |   1080 GiB |\\n|       from large pool | 353728 KiB |   2483 MiB |   1037 GiB |   1037 GiB |\\n|       from small pool |   1075 KiB |      2 MiB |     43 GiB |     43 GiB |\\n|---------------------------------------------------------------------------|\\n| Requested memory      | 354779 KiB |   2485 MiB |   1080 GiB |   1080 GiB |\\n|       from large pool | 353704 KiB |   2483 MiB |   1037 GiB |   1036 GiB |\\n|       from small pool |   1075 KiB |      2 MiB |     43 GiB |     43 GiB |\\n|---------------------------------------------------------------------------|\\n| GPU reserved memory   | 411648 KiB |   2740 MiB | 573664 MiB | 573262 MiB |\\n|       from large pool | 409600 KiB |   2736 MiB | 572452 MiB | 572052 MiB |\\n|       from small pool |   2048 KiB |      4 MiB |   1212 MiB |   1210 MiB |\\n|---------------------------------------------------------------------------|\\n| Non-releasable memory |  56845 KiB | 267392 KiB |    906 GiB |    906 GiB |\\n|       from large pool |  55872 KiB | 267108 KiB |    863 GiB |    862 GiB |\\n|       from small pool |    973 KiB |   2045 KiB |     43 GiB |     43 GiB |\\n|---------------------------------------------------------------------------|\\n| Allocations           |     203    |     576    |  217396    |  217193    |\\n|       from large pool |      77    |     346    |  141644    |  141567    |\\n|       from small pool |     126    |     231    |   75752    |   75626    |\\n|---------------------------------------------------------------------------|\\n| Active allocs         |     203    |     576    |  217396    |  217193    |\\n|       from large pool |      77    |     346    |  141644    |  141567    |\\n|       from small pool |     126    |     231    |   75752    |   75626    |\\n|---------------------------------------------------------------------------|\\n| GPU reserved segments |      21    |     144    |   30555    |   30534    |\\n|       from large pool |      20    |     142    |   29949    |   29929    |\\n|       from small pool |       1    |       2    |     606    |     605    |\\n|---------------------------------------------------------------------------|\\n| Non-releasable allocs |      21    |     146    |  153081    |  153060    |\\n|       from large pool |      20    |     144    |   93703    |   93683    |\\n|       from small pool |       1    |       4    |   59378    |   59377    |\\n|---------------------------------------------------------------------------|\\n| Oversize allocations  |       0    |       0    |       0    |       0    |\\n|---------------------------------------------------------------------------|\\n| Oversize GPU segments |       0    |       0    |       0    |       0    |\\n|===========================================================================|\\n'"
            ]
          },
          "execution_count": 15,
          "metadata": {},
          "output_type": "execute_result"
        }
      ],
      "source": [
        "torch.cuda.memory_summary(device=None, abbreviated=False)"
      ]
    },
    {
      "cell_type": "code",
      "execution_count": null,
      "metadata": {
        "id": "U7QVSjQaJ488"
      },
      "outputs": [],
      "source": [
        "from itertools import chain\n",
        "\n",
        "x_train_features=list(chain.from_iterable(x_train))\n",
        "y_train=list(chain.from_iterable(y_train))\n"
      ]
    },
    {
      "cell_type": "code",
      "execution_count": null,
      "metadata": {
        "colab": {
          "base_uri": "https://localhost:8080/"
        },
        "id": "WhDZdVtLQvBY",
        "outputId": "991bdc7f-b18c-4e52-b2b7-23d15c9fb5b4"
      },
      "outputs": [
        {
          "name": "stdout",
          "output_type": "stream",
          "text": [
            "Total Training elements:  4838\n",
            "Total Training Labels:  4838\n"
          ]
        }
      ],
      "source": [
        "print(\"Total Training elements: \",len(x_train_features))\n",
        "print(\"Total Training Labels: \",len(y_train))"
      ]
    },
    {
      "cell_type": "code",
      "execution_count": null,
      "metadata": {
        "colab": {
          "base_uri": "https://localhost:8080/"
        },
        "id": "NT8DMmXcSXWE",
        "outputId": "055ef0e3-9d65-4165-cf94-6783d69c2144"
      },
      "outputs": [
        {
          "name": "stdout",
          "output_type": "stream",
          "text": [
            "Shape of training features:  (4838, 1024)\n"
          ]
        }
      ],
      "source": [
        "x_train_features = np.array(x_train_features)\n",
        "print(\"Shape of training features: \",x_train_features.shape)"
      ]
    },
    {
      "cell_type": "code",
      "execution_count": null,
      "metadata": {
        "colab": {
          "base_uri": "https://localhost:8080/"
        },
        "id": "tJfX0OIHTKKM",
        "outputId": "a79af80c-7d12-4de3-ccd4-001b92fcae54"
      },
      "outputs": [
        {
          "name": "stdout",
          "output_type": "stream",
          "text": [
            "Shape of Training Labels:  (4838,)\n"
          ]
        }
      ],
      "source": [
        "y_train=np.array(y_train)\n",
        "print(\"Shape of Training Labels: \",y_train.shape)"
      ]
    },
    {
      "cell_type": "code",
      "execution_count": null,
      "metadata": {
        "colab": {
          "base_uri": "https://localhost:8080/",
          "height": 300
        },
        "id": "mAdql9OyTiQ4",
        "outputId": "fa8cec68-3930-4576-eea2-e7f1dee0de5f"
      },
      "outputs": [
        {
          "data": {
            "text/html": [
              "\n",
              "  <div id=\"df-f12e441a-dbbe-4d98-81e4-23636bea352a\">\n",
              "    <div class=\"colab-df-container\">\n",
              "      <div>\n",
              "<style scoped>\n",
              "    .dataframe tbody tr th:only-of-type {\n",
              "        vertical-align: middle;\n",
              "    }\n",
              "\n",
              "    .dataframe tbody tr th {\n",
              "        vertical-align: top;\n",
              "    }\n",
              "\n",
              "    .dataframe thead th {\n",
              "        text-align: right;\n",
              "    }\n",
              "</style>\n",
              "<table border=\"1\" class=\"dataframe\">\n",
              "  <thead>\n",
              "    <tr style=\"text-align: right;\">\n",
              "      <th></th>\n",
              "      <th>0</th>\n",
              "      <th>1</th>\n",
              "      <th>2</th>\n",
              "      <th>3</th>\n",
              "      <th>4</th>\n",
              "      <th>5</th>\n",
              "      <th>6</th>\n",
              "      <th>7</th>\n",
              "      <th>8</th>\n",
              "      <th>9</th>\n",
              "      <th>...</th>\n",
              "      <th>1015</th>\n",
              "      <th>1016</th>\n",
              "      <th>1017</th>\n",
              "      <th>1018</th>\n",
              "      <th>1019</th>\n",
              "      <th>1020</th>\n",
              "      <th>1021</th>\n",
              "      <th>1022</th>\n",
              "      <th>1023</th>\n",
              "      <th>labels</th>\n",
              "    </tr>\n",
              "  </thead>\n",
              "  <tbody>\n",
              "    <tr>\n",
              "      <th>0</th>\n",
              "      <td>-0.036332</td>\n",
              "      <td>0.066055</td>\n",
              "      <td>-0.095120</td>\n",
              "      <td>-0.177255</td>\n",
              "      <td>0.177940</td>\n",
              "      <td>-0.105056</td>\n",
              "      <td>0.008504</td>\n",
              "      <td>0.129112</td>\n",
              "      <td>0.242089</td>\n",
              "      <td>-0.016254</td>\n",
              "      <td>...</td>\n",
              "      <td>-0.134621</td>\n",
              "      <td>-0.156838</td>\n",
              "      <td>-0.047222</td>\n",
              "      <td>0.010286</td>\n",
              "      <td>-0.029054</td>\n",
              "      <td>-0.051270</td>\n",
              "      <td>-0.169279</td>\n",
              "      <td>-0.113750</td>\n",
              "      <td>-0.116708</td>\n",
              "      <td>3</td>\n",
              "    </tr>\n",
              "    <tr>\n",
              "      <th>1</th>\n",
              "      <td>-0.129093</td>\n",
              "      <td>0.058640</td>\n",
              "      <td>-0.015641</td>\n",
              "      <td>0.220213</td>\n",
              "      <td>-0.039076</td>\n",
              "      <td>-0.005390</td>\n",
              "      <td>0.001403</td>\n",
              "      <td>0.083992</td>\n",
              "      <td>0.056711</td>\n",
              "      <td>-0.061989</td>\n",
              "      <td>...</td>\n",
              "      <td>0.048579</td>\n",
              "      <td>-0.015551</td>\n",
              "      <td>-0.070365</td>\n",
              "      <td>-0.008910</td>\n",
              "      <td>-0.066063</td>\n",
              "      <td>-0.041255</td>\n",
              "      <td>-0.185348</td>\n",
              "      <td>-0.106925</td>\n",
              "      <td>0.105467</td>\n",
              "      <td>8</td>\n",
              "    </tr>\n",
              "    <tr>\n",
              "      <th>2</th>\n",
              "      <td>0.067606</td>\n",
              "      <td>-0.108131</td>\n",
              "      <td>0.038844</td>\n",
              "      <td>-0.038451</td>\n",
              "      <td>-0.212419</td>\n",
              "      <td>0.060721</td>\n",
              "      <td>-0.015428</td>\n",
              "      <td>-0.023817</td>\n",
              "      <td>-0.039326</td>\n",
              "      <td>-0.108503</td>\n",
              "      <td>...</td>\n",
              "      <td>0.164699</td>\n",
              "      <td>0.034265</td>\n",
              "      <td>0.059073</td>\n",
              "      <td>-0.209434</td>\n",
              "      <td>-0.086629</td>\n",
              "      <td>0.133962</td>\n",
              "      <td>-0.060776</td>\n",
              "      <td>0.016107</td>\n",
              "      <td>-0.145967</td>\n",
              "      <td>13</td>\n",
              "    </tr>\n",
              "    <tr>\n",
              "      <th>3</th>\n",
              "      <td>0.104701</td>\n",
              "      <td>0.035092</td>\n",
              "      <td>-0.043380</td>\n",
              "      <td>-0.112820</td>\n",
              "      <td>-0.204951</td>\n",
              "      <td>-0.094360</td>\n",
              "      <td>0.086514</td>\n",
              "      <td>0.041986</td>\n",
              "      <td>0.148353</td>\n",
              "      <td>0.059839</td>\n",
              "      <td>...</td>\n",
              "      <td>-0.063698</td>\n",
              "      <td>0.064917</td>\n",
              "      <td>0.036585</td>\n",
              "      <td>-0.076007</td>\n",
              "      <td>0.081550</td>\n",
              "      <td>-0.129764</td>\n",
              "      <td>-0.164634</td>\n",
              "      <td>-0.138427</td>\n",
              "      <td>0.002433</td>\n",
              "      <td>12</td>\n",
              "    </tr>\n",
              "    <tr>\n",
              "      <th>4</th>\n",
              "      <td>-0.078679</td>\n",
              "      <td>0.051705</td>\n",
              "      <td>0.083454</td>\n",
              "      <td>-0.164258</td>\n",
              "      <td>-0.091297</td>\n",
              "      <td>0.059910</td>\n",
              "      <td>-0.007805</td>\n",
              "      <td>-0.117615</td>\n",
              "      <td>-0.090853</td>\n",
              "      <td>0.007812</td>\n",
              "      <td>...</td>\n",
              "      <td>0.141901</td>\n",
              "      <td>0.053219</td>\n",
              "      <td>-0.016574</td>\n",
              "      <td>0.071119</td>\n",
              "      <td>0.048774</td>\n",
              "      <td>0.206186</td>\n",
              "      <td>-0.164394</td>\n",
              "      <td>0.040247</td>\n",
              "      <td>0.091504</td>\n",
              "      <td>10</td>\n",
              "    </tr>\n",
              "  </tbody>\n",
              "</table>\n",
              "<p>5 rows × 1025 columns</p>\n",
              "</div>\n",
              "      <button class=\"colab-df-convert\" onclick=\"convertToInteractive('df-f12e441a-dbbe-4d98-81e4-23636bea352a')\"\n",
              "              title=\"Convert this dataframe to an interactive table.\"\n",
              "              style=\"display:none;\">\n",
              "        \n",
              "  <svg xmlns=\"http://www.w3.org/2000/svg\" height=\"24px\"viewBox=\"0 0 24 24\"\n",
              "       width=\"24px\">\n",
              "    <path d=\"M0 0h24v24H0V0z\" fill=\"none\"/>\n",
              "    <path d=\"M18.56 5.44l.94 2.06.94-2.06 2.06-.94-2.06-.94-.94-2.06-.94 2.06-2.06.94zm-11 1L8.5 8.5l.94-2.06 2.06-.94-2.06-.94L8.5 2.5l-.94 2.06-2.06.94zm10 10l.94 2.06.94-2.06 2.06-.94-2.06-.94-.94-2.06-.94 2.06-2.06.94z\"/><path d=\"M17.41 7.96l-1.37-1.37c-.4-.4-.92-.59-1.43-.59-.52 0-1.04.2-1.43.59L10.3 9.45l-7.72 7.72c-.78.78-.78 2.05 0 2.83L4 21.41c.39.39.9.59 1.41.59.51 0 1.02-.2 1.41-.59l7.78-7.78 2.81-2.81c.8-.78.8-2.07 0-2.86zM5.41 20L4 18.59l7.72-7.72 1.47 1.35L5.41 20z\"/>\n",
              "  </svg>\n",
              "      </button>\n",
              "      \n",
              "  <style>\n",
              "    .colab-df-container {\n",
              "      display:flex;\n",
              "      flex-wrap:wrap;\n",
              "      gap: 12px;\n",
              "    }\n",
              "\n",
              "    .colab-df-convert {\n",
              "      background-color: #E8F0FE;\n",
              "      border: none;\n",
              "      border-radius: 50%;\n",
              "      cursor: pointer;\n",
              "      display: none;\n",
              "      fill: #1967D2;\n",
              "      height: 32px;\n",
              "      padding: 0 0 0 0;\n",
              "      width: 32px;\n",
              "    }\n",
              "\n",
              "    .colab-df-convert:hover {\n",
              "      background-color: #E2EBFA;\n",
              "      box-shadow: 0px 1px 2px rgba(60, 64, 67, 0.3), 0px 1px 3px 1px rgba(60, 64, 67, 0.15);\n",
              "      fill: #174EA6;\n",
              "    }\n",
              "\n",
              "    [theme=dark] .colab-df-convert {\n",
              "      background-color: #3B4455;\n",
              "      fill: #D2E3FC;\n",
              "    }\n",
              "\n",
              "    [theme=dark] .colab-df-convert:hover {\n",
              "      background-color: #434B5C;\n",
              "      box-shadow: 0px 1px 3px 1px rgba(0, 0, 0, 0.15);\n",
              "      filter: drop-shadow(0px 1px 2px rgba(0, 0, 0, 0.3));\n",
              "      fill: #FFFFFF;\n",
              "    }\n",
              "  </style>\n",
              "\n",
              "      <script>\n",
              "        const buttonEl =\n",
              "          document.querySelector('#df-f12e441a-dbbe-4d98-81e4-23636bea352a button.colab-df-convert');\n",
              "        buttonEl.style.display =\n",
              "          google.colab.kernel.accessAllowed ? 'block' : 'none';\n",
              "\n",
              "        async function convertToInteractive(key) {\n",
              "          const element = document.querySelector('#df-f12e441a-dbbe-4d98-81e4-23636bea352a');\n",
              "          const dataTable =\n",
              "            await google.colab.kernel.invokeFunction('convertToInteractive',\n",
              "                                                     [key], {});\n",
              "          if (!dataTable) return;\n",
              "\n",
              "          const docLinkHtml = 'Like what you see? Visit the ' +\n",
              "            '<a target=\"_blank\" href=https://colab.research.google.com/notebooks/data_table.ipynb>data table notebook</a>'\n",
              "            + ' to learn more about interactive tables.';\n",
              "          element.innerHTML = '';\n",
              "          dataTable['output_type'] = 'display_data';\n",
              "          await google.colab.output.renderOutput(dataTable, element);\n",
              "          const docLink = document.createElement('div');\n",
              "          docLink.innerHTML = docLinkHtml;\n",
              "          element.appendChild(docLink);\n",
              "        }\n",
              "      </script>\n",
              "    </div>\n",
              "  </div>\n",
              "  "
            ],
            "text/plain": [
              "          0         1         2         3         4         5         6  \\\n",
              "0 -0.036332  0.066055 -0.095120 -0.177255  0.177940 -0.105056  0.008504   \n",
              "1 -0.129093  0.058640 -0.015641  0.220213 -0.039076 -0.005390  0.001403   \n",
              "2  0.067606 -0.108131  0.038844 -0.038451 -0.212419  0.060721 -0.015428   \n",
              "3  0.104701  0.035092 -0.043380 -0.112820 -0.204951 -0.094360  0.086514   \n",
              "4 -0.078679  0.051705  0.083454 -0.164258 -0.091297  0.059910 -0.007805   \n",
              "\n",
              "          7         8         9  ...      1015      1016      1017      1018  \\\n",
              "0  0.129112  0.242089 -0.016254  ... -0.134621 -0.156838 -0.047222  0.010286   \n",
              "1  0.083992  0.056711 -0.061989  ...  0.048579 -0.015551 -0.070365 -0.008910   \n",
              "2 -0.023817 -0.039326 -0.108503  ...  0.164699  0.034265  0.059073 -0.209434   \n",
              "3  0.041986  0.148353  0.059839  ... -0.063698  0.064917  0.036585 -0.076007   \n",
              "4 -0.117615 -0.090853  0.007812  ...  0.141901  0.053219 -0.016574  0.071119   \n",
              "\n",
              "       1019      1020      1021      1022      1023  labels  \n",
              "0 -0.029054 -0.051270 -0.169279 -0.113750 -0.116708       3  \n",
              "1 -0.066063 -0.041255 -0.185348 -0.106925  0.105467       8  \n",
              "2 -0.086629  0.133962 -0.060776  0.016107 -0.145967      13  \n",
              "3  0.081550 -0.129764 -0.164634 -0.138427  0.002433      12  \n",
              "4  0.048774  0.206186 -0.164394  0.040247  0.091504      10  \n",
              "\n",
              "[5 rows x 1025 columns]"
            ]
          },
          "execution_count": 20,
          "metadata": {},
          "output_type": "execute_result"
        }
      ],
      "source": [
        "#Converting them to pandas and saving them\n",
        "label_train=y_train.tolist()\n",
        "df_train=pd.DataFrame(x_train_features)\n",
        "df_train=df_train.assign(labels=label_train)\n",
        "df_train.head()"
      ]
    },
    {
      "cell_type": "code",
      "execution_count": null,
      "metadata": {
        "colab": {
          "base_uri": "https://localhost:8080/",
          "height": 394
        },
        "id": "tKZ9_JHVUQHJ",
        "outputId": "ebaa96e3-4846-4285-e9fd-e15aae0bd36a"
      },
      "outputs": [
        {
          "data": {
            "text/html": [
              "\n",
              "  <div id=\"df-ac75bd65-eac3-4397-9523-11fb0fb537c8\">\n",
              "    <div class=\"colab-df-container\">\n",
              "      <div>\n",
              "<style scoped>\n",
              "    .dataframe tbody tr th:only-of-type {\n",
              "        vertical-align: middle;\n",
              "    }\n",
              "\n",
              "    .dataframe tbody tr th {\n",
              "        vertical-align: top;\n",
              "    }\n",
              "\n",
              "    .dataframe thead th {\n",
              "        text-align: right;\n",
              "    }\n",
              "</style>\n",
              "<table border=\"1\" class=\"dataframe\">\n",
              "  <thead>\n",
              "    <tr style=\"text-align: right;\">\n",
              "      <th></th>\n",
              "      <th>0</th>\n",
              "      <th>1</th>\n",
              "      <th>2</th>\n",
              "      <th>3</th>\n",
              "      <th>4</th>\n",
              "      <th>5</th>\n",
              "      <th>6</th>\n",
              "      <th>7</th>\n",
              "      <th>8</th>\n",
              "      <th>9</th>\n",
              "      <th>...</th>\n",
              "      <th>1015</th>\n",
              "      <th>1016</th>\n",
              "      <th>1017</th>\n",
              "      <th>1018</th>\n",
              "      <th>1019</th>\n",
              "      <th>1020</th>\n",
              "      <th>1021</th>\n",
              "      <th>1022</th>\n",
              "      <th>1023</th>\n",
              "      <th>labels</th>\n",
              "    </tr>\n",
              "  </thead>\n",
              "  <tbody>\n",
              "    <tr>\n",
              "      <th>count</th>\n",
              "      <td>4838.000000</td>\n",
              "      <td>4838.000000</td>\n",
              "      <td>4838.000000</td>\n",
              "      <td>4838.000000</td>\n",
              "      <td>4838.000000</td>\n",
              "      <td>4838.000000</td>\n",
              "      <td>4838.000000</td>\n",
              "      <td>4838.000000</td>\n",
              "      <td>4838.000000</td>\n",
              "      <td>4838.000000</td>\n",
              "      <td>...</td>\n",
              "      <td>4838.000000</td>\n",
              "      <td>4838.000000</td>\n",
              "      <td>4838.000000</td>\n",
              "      <td>4838.000000</td>\n",
              "      <td>4838.000000</td>\n",
              "      <td>4838.000000</td>\n",
              "      <td>4838.000000</td>\n",
              "      <td>4838.000000</td>\n",
              "      <td>4838.000000</td>\n",
              "      <td>4838.000000</td>\n",
              "    </tr>\n",
              "    <tr>\n",
              "      <th>mean</th>\n",
              "      <td>0.019168</td>\n",
              "      <td>-0.022599</td>\n",
              "      <td>0.035491</td>\n",
              "      <td>-0.019450</td>\n",
              "      <td>-0.017545</td>\n",
              "      <td>-0.019388</td>\n",
              "      <td>-0.019534</td>\n",
              "      <td>0.024716</td>\n",
              "      <td>0.020267</td>\n",
              "      <td>0.026543</td>\n",
              "      <td>...</td>\n",
              "      <td>-0.072606</td>\n",
              "      <td>0.004881</td>\n",
              "      <td>-0.001985</td>\n",
              "      <td>-0.012131</td>\n",
              "      <td>0.015308</td>\n",
              "      <td>0.036107</td>\n",
              "      <td>-0.038376</td>\n",
              "      <td>-0.026781</td>\n",
              "      <td>-0.044878</td>\n",
              "      <td>9.335883</td>\n",
              "    </tr>\n",
              "    <tr>\n",
              "      <th>std</th>\n",
              "      <td>0.095088</td>\n",
              "      <td>0.102033</td>\n",
              "      <td>0.086396</td>\n",
              "      <td>0.108001</td>\n",
              "      <td>0.093927</td>\n",
              "      <td>0.096212</td>\n",
              "      <td>0.092533</td>\n",
              "      <td>0.090297</td>\n",
              "      <td>0.104411</td>\n",
              "      <td>0.095487</td>\n",
              "      <td>...</td>\n",
              "      <td>0.089689</td>\n",
              "      <td>0.105670</td>\n",
              "      <td>0.104912</td>\n",
              "      <td>0.091697</td>\n",
              "      <td>0.088369</td>\n",
              "      <td>0.094067</td>\n",
              "      <td>0.097099</td>\n",
              "      <td>0.089290</td>\n",
              "      <td>0.107645</td>\n",
              "      <td>5.782016</td>\n",
              "    </tr>\n",
              "    <tr>\n",
              "      <th>min</th>\n",
              "      <td>-0.313614</td>\n",
              "      <td>-0.392648</td>\n",
              "      <td>-0.306888</td>\n",
              "      <td>-0.415112</td>\n",
              "      <td>-0.401939</td>\n",
              "      <td>-0.434932</td>\n",
              "      <td>-0.392633</td>\n",
              "      <td>-0.356784</td>\n",
              "      <td>-0.403610</td>\n",
              "      <td>-0.429651</td>\n",
              "      <td>...</td>\n",
              "      <td>-0.462560</td>\n",
              "      <td>-0.378890</td>\n",
              "      <td>-0.416137</td>\n",
              "      <td>-0.317967</td>\n",
              "      <td>-0.303003</td>\n",
              "      <td>-0.342677</td>\n",
              "      <td>-0.375629</td>\n",
              "      <td>-0.356416</td>\n",
              "      <td>-0.445757</td>\n",
              "      <td>0.000000</td>\n",
              "    </tr>\n",
              "    <tr>\n",
              "      <th>25%</th>\n",
              "      <td>-0.044571</td>\n",
              "      <td>-0.087480</td>\n",
              "      <td>-0.019486</td>\n",
              "      <td>-0.095784</td>\n",
              "      <td>-0.079855</td>\n",
              "      <td>-0.085644</td>\n",
              "      <td>-0.080015</td>\n",
              "      <td>-0.032204</td>\n",
              "      <td>-0.054154</td>\n",
              "      <td>-0.035197</td>\n",
              "      <td>...</td>\n",
              "      <td>-0.130295</td>\n",
              "      <td>-0.069105</td>\n",
              "      <td>-0.075062</td>\n",
              "      <td>-0.073711</td>\n",
              "      <td>-0.044486</td>\n",
              "      <td>-0.026911</td>\n",
              "      <td>-0.103189</td>\n",
              "      <td>-0.088906</td>\n",
              "      <td>-0.116825</td>\n",
              "      <td>4.000000</td>\n",
              "    </tr>\n",
              "    <tr>\n",
              "      <th>50%</th>\n",
              "      <td>0.021354</td>\n",
              "      <td>-0.019360</td>\n",
              "      <td>0.033459</td>\n",
              "      <td>-0.021299</td>\n",
              "      <td>-0.018288</td>\n",
              "      <td>-0.019253</td>\n",
              "      <td>-0.019093</td>\n",
              "      <td>0.026324</td>\n",
              "      <td>0.021581</td>\n",
              "      <td>0.023284</td>\n",
              "      <td>...</td>\n",
              "      <td>-0.073964</td>\n",
              "      <td>0.008658</td>\n",
              "      <td>0.002670</td>\n",
              "      <td>-0.013317</td>\n",
              "      <td>0.013981</td>\n",
              "      <td>0.031372</td>\n",
              "      <td>-0.038866</td>\n",
              "      <td>-0.027728</td>\n",
              "      <td>-0.041355</td>\n",
              "      <td>9.000000</td>\n",
              "    </tr>\n",
              "    <tr>\n",
              "      <th>75%</th>\n",
              "      <td>0.084283</td>\n",
              "      <td>0.044340</td>\n",
              "      <td>0.090223</td>\n",
              "      <td>0.057620</td>\n",
              "      <td>0.044881</td>\n",
              "      <td>0.045490</td>\n",
              "      <td>0.039619</td>\n",
              "      <td>0.085335</td>\n",
              "      <td>0.095681</td>\n",
              "      <td>0.087987</td>\n",
              "      <td>...</td>\n",
              "      <td>-0.016980</td>\n",
              "      <td>0.081867</td>\n",
              "      <td>0.072324</td>\n",
              "      <td>0.047496</td>\n",
              "      <td>0.075612</td>\n",
              "      <td>0.096782</td>\n",
              "      <td>0.027903</td>\n",
              "      <td>0.035672</td>\n",
              "      <td>0.027997</td>\n",
              "      <td>14.000000</td>\n",
              "    </tr>\n",
              "    <tr>\n",
              "      <th>max</th>\n",
              "      <td>0.395074</td>\n",
              "      <td>0.349664</td>\n",
              "      <td>0.362333</td>\n",
              "      <td>0.458418</td>\n",
              "      <td>0.348739</td>\n",
              "      <td>0.299201</td>\n",
              "      <td>0.332258</td>\n",
              "      <td>0.383198</td>\n",
              "      <td>0.362603</td>\n",
              "      <td>0.405487</td>\n",
              "      <td>...</td>\n",
              "      <td>0.297620</td>\n",
              "      <td>0.335404</td>\n",
              "      <td>0.348845</td>\n",
              "      <td>0.366530</td>\n",
              "      <td>0.332801</td>\n",
              "      <td>0.408487</td>\n",
              "      <td>0.338221</td>\n",
              "      <td>0.269387</td>\n",
              "      <td>0.397347</td>\n",
              "      <td>19.000000</td>\n",
              "    </tr>\n",
              "  </tbody>\n",
              "</table>\n",
              "<p>8 rows × 1025 columns</p>\n",
              "</div>\n",
              "      <button class=\"colab-df-convert\" onclick=\"convertToInteractive('df-ac75bd65-eac3-4397-9523-11fb0fb537c8')\"\n",
              "              title=\"Convert this dataframe to an interactive table.\"\n",
              "              style=\"display:none;\">\n",
              "        \n",
              "  <svg xmlns=\"http://www.w3.org/2000/svg\" height=\"24px\"viewBox=\"0 0 24 24\"\n",
              "       width=\"24px\">\n",
              "    <path d=\"M0 0h24v24H0V0z\" fill=\"none\"/>\n",
              "    <path d=\"M18.56 5.44l.94 2.06.94-2.06 2.06-.94-2.06-.94-.94-2.06-.94 2.06-2.06.94zm-11 1L8.5 8.5l.94-2.06 2.06-.94-2.06-.94L8.5 2.5l-.94 2.06-2.06.94zm10 10l.94 2.06.94-2.06 2.06-.94-2.06-.94-.94-2.06-.94 2.06-2.06.94z\"/><path d=\"M17.41 7.96l-1.37-1.37c-.4-.4-.92-.59-1.43-.59-.52 0-1.04.2-1.43.59L10.3 9.45l-7.72 7.72c-.78.78-.78 2.05 0 2.83L4 21.41c.39.39.9.59 1.41.59.51 0 1.02-.2 1.41-.59l7.78-7.78 2.81-2.81c.8-.78.8-2.07 0-2.86zM5.41 20L4 18.59l7.72-7.72 1.47 1.35L5.41 20z\"/>\n",
              "  </svg>\n",
              "      </button>\n",
              "      \n",
              "  <style>\n",
              "    .colab-df-container {\n",
              "      display:flex;\n",
              "      flex-wrap:wrap;\n",
              "      gap: 12px;\n",
              "    }\n",
              "\n",
              "    .colab-df-convert {\n",
              "      background-color: #E8F0FE;\n",
              "      border: none;\n",
              "      border-radius: 50%;\n",
              "      cursor: pointer;\n",
              "      display: none;\n",
              "      fill: #1967D2;\n",
              "      height: 32px;\n",
              "      padding: 0 0 0 0;\n",
              "      width: 32px;\n",
              "    }\n",
              "\n",
              "    .colab-df-convert:hover {\n",
              "      background-color: #E2EBFA;\n",
              "      box-shadow: 0px 1px 2px rgba(60, 64, 67, 0.3), 0px 1px 3px 1px rgba(60, 64, 67, 0.15);\n",
              "      fill: #174EA6;\n",
              "    }\n",
              "\n",
              "    [theme=dark] .colab-df-convert {\n",
              "      background-color: #3B4455;\n",
              "      fill: #D2E3FC;\n",
              "    }\n",
              "\n",
              "    [theme=dark] .colab-df-convert:hover {\n",
              "      background-color: #434B5C;\n",
              "      box-shadow: 0px 1px 3px 1px rgba(0, 0, 0, 0.15);\n",
              "      filter: drop-shadow(0px 1px 2px rgba(0, 0, 0, 0.3));\n",
              "      fill: #FFFFFF;\n",
              "    }\n",
              "  </style>\n",
              "\n",
              "      <script>\n",
              "        const buttonEl =\n",
              "          document.querySelector('#df-ac75bd65-eac3-4397-9523-11fb0fb537c8 button.colab-df-convert');\n",
              "        buttonEl.style.display =\n",
              "          google.colab.kernel.accessAllowed ? 'block' : 'none';\n",
              "\n",
              "        async function convertToInteractive(key) {\n",
              "          const element = document.querySelector('#df-ac75bd65-eac3-4397-9523-11fb0fb537c8');\n",
              "          const dataTable =\n",
              "            await google.colab.kernel.invokeFunction('convertToInteractive',\n",
              "                                                     [key], {});\n",
              "          if (!dataTable) return;\n",
              "\n",
              "          const docLinkHtml = 'Like what you see? Visit the ' +\n",
              "            '<a target=\"_blank\" href=https://colab.research.google.com/notebooks/data_table.ipynb>data table notebook</a>'\n",
              "            + ' to learn more about interactive tables.';\n",
              "          element.innerHTML = '';\n",
              "          dataTable['output_type'] = 'display_data';\n",
              "          await google.colab.output.renderOutput(dataTable, element);\n",
              "          const docLink = document.createElement('div');\n",
              "          docLink.innerHTML = docLinkHtml;\n",
              "          element.appendChild(docLink);\n",
              "        }\n",
              "      </script>\n",
              "    </div>\n",
              "  </div>\n",
              "  "
            ],
            "text/plain": [
              "                 0            1            2            3            4  \\\n",
              "count  4838.000000  4838.000000  4838.000000  4838.000000  4838.000000   \n",
              "mean      0.019168    -0.022599     0.035491    -0.019450    -0.017545   \n",
              "std       0.095088     0.102033     0.086396     0.108001     0.093927   \n",
              "min      -0.313614    -0.392648    -0.306888    -0.415112    -0.401939   \n",
              "25%      -0.044571    -0.087480    -0.019486    -0.095784    -0.079855   \n",
              "50%       0.021354    -0.019360     0.033459    -0.021299    -0.018288   \n",
              "75%       0.084283     0.044340     0.090223     0.057620     0.044881   \n",
              "max       0.395074     0.349664     0.362333     0.458418     0.348739   \n",
              "\n",
              "                 5            6            7            8            9  ...  \\\n",
              "count  4838.000000  4838.000000  4838.000000  4838.000000  4838.000000  ...   \n",
              "mean     -0.019388    -0.019534     0.024716     0.020267     0.026543  ...   \n",
              "std       0.096212     0.092533     0.090297     0.104411     0.095487  ...   \n",
              "min      -0.434932    -0.392633    -0.356784    -0.403610    -0.429651  ...   \n",
              "25%      -0.085644    -0.080015    -0.032204    -0.054154    -0.035197  ...   \n",
              "50%      -0.019253    -0.019093     0.026324     0.021581     0.023284  ...   \n",
              "75%       0.045490     0.039619     0.085335     0.095681     0.087987  ...   \n",
              "max       0.299201     0.332258     0.383198     0.362603     0.405487  ...   \n",
              "\n",
              "              1015         1016         1017         1018         1019  \\\n",
              "count  4838.000000  4838.000000  4838.000000  4838.000000  4838.000000   \n",
              "mean     -0.072606     0.004881    -0.001985    -0.012131     0.015308   \n",
              "std       0.089689     0.105670     0.104912     0.091697     0.088369   \n",
              "min      -0.462560    -0.378890    -0.416137    -0.317967    -0.303003   \n",
              "25%      -0.130295    -0.069105    -0.075062    -0.073711    -0.044486   \n",
              "50%      -0.073964     0.008658     0.002670    -0.013317     0.013981   \n",
              "75%      -0.016980     0.081867     0.072324     0.047496     0.075612   \n",
              "max       0.297620     0.335404     0.348845     0.366530     0.332801   \n",
              "\n",
              "              1020         1021         1022         1023       labels  \n",
              "count  4838.000000  4838.000000  4838.000000  4838.000000  4838.000000  \n",
              "mean      0.036107    -0.038376    -0.026781    -0.044878     9.335883  \n",
              "std       0.094067     0.097099     0.089290     0.107645     5.782016  \n",
              "min      -0.342677    -0.375629    -0.356416    -0.445757     0.000000  \n",
              "25%      -0.026911    -0.103189    -0.088906    -0.116825     4.000000  \n",
              "50%       0.031372    -0.038866    -0.027728    -0.041355     9.000000  \n",
              "75%       0.096782     0.027903     0.035672     0.027997    14.000000  \n",
              "max       0.408487     0.338221     0.269387     0.397347    19.000000  \n",
              "\n",
              "[8 rows x 1025 columns]"
            ]
          },
          "execution_count": 21,
          "metadata": {},
          "output_type": "execute_result"
        }
      ],
      "source": [
        "df_train.describe()"
      ]
    },
    {
      "cell_type": "code",
      "execution_count": null,
      "metadata": {
        "id": "OG2cK7uPUWvq"
      },
      "outputs": [],
      "source": [
        "df_train.to_csv(\"Training_Features.csv\",index=False)"
      ]
    },
    {
      "cell_type": "markdown",
      "metadata": {
        "id": "IegDbaiIU3lW"
      },
      "source": [
        "# Extracting Test Features"
      ]
    },
    {
      "cell_type": "code",
      "execution_count": null,
      "metadata": {
        "id": "3OT4n4VpU6hh"
      },
      "outputs": [],
      "source": [
        "x_test=[]\n",
        "y_test=[]\n",
        "for image,label in validloader:\n",
        "  image=image.to('cuda')\n",
        "  label=label.to('cuda')\n",
        "  output=model(image)\n",
        "  #Now appending the output to x_train\n",
        "  output=output.detach().cpu().numpy()\n",
        "  x_test.append(output)\n",
        "  label=label.cpu().detach().numpy()\n",
        "  #label=label.numpy()\n",
        "  label=label.astype('int')\n",
        "  y_test.append(label)\n",
        "  torch.cuda.empty_cache()"
      ]
    },
    {
      "cell_type": "code",
      "execution_count": null,
      "metadata": {
        "id": "sLtc0a6PVGX8"
      },
      "outputs": [],
      "source": [
        "from itertools import chain\n",
        "\n",
        "x_val_features=list(chain.from_iterable(x_test))\n",
        "y_val=list(chain.from_iterable(y_test))\n"
      ]
    },
    {
      "cell_type": "code",
      "execution_count": null,
      "metadata": {
        "colab": {
          "base_uri": "https://localhost:8080/"
        },
        "id": "dVWSbBLWVQWd",
        "outputId": "e58e902d-ca92-418e-c2bf-61dc2723027f"
      },
      "outputs": [
        {
          "name": "stdout",
          "output_type": "stream",
          "text": [
            "Total Training elements:  955\n",
            "Total Training Labels:  955\n"
          ]
        }
      ],
      "source": [
        "print(\"Total Training elements: \",len(x_val_features))\n",
        "print(\"Total Training Labels: \",len(y_val))"
      ]
    },
    {
      "cell_type": "code",
      "execution_count": null,
      "metadata": {
        "colab": {
          "base_uri": "https://localhost:8080/"
        },
        "id": "DglxkmTTVhxU",
        "outputId": "6d96fad6-ce6b-44a7-b14b-30b5e52563df"
      },
      "outputs": [
        {
          "name": "stdout",
          "output_type": "stream",
          "text": [
            "Shape of Testing features:  (955, 1024)\n"
          ]
        }
      ],
      "source": [
        "x_val_features = np.array(x_val_features)\n",
        "print(\"Shape of Testing features: \",x_val_features.shape)"
      ]
    },
    {
      "cell_type": "code",
      "execution_count": null,
      "metadata": {
        "colab": {
          "base_uri": "https://localhost:8080/"
        },
        "id": "KTUlsK7BVslb",
        "outputId": "26890a6f-22e0-4f07-a25e-ac270398620a"
      },
      "outputs": [
        {
          "name": "stdout",
          "output_type": "stream",
          "text": [
            "Shape of Training Labels:  (955,)\n"
          ]
        }
      ],
      "source": [
        "y_val=np.array(y_val)\n",
        "print(\"Shape of Training Labels: \",y_val.shape)"
      ]
    },
    {
      "cell_type": "code",
      "execution_count": null,
      "metadata": {
        "colab": {
          "base_uri": "https://localhost:8080/",
          "height": 300
        },
        "id": "ivQRfjGcVxyk",
        "outputId": "1fd3b177-7a61-441a-a74a-476557660362"
      },
      "outputs": [
        {
          "data": {
            "text/html": [
              "\n",
              "  <div id=\"df-bc1e7077-ebd4-49ce-bf07-db1f50dc0e37\">\n",
              "    <div class=\"colab-df-container\">\n",
              "      <div>\n",
              "<style scoped>\n",
              "    .dataframe tbody tr th:only-of-type {\n",
              "        vertical-align: middle;\n",
              "    }\n",
              "\n",
              "    .dataframe tbody tr th {\n",
              "        vertical-align: top;\n",
              "    }\n",
              "\n",
              "    .dataframe thead th {\n",
              "        text-align: right;\n",
              "    }\n",
              "</style>\n",
              "<table border=\"1\" class=\"dataframe\">\n",
              "  <thead>\n",
              "    <tr style=\"text-align: right;\">\n",
              "      <th></th>\n",
              "      <th>0</th>\n",
              "      <th>1</th>\n",
              "      <th>2</th>\n",
              "      <th>3</th>\n",
              "      <th>4</th>\n",
              "      <th>5</th>\n",
              "      <th>6</th>\n",
              "      <th>7</th>\n",
              "      <th>8</th>\n",
              "      <th>9</th>\n",
              "      <th>...</th>\n",
              "      <th>1015</th>\n",
              "      <th>1016</th>\n",
              "      <th>1017</th>\n",
              "      <th>1018</th>\n",
              "      <th>1019</th>\n",
              "      <th>1020</th>\n",
              "      <th>1021</th>\n",
              "      <th>1022</th>\n",
              "      <th>1023</th>\n",
              "      <th>labels</th>\n",
              "    </tr>\n",
              "  </thead>\n",
              "  <tbody>\n",
              "    <tr>\n",
              "      <th>0</th>\n",
              "      <td>0.132433</td>\n",
              "      <td>-0.142045</td>\n",
              "      <td>0.081715</td>\n",
              "      <td>-0.132608</td>\n",
              "      <td>0.095257</td>\n",
              "      <td>0.077108</td>\n",
              "      <td>-0.103814</td>\n",
              "      <td>-0.042164</td>\n",
              "      <td>-0.058999</td>\n",
              "      <td>0.174292</td>\n",
              "      <td>...</td>\n",
              "      <td>-0.266954</td>\n",
              "      <td>0.082075</td>\n",
              "      <td>-0.032174</td>\n",
              "      <td>-0.128906</td>\n",
              "      <td>0.200041</td>\n",
              "      <td>0.120342</td>\n",
              "      <td>0.008604</td>\n",
              "      <td>-0.015417</td>\n",
              "      <td>0.032807</td>\n",
              "      <td>16</td>\n",
              "    </tr>\n",
              "    <tr>\n",
              "      <th>1</th>\n",
              "      <td>-0.041785</td>\n",
              "      <td>0.115359</td>\n",
              "      <td>-0.030285</td>\n",
              "      <td>-0.054629</td>\n",
              "      <td>0.008766</td>\n",
              "      <td>-0.134834</td>\n",
              "      <td>0.026097</td>\n",
              "      <td>0.088248</td>\n",
              "      <td>0.118610</td>\n",
              "      <td>0.062116</td>\n",
              "      <td>...</td>\n",
              "      <td>-0.018704</td>\n",
              "      <td>0.082625</td>\n",
              "      <td>0.091297</td>\n",
              "      <td>0.027602</td>\n",
              "      <td>0.028534</td>\n",
              "      <td>-0.100840</td>\n",
              "      <td>-0.029999</td>\n",
              "      <td>-0.107739</td>\n",
              "      <td>-0.075827</td>\n",
              "      <td>3</td>\n",
              "    </tr>\n",
              "    <tr>\n",
              "      <th>2</th>\n",
              "      <td>0.068038</td>\n",
              "      <td>-0.051134</td>\n",
              "      <td>0.115951</td>\n",
              "      <td>-0.131914</td>\n",
              "      <td>0.042394</td>\n",
              "      <td>0.128213</td>\n",
              "      <td>-0.048435</td>\n",
              "      <td>0.044379</td>\n",
              "      <td>-0.138237</td>\n",
              "      <td>0.152022</td>\n",
              "      <td>...</td>\n",
              "      <td>-0.245336</td>\n",
              "      <td>0.221131</td>\n",
              "      <td>0.001236</td>\n",
              "      <td>0.071396</td>\n",
              "      <td>0.172162</td>\n",
              "      <td>0.164186</td>\n",
              "      <td>0.114202</td>\n",
              "      <td>0.006890</td>\n",
              "      <td>0.068698</td>\n",
              "      <td>1</td>\n",
              "    </tr>\n",
              "    <tr>\n",
              "      <th>3</th>\n",
              "      <td>0.070496</td>\n",
              "      <td>-0.176885</td>\n",
              "      <td>-0.043217</td>\n",
              "      <td>-0.054497</td>\n",
              "      <td>0.124631</td>\n",
              "      <td>0.089650</td>\n",
              "      <td>-0.100124</td>\n",
              "      <td>0.107247</td>\n",
              "      <td>0.026977</td>\n",
              "      <td>0.009908</td>\n",
              "      <td>...</td>\n",
              "      <td>-0.065832</td>\n",
              "      <td>-0.032463</td>\n",
              "      <td>0.010540</td>\n",
              "      <td>0.024150</td>\n",
              "      <td>-0.119113</td>\n",
              "      <td>0.033352</td>\n",
              "      <td>-0.037808</td>\n",
              "      <td>-0.175008</td>\n",
              "      <td>-0.139275</td>\n",
              "      <td>17</td>\n",
              "    </tr>\n",
              "    <tr>\n",
              "      <th>4</th>\n",
              "      <td>0.177383</td>\n",
              "      <td>0.016896</td>\n",
              "      <td>0.038780</td>\n",
              "      <td>-0.042657</td>\n",
              "      <td>-0.070296</td>\n",
              "      <td>-0.038681</td>\n",
              "      <td>-0.072314</td>\n",
              "      <td>0.102186</td>\n",
              "      <td>-0.024626</td>\n",
              "      <td>0.071009</td>\n",
              "      <td>...</td>\n",
              "      <td>0.014427</td>\n",
              "      <td>-0.013205</td>\n",
              "      <td>0.083172</td>\n",
              "      <td>-0.100839</td>\n",
              "      <td>-0.057534</td>\n",
              "      <td>-0.040208</td>\n",
              "      <td>0.154625</td>\n",
              "      <td>-0.110709</td>\n",
              "      <td>0.015896</td>\n",
              "      <td>0</td>\n",
              "    </tr>\n",
              "  </tbody>\n",
              "</table>\n",
              "<p>5 rows × 1025 columns</p>\n",
              "</div>\n",
              "      <button class=\"colab-df-convert\" onclick=\"convertToInteractive('df-bc1e7077-ebd4-49ce-bf07-db1f50dc0e37')\"\n",
              "              title=\"Convert this dataframe to an interactive table.\"\n",
              "              style=\"display:none;\">\n",
              "        \n",
              "  <svg xmlns=\"http://www.w3.org/2000/svg\" height=\"24px\"viewBox=\"0 0 24 24\"\n",
              "       width=\"24px\">\n",
              "    <path d=\"M0 0h24v24H0V0z\" fill=\"none\"/>\n",
              "    <path d=\"M18.56 5.44l.94 2.06.94-2.06 2.06-.94-2.06-.94-.94-2.06-.94 2.06-2.06.94zm-11 1L8.5 8.5l.94-2.06 2.06-.94-2.06-.94L8.5 2.5l-.94 2.06-2.06.94zm10 10l.94 2.06.94-2.06 2.06-.94-2.06-.94-.94-2.06-.94 2.06-2.06.94z\"/><path d=\"M17.41 7.96l-1.37-1.37c-.4-.4-.92-.59-1.43-.59-.52 0-1.04.2-1.43.59L10.3 9.45l-7.72 7.72c-.78.78-.78 2.05 0 2.83L4 21.41c.39.39.9.59 1.41.59.51 0 1.02-.2 1.41-.59l7.78-7.78 2.81-2.81c.8-.78.8-2.07 0-2.86zM5.41 20L4 18.59l7.72-7.72 1.47 1.35L5.41 20z\"/>\n",
              "  </svg>\n",
              "      </button>\n",
              "      \n",
              "  <style>\n",
              "    .colab-df-container {\n",
              "      display:flex;\n",
              "      flex-wrap:wrap;\n",
              "      gap: 12px;\n",
              "    }\n",
              "\n",
              "    .colab-df-convert {\n",
              "      background-color: #E8F0FE;\n",
              "      border: none;\n",
              "      border-radius: 50%;\n",
              "      cursor: pointer;\n",
              "      display: none;\n",
              "      fill: #1967D2;\n",
              "      height: 32px;\n",
              "      padding: 0 0 0 0;\n",
              "      width: 32px;\n",
              "    }\n",
              "\n",
              "    .colab-df-convert:hover {\n",
              "      background-color: #E2EBFA;\n",
              "      box-shadow: 0px 1px 2px rgba(60, 64, 67, 0.3), 0px 1px 3px 1px rgba(60, 64, 67, 0.15);\n",
              "      fill: #174EA6;\n",
              "    }\n",
              "\n",
              "    [theme=dark] .colab-df-convert {\n",
              "      background-color: #3B4455;\n",
              "      fill: #D2E3FC;\n",
              "    }\n",
              "\n",
              "    [theme=dark] .colab-df-convert:hover {\n",
              "      background-color: #434B5C;\n",
              "      box-shadow: 0px 1px 3px 1px rgba(0, 0, 0, 0.15);\n",
              "      filter: drop-shadow(0px 1px 2px rgba(0, 0, 0, 0.3));\n",
              "      fill: #FFFFFF;\n",
              "    }\n",
              "  </style>\n",
              "\n",
              "      <script>\n",
              "        const buttonEl =\n",
              "          document.querySelector('#df-bc1e7077-ebd4-49ce-bf07-db1f50dc0e37 button.colab-df-convert');\n",
              "        buttonEl.style.display =\n",
              "          google.colab.kernel.accessAllowed ? 'block' : 'none';\n",
              "\n",
              "        async function convertToInteractive(key) {\n",
              "          const element = document.querySelector('#df-bc1e7077-ebd4-49ce-bf07-db1f50dc0e37');\n",
              "          const dataTable =\n",
              "            await google.colab.kernel.invokeFunction('convertToInteractive',\n",
              "                                                     [key], {});\n",
              "          if (!dataTable) return;\n",
              "\n",
              "          const docLinkHtml = 'Like what you see? Visit the ' +\n",
              "            '<a target=\"_blank\" href=https://colab.research.google.com/notebooks/data_table.ipynb>data table notebook</a>'\n",
              "            + ' to learn more about interactive tables.';\n",
              "          element.innerHTML = '';\n",
              "          dataTable['output_type'] = 'display_data';\n",
              "          await google.colab.output.renderOutput(dataTable, element);\n",
              "          const docLink = document.createElement('div');\n",
              "          docLink.innerHTML = docLinkHtml;\n",
              "          element.appendChild(docLink);\n",
              "        }\n",
              "      </script>\n",
              "    </div>\n",
              "  </div>\n",
              "  "
            ],
            "text/plain": [
              "          0         1         2         3         4         5         6  \\\n",
              "0  0.132433 -0.142045  0.081715 -0.132608  0.095257  0.077108 -0.103814   \n",
              "1 -0.041785  0.115359 -0.030285 -0.054629  0.008766 -0.134834  0.026097   \n",
              "2  0.068038 -0.051134  0.115951 -0.131914  0.042394  0.128213 -0.048435   \n",
              "3  0.070496 -0.176885 -0.043217 -0.054497  0.124631  0.089650 -0.100124   \n",
              "4  0.177383  0.016896  0.038780 -0.042657 -0.070296 -0.038681 -0.072314   \n",
              "\n",
              "          7         8         9  ...      1015      1016      1017      1018  \\\n",
              "0 -0.042164 -0.058999  0.174292  ... -0.266954  0.082075 -0.032174 -0.128906   \n",
              "1  0.088248  0.118610  0.062116  ... -0.018704  0.082625  0.091297  0.027602   \n",
              "2  0.044379 -0.138237  0.152022  ... -0.245336  0.221131  0.001236  0.071396   \n",
              "3  0.107247  0.026977  0.009908  ... -0.065832 -0.032463  0.010540  0.024150   \n",
              "4  0.102186 -0.024626  0.071009  ...  0.014427 -0.013205  0.083172 -0.100839   \n",
              "\n",
              "       1019      1020      1021      1022      1023  labels  \n",
              "0  0.200041  0.120342  0.008604 -0.015417  0.032807      16  \n",
              "1  0.028534 -0.100840 -0.029999 -0.107739 -0.075827       3  \n",
              "2  0.172162  0.164186  0.114202  0.006890  0.068698       1  \n",
              "3 -0.119113  0.033352 -0.037808 -0.175008 -0.139275      17  \n",
              "4 -0.057534 -0.040208  0.154625 -0.110709  0.015896       0  \n",
              "\n",
              "[5 rows x 1025 columns]"
            ]
          },
          "execution_count": 28,
          "metadata": {},
          "output_type": "execute_result"
        }
      ],
      "source": [
        "#Converting them to pandas and saving them\n",
        "label_val=y_val.tolist()\n",
        "df_val=pd.DataFrame(x_val_features)\n",
        "df_val=df_val.assign(labels=label_val)\n",
        "df_val.head()"
      ]
    },
    {
      "cell_type": "code",
      "execution_count": null,
      "metadata": {
        "colab": {
          "base_uri": "https://localhost:8080/",
          "height": 394
        },
        "id": "B9JvvKwbWrAl",
        "outputId": "75dc659e-d356-40af-c47a-1a09322a77a0"
      },
      "outputs": [
        {
          "data": {
            "text/html": [
              "\n",
              "  <div id=\"df-5539c045-0352-47d9-a8cf-7909e702e631\">\n",
              "    <div class=\"colab-df-container\">\n",
              "      <div>\n",
              "<style scoped>\n",
              "    .dataframe tbody tr th:only-of-type {\n",
              "        vertical-align: middle;\n",
              "    }\n",
              "\n",
              "    .dataframe tbody tr th {\n",
              "        vertical-align: top;\n",
              "    }\n",
              "\n",
              "    .dataframe thead th {\n",
              "        text-align: right;\n",
              "    }\n",
              "</style>\n",
              "<table border=\"1\" class=\"dataframe\">\n",
              "  <thead>\n",
              "    <tr style=\"text-align: right;\">\n",
              "      <th></th>\n",
              "      <th>0</th>\n",
              "      <th>1</th>\n",
              "      <th>2</th>\n",
              "      <th>3</th>\n",
              "      <th>4</th>\n",
              "      <th>5</th>\n",
              "      <th>6</th>\n",
              "      <th>7</th>\n",
              "      <th>8</th>\n",
              "      <th>9</th>\n",
              "      <th>...</th>\n",
              "      <th>1015</th>\n",
              "      <th>1016</th>\n",
              "      <th>1017</th>\n",
              "      <th>1018</th>\n",
              "      <th>1019</th>\n",
              "      <th>1020</th>\n",
              "      <th>1021</th>\n",
              "      <th>1022</th>\n",
              "      <th>1023</th>\n",
              "      <th>labels</th>\n",
              "    </tr>\n",
              "  </thead>\n",
              "  <tbody>\n",
              "    <tr>\n",
              "      <th>count</th>\n",
              "      <td>955.000000</td>\n",
              "      <td>955.000000</td>\n",
              "      <td>955.000000</td>\n",
              "      <td>955.000000</td>\n",
              "      <td>955.000000</td>\n",
              "      <td>955.000000</td>\n",
              "      <td>955.000000</td>\n",
              "      <td>955.000000</td>\n",
              "      <td>955.000000</td>\n",
              "      <td>955.000000</td>\n",
              "      <td>...</td>\n",
              "      <td>955.000000</td>\n",
              "      <td>955.000000</td>\n",
              "      <td>955.000000</td>\n",
              "      <td>955.000000</td>\n",
              "      <td>955.000000</td>\n",
              "      <td>955.000000</td>\n",
              "      <td>955.000000</td>\n",
              "      <td>955.000000</td>\n",
              "      <td>955.000000</td>\n",
              "      <td>955.000000</td>\n",
              "    </tr>\n",
              "    <tr>\n",
              "      <th>mean</th>\n",
              "      <td>0.016369</td>\n",
              "      <td>-0.024647</td>\n",
              "      <td>0.036376</td>\n",
              "      <td>-0.021070</td>\n",
              "      <td>-0.021060</td>\n",
              "      <td>-0.018986</td>\n",
              "      <td>-0.022439</td>\n",
              "      <td>0.031719</td>\n",
              "      <td>0.024113</td>\n",
              "      <td>0.025904</td>\n",
              "      <td>...</td>\n",
              "      <td>-0.072130</td>\n",
              "      <td>0.003416</td>\n",
              "      <td>-0.004638</td>\n",
              "      <td>-0.013198</td>\n",
              "      <td>0.020189</td>\n",
              "      <td>0.033696</td>\n",
              "      <td>-0.039860</td>\n",
              "      <td>-0.027999</td>\n",
              "      <td>-0.047094</td>\n",
              "      <td>9.272251</td>\n",
              "    </tr>\n",
              "    <tr>\n",
              "      <th>std</th>\n",
              "      <td>0.095725</td>\n",
              "      <td>0.104918</td>\n",
              "      <td>0.087118</td>\n",
              "      <td>0.104762</td>\n",
              "      <td>0.094975</td>\n",
              "      <td>0.095582</td>\n",
              "      <td>0.090908</td>\n",
              "      <td>0.088329</td>\n",
              "      <td>0.105331</td>\n",
              "      <td>0.095979</td>\n",
              "      <td>...</td>\n",
              "      <td>0.090980</td>\n",
              "      <td>0.106607</td>\n",
              "      <td>0.106239</td>\n",
              "      <td>0.092832</td>\n",
              "      <td>0.088900</td>\n",
              "      <td>0.091949</td>\n",
              "      <td>0.098055</td>\n",
              "      <td>0.087380</td>\n",
              "      <td>0.105563</td>\n",
              "      <td>5.802408</td>\n",
              "    </tr>\n",
              "    <tr>\n",
              "      <th>min</th>\n",
              "      <td>-0.282806</td>\n",
              "      <td>-0.406602</td>\n",
              "      <td>-0.269471</td>\n",
              "      <td>-0.321042</td>\n",
              "      <td>-0.411489</td>\n",
              "      <td>-0.323297</td>\n",
              "      <td>-0.502884</td>\n",
              "      <td>-0.335026</td>\n",
              "      <td>-0.365415</td>\n",
              "      <td>-0.408513</td>\n",
              "      <td>...</td>\n",
              "      <td>-0.390988</td>\n",
              "      <td>-0.287984</td>\n",
              "      <td>-0.400780</td>\n",
              "      <td>-0.309717</td>\n",
              "      <td>-0.308936</td>\n",
              "      <td>-0.293856</td>\n",
              "      <td>-0.316191</td>\n",
              "      <td>-0.332908</td>\n",
              "      <td>-0.386937</td>\n",
              "      <td>0.000000</td>\n",
              "    </tr>\n",
              "    <tr>\n",
              "      <th>25%</th>\n",
              "      <td>-0.045356</td>\n",
              "      <td>-0.092078</td>\n",
              "      <td>-0.014635</td>\n",
              "      <td>-0.096910</td>\n",
              "      <td>-0.080728</td>\n",
              "      <td>-0.085500</td>\n",
              "      <td>-0.083150</td>\n",
              "      <td>-0.022109</td>\n",
              "      <td>-0.045510</td>\n",
              "      <td>-0.040129</td>\n",
              "      <td>...</td>\n",
              "      <td>-0.131706</td>\n",
              "      <td>-0.069062</td>\n",
              "      <td>-0.075556</td>\n",
              "      <td>-0.075848</td>\n",
              "      <td>-0.039885</td>\n",
              "      <td>-0.026791</td>\n",
              "      <td>-0.110885</td>\n",
              "      <td>-0.089520</td>\n",
              "      <td>-0.120027</td>\n",
              "      <td>4.000000</td>\n",
              "    </tr>\n",
              "    <tr>\n",
              "      <th>50%</th>\n",
              "      <td>0.015386</td>\n",
              "      <td>-0.016566</td>\n",
              "      <td>0.034500</td>\n",
              "      <td>-0.025820</td>\n",
              "      <td>-0.023066</td>\n",
              "      <td>-0.017306</td>\n",
              "      <td>-0.023473</td>\n",
              "      <td>0.034826</td>\n",
              "      <td>0.026977</td>\n",
              "      <td>0.021793</td>\n",
              "      <td>...</td>\n",
              "      <td>-0.069674</td>\n",
              "      <td>0.007406</td>\n",
              "      <td>-0.002505</td>\n",
              "      <td>-0.011152</td>\n",
              "      <td>0.019925</td>\n",
              "      <td>0.029142</td>\n",
              "      <td>-0.040539</td>\n",
              "      <td>-0.029605</td>\n",
              "      <td>-0.046177</td>\n",
              "      <td>9.000000</td>\n",
              "    </tr>\n",
              "    <tr>\n",
              "      <th>75%</th>\n",
              "      <td>0.081194</td>\n",
              "      <td>0.045813</td>\n",
              "      <td>0.092404</td>\n",
              "      <td>0.054858</td>\n",
              "      <td>0.042391</td>\n",
              "      <td>0.049683</td>\n",
              "      <td>0.033484</td>\n",
              "      <td>0.090475</td>\n",
              "      <td>0.095546</td>\n",
              "      <td>0.088252</td>\n",
              "      <td>...</td>\n",
              "      <td>-0.011028</td>\n",
              "      <td>0.082455</td>\n",
              "      <td>0.071088</td>\n",
              "      <td>0.050350</td>\n",
              "      <td>0.079642</td>\n",
              "      <td>0.089680</td>\n",
              "      <td>0.029051</td>\n",
              "      <td>0.031527</td>\n",
              "      <td>0.027293</td>\n",
              "      <td>14.000000</td>\n",
              "    </tr>\n",
              "    <tr>\n",
              "      <th>max</th>\n",
              "      <td>0.287549</td>\n",
              "      <td>0.282038</td>\n",
              "      <td>0.390489</td>\n",
              "      <td>0.295539</td>\n",
              "      <td>0.283418</td>\n",
              "      <td>0.285569</td>\n",
              "      <td>0.268040</td>\n",
              "      <td>0.325700</td>\n",
              "      <td>0.360114</td>\n",
              "      <td>0.318840</td>\n",
              "      <td>...</td>\n",
              "      <td>0.252298</td>\n",
              "      <td>0.316434</td>\n",
              "      <td>0.288132</td>\n",
              "      <td>0.335036</td>\n",
              "      <td>0.259350</td>\n",
              "      <td>0.370250</td>\n",
              "      <td>0.341191</td>\n",
              "      <td>0.320509</td>\n",
              "      <td>0.276335</td>\n",
              "      <td>19.000000</td>\n",
              "    </tr>\n",
              "  </tbody>\n",
              "</table>\n",
              "<p>8 rows × 1025 columns</p>\n",
              "</div>\n",
              "      <button class=\"colab-df-convert\" onclick=\"convertToInteractive('df-5539c045-0352-47d9-a8cf-7909e702e631')\"\n",
              "              title=\"Convert this dataframe to an interactive table.\"\n",
              "              style=\"display:none;\">\n",
              "        \n",
              "  <svg xmlns=\"http://www.w3.org/2000/svg\" height=\"24px\"viewBox=\"0 0 24 24\"\n",
              "       width=\"24px\">\n",
              "    <path d=\"M0 0h24v24H0V0z\" fill=\"none\"/>\n",
              "    <path d=\"M18.56 5.44l.94 2.06.94-2.06 2.06-.94-2.06-.94-.94-2.06-.94 2.06-2.06.94zm-11 1L8.5 8.5l.94-2.06 2.06-.94-2.06-.94L8.5 2.5l-.94 2.06-2.06.94zm10 10l.94 2.06.94-2.06 2.06-.94-2.06-.94-.94-2.06-.94 2.06-2.06.94z\"/><path d=\"M17.41 7.96l-1.37-1.37c-.4-.4-.92-.59-1.43-.59-.52 0-1.04.2-1.43.59L10.3 9.45l-7.72 7.72c-.78.78-.78 2.05 0 2.83L4 21.41c.39.39.9.59 1.41.59.51 0 1.02-.2 1.41-.59l7.78-7.78 2.81-2.81c.8-.78.8-2.07 0-2.86zM5.41 20L4 18.59l7.72-7.72 1.47 1.35L5.41 20z\"/>\n",
              "  </svg>\n",
              "      </button>\n",
              "      \n",
              "  <style>\n",
              "    .colab-df-container {\n",
              "      display:flex;\n",
              "      flex-wrap:wrap;\n",
              "      gap: 12px;\n",
              "    }\n",
              "\n",
              "    .colab-df-convert {\n",
              "      background-color: #E8F0FE;\n",
              "      border: none;\n",
              "      border-radius: 50%;\n",
              "      cursor: pointer;\n",
              "      display: none;\n",
              "      fill: #1967D2;\n",
              "      height: 32px;\n",
              "      padding: 0 0 0 0;\n",
              "      width: 32px;\n",
              "    }\n",
              "\n",
              "    .colab-df-convert:hover {\n",
              "      background-color: #E2EBFA;\n",
              "      box-shadow: 0px 1px 2px rgba(60, 64, 67, 0.3), 0px 1px 3px 1px rgba(60, 64, 67, 0.15);\n",
              "      fill: #174EA6;\n",
              "    }\n",
              "\n",
              "    [theme=dark] .colab-df-convert {\n",
              "      background-color: #3B4455;\n",
              "      fill: #D2E3FC;\n",
              "    }\n",
              "\n",
              "    [theme=dark] .colab-df-convert:hover {\n",
              "      background-color: #434B5C;\n",
              "      box-shadow: 0px 1px 3px 1px rgba(0, 0, 0, 0.15);\n",
              "      filter: drop-shadow(0px 1px 2px rgba(0, 0, 0, 0.3));\n",
              "      fill: #FFFFFF;\n",
              "    }\n",
              "  </style>\n",
              "\n",
              "      <script>\n",
              "        const buttonEl =\n",
              "          document.querySelector('#df-5539c045-0352-47d9-a8cf-7909e702e631 button.colab-df-convert');\n",
              "        buttonEl.style.display =\n",
              "          google.colab.kernel.accessAllowed ? 'block' : 'none';\n",
              "\n",
              "        async function convertToInteractive(key) {\n",
              "          const element = document.querySelector('#df-5539c045-0352-47d9-a8cf-7909e702e631');\n",
              "          const dataTable =\n",
              "            await google.colab.kernel.invokeFunction('convertToInteractive',\n",
              "                                                     [key], {});\n",
              "          if (!dataTable) return;\n",
              "\n",
              "          const docLinkHtml = 'Like what you see? Visit the ' +\n",
              "            '<a target=\"_blank\" href=https://colab.research.google.com/notebooks/data_table.ipynb>data table notebook</a>'\n",
              "            + ' to learn more about interactive tables.';\n",
              "          element.innerHTML = '';\n",
              "          dataTable['output_type'] = 'display_data';\n",
              "          await google.colab.output.renderOutput(dataTable, element);\n",
              "          const docLink = document.createElement('div');\n",
              "          docLink.innerHTML = docLinkHtml;\n",
              "          element.appendChild(docLink);\n",
              "        }\n",
              "      </script>\n",
              "    </div>\n",
              "  </div>\n",
              "  "
            ],
            "text/plain": [
              "                0           1           2           3           4           5  \\\n",
              "count  955.000000  955.000000  955.000000  955.000000  955.000000  955.000000   \n",
              "mean     0.016369   -0.024647    0.036376   -0.021070   -0.021060   -0.018986   \n",
              "std      0.095725    0.104918    0.087118    0.104762    0.094975    0.095582   \n",
              "min     -0.282806   -0.406602   -0.269471   -0.321042   -0.411489   -0.323297   \n",
              "25%     -0.045356   -0.092078   -0.014635   -0.096910   -0.080728   -0.085500   \n",
              "50%      0.015386   -0.016566    0.034500   -0.025820   -0.023066   -0.017306   \n",
              "75%      0.081194    0.045813    0.092404    0.054858    0.042391    0.049683   \n",
              "max      0.287549    0.282038    0.390489    0.295539    0.283418    0.285569   \n",
              "\n",
              "                6           7           8           9  ...        1015  \\\n",
              "count  955.000000  955.000000  955.000000  955.000000  ...  955.000000   \n",
              "mean    -0.022439    0.031719    0.024113    0.025904  ...   -0.072130   \n",
              "std      0.090908    0.088329    0.105331    0.095979  ...    0.090980   \n",
              "min     -0.502884   -0.335026   -0.365415   -0.408513  ...   -0.390988   \n",
              "25%     -0.083150   -0.022109   -0.045510   -0.040129  ...   -0.131706   \n",
              "50%     -0.023473    0.034826    0.026977    0.021793  ...   -0.069674   \n",
              "75%      0.033484    0.090475    0.095546    0.088252  ...   -0.011028   \n",
              "max      0.268040    0.325700    0.360114    0.318840  ...    0.252298   \n",
              "\n",
              "             1016        1017        1018        1019        1020        1021  \\\n",
              "count  955.000000  955.000000  955.000000  955.000000  955.000000  955.000000   \n",
              "mean     0.003416   -0.004638   -0.013198    0.020189    0.033696   -0.039860   \n",
              "std      0.106607    0.106239    0.092832    0.088900    0.091949    0.098055   \n",
              "min     -0.287984   -0.400780   -0.309717   -0.308936   -0.293856   -0.316191   \n",
              "25%     -0.069062   -0.075556   -0.075848   -0.039885   -0.026791   -0.110885   \n",
              "50%      0.007406   -0.002505   -0.011152    0.019925    0.029142   -0.040539   \n",
              "75%      0.082455    0.071088    0.050350    0.079642    0.089680    0.029051   \n",
              "max      0.316434    0.288132    0.335036    0.259350    0.370250    0.341191   \n",
              "\n",
              "             1022        1023      labels  \n",
              "count  955.000000  955.000000  955.000000  \n",
              "mean    -0.027999   -0.047094    9.272251  \n",
              "std      0.087380    0.105563    5.802408  \n",
              "min     -0.332908   -0.386937    0.000000  \n",
              "25%     -0.089520   -0.120027    4.000000  \n",
              "50%     -0.029605   -0.046177    9.000000  \n",
              "75%      0.031527    0.027293   14.000000  \n",
              "max      0.320509    0.276335   19.000000  \n",
              "\n",
              "[8 rows x 1025 columns]"
            ]
          },
          "execution_count": 29,
          "metadata": {},
          "output_type": "execute_result"
        }
      ],
      "source": [
        "df_val.describe()"
      ]
    },
    {
      "cell_type": "code",
      "execution_count": null,
      "metadata": {
        "id": "Idk0Bad4Wu9h"
      },
      "outputs": [],
      "source": [
        "df_val.to_csv(\"Validation Features.csv\",index=False)"
      ]
    },
    {
      "cell_type": "markdown",
      "metadata": {
        "id": "kfX5dqbkXjG2"
      },
      "source": [
        "# Data Preprocessing"
      ]
    },
    {
      "cell_type": "code",
      "execution_count": null,
      "metadata": {
        "colab": {
          "base_uri": "https://localhost:8080/"
        },
        "id": "RwNJ1FKBXliR",
        "outputId": "7435a27a-fc8f-4328-c8ec-4146e88f889a"
      },
      "outputs": [
        {
          "name": "stdout",
          "output_type": "stream",
          "text": [
            "After scaling train:  (4838, 1024)\n",
            "After scaling test size:  (955, 1024)\n"
          ]
        }
      ],
      "source": [
        "from sklearn.preprocessing import StandardScaler\n",
        "\n",
        "sc=StandardScaler()\n",
        "X_train=sc.fit_transform(x_train_features)\n",
        "X_val=sc.transform(x_val_features)\n",
        "\n",
        "print(\"After scaling train: \", X_train.shape)\n",
        "print(\"After scaling test size: \", X_val.shape)"
      ]
    },
    {
      "cell_type": "markdown",
      "metadata": {
        "id": "htqbzNj2Yd63"
      },
      "source": [
        "# Classification with MLP"
      ]
    },
    {
      "cell_type": "code",
      "execution_count": null,
      "metadata": {
        "colab": {
          "base_uri": "https://localhost:8080/"
        },
        "id": "YqNrd_8hYdC5",
        "outputId": "943d22e1-89de-492a-9bb9-fb27b8aeb02a"
      },
      "outputs": [
        {
          "name": "stdout",
          "output_type": "stream",
          "text": [
            "0.9267015706806283\n"
          ]
        }
      ],
      "source": [
        "from sklearn.neural_network import MLPClassifier\n",
        "from sklearn.metrics import accuracy_score\n",
        "mlp_classifier=MLPClassifier(hidden_layer_sizes=(3000,),learning_rate_init=0.0001,random_state=42,max_iter=2000000)\n",
        "\n",
        "mlp_classifier.fit(X_train,y_train)\n",
        "\n",
        "predictions=mlp_classifier.predict(X_val)\n",
        "val_acc=accuracy_score(y_val,predictions)\n",
        "print(val_acc)\n"
      ]
    },
    {
      "cell_type": "code",
      "execution_count": null,
      "metadata": {
        "colab": {
          "base_uri": "https://localhost:8080/"
        },
        "id": "eaSOSwBjfr4I",
        "outputId": "dc30c593-1924-48fe-c0a7-877759ce04db"
      },
      "outputs": [
        {
          "name": "stdout",
          "output_type": "stream",
          "text": [
            "Test Accuracy  0.927\n"
          ]
        }
      ],
      "source": [
        "print(\"Test Accuracy \",round(val_acc,3))"
      ]
    },
    {
      "cell_type": "code",
      "execution_count": null,
      "metadata": {
        "colab": {
          "base_uri": "https://localhost:8080/"
        },
        "id": "mCB0cDAJf0Sn",
        "outputId": "f1d00218-db16-4e99-e24a-5a3bc3388f7c"
      },
      "outputs": [
        {
          "name": "stdout",
          "output_type": "stream",
          "text": [
            "0.9973107981687026\n"
          ]
        }
      ],
      "source": [
        "from sklearn.metrics import roc_auc_score\n",
        "roc_score=roc_auc_score(y_val,mlp_classifier.predict_proba(X_val),multi_class='ovr')\n",
        "\n",
        "print(roc_score)"
      ]
    },
    {
      "cell_type": "code",
      "execution_count": null,
      "metadata": {
        "colab": {
          "base_uri": "https://localhost:8080/"
        },
        "id": "TrwpiTezgdP-",
        "outputId": "40b6ece9-8d3c-4c48-ff15-d87330beac57"
      },
      "outputs": [
        {
          "name": "stdout",
          "output_type": "stream",
          "text": [
            "['apple', 'banana', 'cake', 'candy', 'carrot', 'cookie', 'doughnut', 'grape', 'hot dog', 'ice cream', 'juice', 'muffin', 'orange', 'pineapple', 'popcorn', 'pretzel', 'salad', 'strawberry', 'waffle', 'watermelon']\n"
          ]
        }
      ],
      "source": [
        "classes=dataset[\"train\"].features['label'].names\n",
        "print(classes)"
      ]
    },
    {
      "cell_type": "code",
      "execution_count": null,
      "metadata": {
        "colab": {
          "base_uri": "https://localhost:8080/",
          "height": 467
        },
        "id": "kv8iIB5sg4XI",
        "outputId": "9e4fdc3b-3c45-4d56-9655-9460c351277a"
      },
      "outputs": [
        {
          "data": {
            "text/plain": [
              "<sklearn.metrics._plot.confusion_matrix.ConfusionMatrixDisplay at 0x7f8633a36aa0>"
            ]
          },
          "execution_count": 36,
          "metadata": {},
          "output_type": "execute_result"
        },
        {
          "data": {
            "image/png": "[encoded data removed]",
            "text/plain": [
              "<Figure size 640x480 with 2 Axes>"
            ]
          },
          "metadata": {},
          "output_type": "display_data"
        }
      ],
      "source": [
        "from sklearn.metrics import confusion_matrix,ConfusionMatrixDisplay\n",
        "ConfusionMatrixDisplay.from_predictions(y_val,predictions,display_labels=classes)\n"
      ]
    },
    {
      "cell_type": "code",
      "execution_count": null,
      "metadata": {
        "colab": {
          "base_uri": "https://localhost:8080/",
          "height": 492
        },
        "id": "WZgNXYhCi0iA",
        "outputId": "f515c6df-ac00-4575-c2da-5adaae6ff6e1"
      },
      "outputs": [
        {
          "data": {
            "text/plain": [
              "<sklearn.metrics._plot.confusion_matrix.ConfusionMatrixDisplay at 0x7f8673d224d0>"
            ]
          },
          "execution_count": 37,
          "metadata": {},
          "output_type": "execute_result"
        },
        {
          "data": {
            "text/plain": [
              "<Figure size 10000x10000 with 0 Axes>"
            ]
          },
          "metadata": {},
          "output_type": "display_data"
        },
        {
          "data": {
            "image/png": "[encoded data removed]",
            "text/plain": [
              "<Figure size 640x480 with 2 Axes>"
            ]
          },
          "metadata": {},
          "output_type": "display_data"
        }
      ],
      "source": [
        "import matplotlib.pyplot as plt\n",
        "plt.figure(figsize=(100,100))\n",
        "ConfusionMatrixDisplay.from_predictions(y_val,predictions,display_labels=classes,normalize='true',)"
      ]
    },
    {
      "cell_type": "code",
      "execution_count": null,
      "metadata": {
        "colab": {
          "base_uri": "https://localhost:8080/"
        },
        "id": "toIWR-i2rduh",
        "outputId": "428722d3-ae60-4b5a-c3bc-5cfd45478e56"
      },
      "outputs": [
        {
          "name": "stdout",
          "output_type": "stream",
          "text": [
            "              precision    recall  f1-score   support\n",
            "\n",
            "           0       0.94      0.96      0.95        50\n",
            "           1       0.96      0.92      0.94        50\n",
            "           2       0.91      0.86      0.89        50\n",
            "           3       0.94      0.94      0.94        50\n",
            "           4       0.98      0.96      0.97        50\n",
            "           5       0.87      0.90      0.88        50\n",
            "           6       0.88      0.90      0.89        50\n",
            "           7       0.96      0.96      0.96        50\n",
            "           8       0.98      0.90      0.94        50\n",
            "           9       0.90      0.88      0.89        50\n",
            "          10       0.92      0.92      0.92        50\n",
            "          11       0.85      0.90      0.87        50\n",
            "          12       0.96      0.96      0.96        50\n",
            "          13       0.87      1.00      0.93        40\n",
            "          14       0.93      0.97      0.95        40\n",
            "          15       0.96      0.96      0.96        25\n",
            "          16       0.90      0.90      0.90        50\n",
            "          17       0.94      0.92      0.93        50\n",
            "          18       0.94      0.88      0.91        50\n",
            "          19       0.98      0.98      0.98        50\n",
            "\n",
            "    accuracy                           0.93       955\n",
            "   macro avg       0.93      0.93      0.93       955\n",
            "weighted avg       0.93      0.93      0.93       955\n",
            "\n"
          ]
        }
      ],
      "source": [
        "from sklearn.metrics import classification_report\n",
        "rep=classification_report(y_val,predictions)\n",
        "print(rep)"
      ]
    },
    {
      "cell_type": "markdown",
      "metadata": {
        "id": "At45Ld6ggXin"
      },
      "source": [
        "# Classification With Support Vector Machine"
      ]
    },
    {
      "cell_type": "code",
      "execution_count": null,
      "metadata": {
        "colab": {
          "base_uri": "https://localhost:8080/"
        },
        "id": "cYxZEbPdgb0N",
        "outputId": "40c3bd85-072d-4d74-8bfe-c0d1ff2a54bc"
      },
      "outputs": [
        {
          "name": "stdout",
          "output_type": "stream",
          "text": [
            "0.9267015706806283\n"
          ]
        }
      ],
      "source": [
        "from sklearn.svm import SVC\n",
        "svm_classifier=SVC(C=1,kernel='sigmoid',random_state=42,gamma='scale',coef0=0.02,probability=True)\n",
        "svm_classifier.fit(X_train,y_train)\n",
        "predic_svm=svm_classifier.predict(X_val)\n",
        "val_acc_svm=accuracy_score(y_val,predic_svm)\n",
        "print(val_acc_svm)"
      ]
    },
    {
      "cell_type": "code",
      "execution_count": null,
      "metadata": {
        "colab": {
          "base_uri": "https://localhost:8080/"
        },
        "id": "q41ORCI6mHmo",
        "outputId": "a7108e60-5329-46e0-f045-50f80f4afbcc"
      },
      "outputs": [
        {
          "name": "stdout",
          "output_type": "stream",
          "text": [
            "Test Accuracy  0.927\n"
          ]
        }
      ],
      "source": [
        "print(\"Test Accuracy \",round(val_acc_svm,3))"
      ]
    },
    {
      "cell_type": "code",
      "execution_count": null,
      "metadata": {
        "colab": {
          "base_uri": "https://localhost:8080/"
        },
        "id": "hU-lTmB-mQJw",
        "outputId": "bd377e56-2e56-4a12-ff62-62fbfae05f9d"
      },
      "outputs": [
        {
          "name": "stdout",
          "output_type": "stream",
          "text": [
            "0.9974485387797\n"
          ]
        }
      ],
      "source": [
        "from sklearn.metrics import roc_auc_score\n",
        "roc_score=roc_auc_score(y_val,svm_classifier.predict_proba(X_val),multi_class='ovr')\n",
        "\n",
        "print(roc_score)"
      ]
    },
    {
      "cell_type": "code",
      "execution_count": null,
      "metadata": {
        "colab": {
          "base_uri": "https://localhost:8080/",
          "height": 467
        },
        "id": "RejmxxxYqiPN",
        "outputId": "d3bc0a71-d110-4284-8b83-38145775d57f"
      },
      "outputs": [
        {
          "data": {
            "text/plain": [
              "<sklearn.metrics._plot.confusion_matrix.ConfusionMatrixDisplay at 0x7f8633788fd0>"
            ]
          },
          "execution_count": 42,
          "metadata": {},
          "output_type": "execute_result"
        },
        {
          "data": {
            "image/png": "[encoded data removed]",
            "text/plain": [
              "<Figure size 640x480 with 2 Axes>"
            ]
          },
          "metadata": {},
          "output_type": "display_data"
        }
      ],
      "source": [
        "ConfusionMatrixDisplay.from_predictions(y_val,predic_svm,display_labels=classes)"
      ]
    },
    {
      "cell_type": "code",
      "execution_count": null,
      "metadata": {
        "colab": {
          "base_uri": "https://localhost:8080/"
        },
        "id": "UnaaURdwqsD4",
        "outputId": "15d09fef-6371-418b-9738-c8512f8cae37"
      },
      "outputs": [
        {
          "name": "stdout",
          "output_type": "stream",
          "text": [
            "              precision    recall  f1-score   support\n",
            "\n",
            "       apple       0.96      0.96      0.96        50\n",
            "      banana       0.96      0.96      0.96        50\n",
            "        cake       0.84      0.86      0.85        50\n",
            "       candy       0.96      0.96      0.96        50\n",
            "      carrot       0.98      0.92      0.95        50\n",
            "      cookie       0.85      0.90      0.87        50\n",
            "    doughnut       0.94      0.90      0.92        50\n",
            "       grape       0.96      0.92      0.94        50\n",
            "     hot dog       0.98      0.98      0.98        50\n",
            "   ice cream       0.88      0.86      0.87        50\n",
            "       juice       0.86      0.96      0.91        50\n",
            "      muffin       0.88      0.92      0.90        50\n",
            "      orange       0.94      0.96      0.95        50\n",
            "   pineapple       0.91      1.00      0.95        40\n",
            "     popcorn       0.97      0.95      0.96        40\n",
            "     pretzel       1.00      1.00      1.00        25\n",
            "       salad       0.88      0.92      0.90        50\n",
            "  strawberry       0.94      0.90      0.92        50\n",
            "      waffle       0.95      0.82      0.88        50\n",
            "  watermelon       0.96      0.94      0.95        50\n",
            "\n",
            "    accuracy                           0.93       955\n",
            "   macro avg       0.93      0.93      0.93       955\n",
            "weighted avg       0.93      0.93      0.93       955\n",
            "\n"
          ]
        }
      ],
      "source": [
        "from sklearn.metrics import classification_report\n",
        "report=classification_report(y_val,predic_svm,target_names=classes)\n",
        "print(report)"
      ]
    },
    {
      "cell_type": "markdown",
      "metadata": {
        "id": "MeIkyaj3SnCS"
      },
      "source": [
        "# K-Fold Cross Validation"
      ]
    },
    {
      "cell_type": "code",
      "execution_count": null,
      "metadata": {
        "colab": {
          "background_save": true,
          "base_uri": "https://localhost:8080/"
        },
        "id": "tuz-AJZXSlH0",
        "outputId": "1fc82264-e802-4e2f-b3b1-b31f182ac81a"
      },
      "outputs": [
        {
          "name": "stderr",
          "output_type": "stream",
          "text": [
            "[Parallel(n_jobs=1)]: Using backend SequentialBackend with 1 concurrent workers.\n"
          ]
        },
        {
          "name": "stdout",
          "output_type": "stream",
          "text": [
            "Mean accuracy for fold -5 0.922\n"
          ]
        },
        {
          "name": "stderr",
          "output_type": "stream",
          "text": [
            "[Parallel(n_jobs=1)]: Done   5 out of   5 | elapsed:  6.6min finished\n"
          ]
        }
      ],
      "source": [
        "from sklearn.model_selection import cross_val_score\n",
        "\n",
        "results=cross_val_score(estimator=mlp_classifier,X=X_train,y=y_train,cv=5,verbose=1)\n",
        "k_fold_mean=results.mean()\n",
        "print(\"Mean accuracy for fold -5\",round(k_fold_mean,3))"
      ]
    },
    {
      "cell_type": "code",
      "source": [
        "predict_mlp=mlp_classifier.predict(X_val)\n",
        "test_acc1=accuracy_score(y_val,predict_mlp)\n",
        "print(\"Test accuracy: \",test_acc1)"
      ],
      "metadata": {
        "colab": {
          "base_uri": "https://localhost:8080/"
        },
        "id": "AkENdWxWbwlb",
        "outputId": "8c02e2d8-7caf-455e-d5bb-42795796e794"
      },
      "execution_count": 47,
      "outputs": [
        {
          "output_type": "stream",
          "name": "stdout",
          "text": [
            "Test accuracy:  0.9267015706806283\n"
          ]
        }
      ]
    },
    {
      "cell_type": "code",
      "source": [
        "results=cross_val_score(estimator=svm_classifier,X=X_train,y=y_train,cv=5,verbose=1)\n",
        "k_fold_mean=results.mean()\n",
        "print(\"Mean accuracy for fold-5 \",round(k_fold_mean,3))"
      ],
      "metadata": {
        "colab": {
          "base_uri": "https://localhost:8080/"
        },
        "id": "mPVeVdffb7iO",
        "outputId": "0f358a52-f70a-4c11-b934-6d1d2f5706ca"
      },
      "execution_count": 48,
      "outputs": [
        {
          "output_type": "stream",
          "name": "stderr",
          "text": [
            "[Parallel(n_jobs=1)]: Using backend SequentialBackend with 1 concurrent workers.\n"
          ]
        },
        {
          "output_type": "stream",
          "name": "stdout",
          "text": [
            "Mean accuracy for fold -5 0.916\n"
          ]
        },
        {
          "output_type": "stream",
          "name": "stderr",
          "text": [
            "[Parallel(n_jobs=1)]: Done   5 out of   5 | elapsed:   59.8s finished\n"
          ]
        }
      ]
    },
    {
      "cell_type": "code",
      "source": [
        "predict_svm=svm_classifier.predict(X_val)\n",
        "test_acc2=accuracy_score(y_val,predict_svm)\n",
        "print(\"Test accuracy: \",test_acc2)"
      ],
      "metadata": {
        "colab": {
          "base_uri": "https://localhost:8080/"
        },
        "id": "F-ioShdkcuf-",
        "outputId": "fe3b765e-c719-4d2e-a65d-3849893661b6"
      },
      "execution_count": 49,
      "outputs": [
        {
          "output_type": "stream",
          "name": "stdout",
          "text": [
            "Test accuracy:  0.9267015706806283\n"
          ]
        }
      ]
    },
    {
      "cell_type": "markdown",
      "metadata": {
        "id": "hOFLb4e9P957"
      },
      "source": [
        "# Feature Selection Technique\n",
        "**Principal Component Analysis**"
      ]
    },
    {
      "cell_type": "markdown",
      "metadata": {
        "id": "B5uVwCzjQI3J"
      },
      "source": [
        "# PCA 400"
      ]
    },
    {
      "cell_type": "code",
      "execution_count": 51,
      "metadata": {
        "id": "-Ej7u2hrRzgW",
        "colab": {
          "base_uri": "https://localhost:8080/"
        },
        "outputId": "c04ee8c0-d44e-4110-942b-565bf2bad24b"
      },
      "outputs": [
        {
          "output_type": "stream",
          "name": "stdout",
          "text": [
            "Test accuracy:  0.923\n"
          ]
        }
      ],
      "source": [
        "from sklearn.decomposition import PCA\n",
        "pca=PCA(n_components=400)\n",
        "x_train_pca=pca.fit_transform(X_train)\n",
        "x_test_pca=pca.transform(X_val)\n",
        "\n",
        "mlp_clf=MLPClassifier(hidden_layer_sizes=(3000,),learning_rate_init=0.0001,max_iter=2000000,random_state=42)\n",
        "\n",
        "mlp_clf.fit(x_train_pca,y_train)\n",
        "\n",
        "y_pred1=mlp_clf.predict(x_test_pca)\n",
        "test_acc=accuracy_score(y_val,y_pred1)\n",
        "\n",
        "print(\"Test accuracy: \",round(test_acc,3))"
      ]
    },
    {
      "cell_type": "markdown",
      "source": [
        "**pca 100**"
      ],
      "metadata": {
        "id": "6m7CoxEvfa8Y"
      }
    },
    {
      "cell_type": "code",
      "source": [
        "from sklearn.decomposition import PCA\n",
        "pca=PCA(n_components=100)\n",
        "x_train_pca=pca.fit_transform(X_train)\n",
        "x_test_pca=pca.transform(X_val)\n",
        "\n",
        "mlp_clf=MLPClassifier(hidden_layer_sizes=(3000,),learning_rate_init=0.0001,max_iter=2000000,random_state=42)\n",
        "\n",
        "mlp_clf.fit(x_train_pca,y_train)\n",
        "\n",
        "y_pred1=mlp_clf.predict(x_test_pca)\n",
        "test_acc=accuracy_score(y_val,y_pred1)\n",
        "\n",
        "print(\"Test accuracy: \",round(test_acc,3))"
      ],
      "metadata": {
        "colab": {
          "base_uri": "https://localhost:8080/"
        },
        "id": "bgjNXpQGfOmt",
        "outputId": "500c0619-871d-4b81-dd6a-29b9ca52dc19"
      },
      "execution_count": 53,
      "outputs": [
        {
          "output_type": "stream",
          "name": "stdout",
          "text": [
            "Test accuracy:  0.923\n"
          ]
        }
      ]
    },
    {
      "cell_type": "markdown",
      "source": [
        "# pca 900"
      ],
      "metadata": {
        "id": "StCG0ltbf84t"
      }
    },
    {
      "cell_type": "code",
      "source": [
        "from sklearn.decomposition import PCA\n",
        "pca=PCA(n_components=900)\n",
        "x_train_pca=pca.fit_transform(X_train)\n",
        "x_test_pca=pca.transform(X_val)\n",
        "\n",
        "mlp_clf=MLPClassifier(hidden_layer_sizes=(3000,),learning_rate_init=0.0001,max_iter=2000000,random_state=42)\n",
        "\n",
        "mlp_clf.fit(x_train_pca,y_train)\n",
        "\n",
        "y_pred1=mlp_clf.predict(x_test_pca)\n",
        "test_acc=accuracy_score(y_val,y_pred1)\n",
        "\n",
        "print(\"Test accuracy: \",round(test_acc,3))"
      ],
      "metadata": {
        "colab": {
          "base_uri": "https://localhost:8080/"
        },
        "id": "JMC1ZWVEftJN",
        "outputId": "46962b64-188e-443f-bae4-d6cbfeec32cb"
      },
      "execution_count": 55,
      "outputs": [
        {
          "output_type": "stream",
          "name": "stdout",
          "text": [
            "Test accuracy:  0.929\n"
          ]
        }
      ]
    }
  ],
  "metadata": {
    "accelerator": "GPU",
    "colab": {
      "provenance": []
    },
    "kernelspec": {
      "display_name": "Python 3",
      "name": "python3"
    },
    "language_info": {
      "name": "python"
    },
    "widgets": {
      "application/vnd.jupyter.widget-state+json": {
        "0030ae52564e4359b54a316dae432d00": {
          "model_module": "@jupyter-widgets/controls",
          "model_module_version": "1.5.0",
          "model_name": "DescriptionStyleModel",
          "state": {
            "_model_module": "@jupyter-widgets/controls",
            "_model_module_version": "1.5.0",
            "_model_name": "DescriptionStyleModel",
            "_view_count": null,
            "_view_module": "@jupyter-widgets/base",
            "_view_module_version": "1.2.0",
            "_view_name": "StyleView",
            "description_width": ""
          }
        },
        "029efde3a92f43acb3f54734df21c677": {
          "model_module": "@jupyter-widgets/controls",
          "model_module_version": "1.5.0",
          "model_name": "FloatProgressModel",
          "state": {
            "_dom_classes": [],
            "_model_module": "@jupyter-widgets/controls",
            "_model_module_version": "1.5.0",
            "_model_name": "FloatProgressModel",
            "_view_count": null,
            "_view_module": "@jupyter-widgets/controls",
            "_view_module_version": "1.5.0",
            "_view_name": "ProgressView",
            "bar_style": "info",
            "description": "",
            "description_tooltip": null,
            "layout": "IPY_MODEL_9ae210c4f43a49a482400ecf1b93333a",
            "max": 1,
            "min": 0,
            "orientation": "horizontal",
            "style": "IPY_MODEL_46f50ccdd3404843967ed09872251894",
            "value": 1
          }
        },
        "02b01ff24e6044e88339be1bd2019bcd": {
          "model_module": "@jupyter-widgets/controls",
          "model_module_version": "1.5.0",
          "model_name": "FloatProgressModel",
          "state": {
            "_dom_classes": [],
            "_model_module": "@jupyter-widgets/controls",
            "_model_module_version": "1.5.0",
            "_model_name": "FloatProgressModel",
            "_view_count": null,
            "_view_module": "@jupyter-widgets/controls",
            "_view_module_version": "1.5.0",
            "_view_name": "ProgressView",
            "bar_style": "success",
            "description": "",
            "description_tooltip": null,
            "layout": "IPY_MODEL_d055d7d883e14c5cad7f5cc96c88d980",
            "max": 3,
            "min": 0,
            "orientation": "horizontal",
            "style": "IPY_MODEL_1d1043c888994090be155ab509085176",
            "value": 3
          }
        },
        "06dbd27471ef484f90b47095d65e13d0": {
          "model_module": "@jupyter-widgets/controls",
          "model_module_version": "1.5.0",
          "model_name": "FloatProgressModel",
          "state": {
            "_dom_classes": [],
            "_model_module": "@jupyter-widgets/controls",
            "_model_module_version": "1.5.0",
            "_model_name": "FloatProgressModel",
            "_view_count": null,
            "_view_module": "@jupyter-widgets/controls",
            "_view_module_version": "1.5.0",
            "_view_name": "ProgressView",
            "bar_style": "success",
            "description": "",
            "description_tooltip": null,
            "layout": "IPY_MODEL_6602d2f02410405bbfaacf65bbd01217",
            "max": 1693,
            "min": 0,
            "orientation": "horizontal",
            "style": "IPY_MODEL_92f0945cf0f04162b1951d2c4249220d",
            "value": 1693
          }
        },
        "13a850daf219469aae2a6488246c2c0d": {
          "model_module": "@jupyter-widgets/controls",
          "model_module_version": "1.5.0",
          "model_name": "DescriptionStyleModel",
          "state": {
            "_model_module": "@jupyter-widgets/controls",
            "_model_module_version": "1.5.0",
            "_model_name": "DescriptionStyleModel",
            "_view_count": null,
            "_view_module": "@jupyter-widgets/base",
            "_view_module_version": "1.2.0",
            "_view_name": "StyleView",
            "description_width": ""
          }
        },
        "15f7463c1e594785b1f975c2e8d36a13": {
          "model_module": "@jupyter-widgets/controls",
          "model_module_version": "1.5.0",
          "model_name": "DescriptionStyleModel",
          "state": {
            "_model_module": "@jupyter-widgets/controls",
            "_model_module_version": "1.5.0",
            "_model_name": "DescriptionStyleModel",
            "_view_count": null,
            "_view_module": "@jupyter-widgets/base",
            "_view_module_version": "1.2.0",
            "_view_name": "StyleView",
            "description_width": ""
          }
        },
        "18db62862c3e48b6b93f5718cfbd5c45": {
          "model_module": "@jupyter-widgets/base",
          "model_module_version": "1.2.0",
          "model_name": "LayoutModel",
          "state": {
            "_model_module": "@jupyter-widgets/base",
            "_model_module_version": "1.2.0",
            "_model_name": "LayoutModel",
            "_view_count": null,
            "_view_module": "@jupyter-widgets/base",
            "_view_module_version": "1.2.0",
            "_view_name": "LayoutView",
            "align_content": null,
            "align_items": null,
            "align_self": null,
            "border": null,
            "bottom": null,
            "display": null,
            "flex": null,
            "flex_flow": null,
            "grid_area": null,
            "grid_auto_columns": null,
            "grid_auto_flow": null,
            "grid_auto_rows": null,
            "grid_column": null,
            "grid_gap": null,
            "grid_row": null,
            "grid_template_areas": null,
            "grid_template_columns": null,
            "grid_template_rows": null,
            "height": null,
            "justify_content": null,
            "justify_items": null,
            "left": null,
            "margin": null,
            "max_height": null,
            "max_width": null,
            "min_height": null,
            "min_width": null,
            "object_fit": null,
            "object_position": null,
            "order": null,
            "overflow": null,
            "overflow_x": null,
            "overflow_y": null,
            "padding": null,
            "right": null,
            "top": null,
            "visibility": null,
            "width": null
          }
        },
        "1a1a42e867e140dc84e87ec6451d72fe": {
          "model_module": "@jupyter-widgets/controls",
          "model_module_version": "1.5.0",
          "model_name": "DescriptionStyleModel",
          "state": {
            "_model_module": "@jupyter-widgets/controls",
            "_model_module_version": "1.5.0",
            "_model_name": "DescriptionStyleModel",
            "_view_count": null,
            "_view_module": "@jupyter-widgets/base",
            "_view_module_version": "1.2.0",
            "_view_name": "StyleView",
            "description_width": ""
          }
        },
        "1d1043c888994090be155ab509085176": {
          "model_module": "@jupyter-widgets/controls",
          "model_module_version": "1.5.0",
          "model_name": "ProgressStyleModel",
          "state": {
            "_model_module": "@jupyter-widgets/controls",
            "_model_module_version": "1.5.0",
            "_model_name": "ProgressStyleModel",
            "_view_count": null,
            "_view_module": "@jupyter-widgets/base",
            "_view_module_version": "1.2.0",
            "_view_name": "StyleView",
            "bar_color": null,
            "description_width": ""
          }
        },
        "2281ed1c7ba8410d9029f752af6d5527": {
          "model_module": "@jupyter-widgets/controls",
          "model_module_version": "1.5.0",
          "model_name": "HTMLModel",
          "state": {
            "_dom_classes": [],
            "_model_module": "@jupyter-widgets/controls",
            "_model_module_version": "1.5.0",
            "_model_name": "HTMLModel",
            "_view_count": null,
            "_view_module": "@jupyter-widgets/controls",
            "_view_module_version": "1.5.0",
            "_view_name": "HTMLView",
            "description": "",
            "description_tooltip": null,
            "layout": "IPY_MODEL_7f6f75abf8e342fe8fa627cb38f7ef60",
            "placeholder": "​",
            "style": "IPY_MODEL_ac7a0fefed0c4782acce606645de7fc1",
            "value": "Generating train split: "
          }
        },
        "22ecffc85df1452d90934da63bc299e7": {
          "model_module": "@jupyter-widgets/base",
          "model_module_version": "1.2.0",
          "model_name": "LayoutModel",
          "state": {
            "_model_module": "@jupyter-widgets/base",
            "_model_module_version": "1.2.0",
            "_model_name": "LayoutModel",
            "_view_count": null,
            "_view_module": "@jupyter-widgets/base",
            "_view_module_version": "1.2.0",
            "_view_name": "LayoutView",
            "align_content": null,
            "align_items": null,
            "align_self": null,
            "border": null,
            "bottom": null,
            "display": null,
            "flex": null,
            "flex_flow": null,
            "grid_area": null,
            "grid_auto_columns": null,
            "grid_auto_flow": null,
            "grid_auto_rows": null,
            "grid_column": null,
            "grid_gap": null,
            "grid_row": null,
            "grid_template_areas": null,
            "grid_template_columns": null,
            "grid_template_rows": null,
            "height": null,
            "justify_content": null,
            "justify_items": null,
            "left": null,
            "margin": null,
            "max_height": null,
            "max_width": null,
            "min_height": null,
            "min_width": null,
            "object_fit": null,
            "object_position": null,
            "order": null,
            "overflow": null,
            "overflow_x": null,
            "overflow_y": null,
            "padding": null,
            "right": null,
            "top": null,
            "visibility": null,
            "width": "20px"
          }
        },
        "2429b01cf3534bed82809ab74a8df5de": {
          "model_module": "@jupyter-widgets/base",
          "model_module_version": "1.2.0",
          "model_name": "LayoutModel",
          "state": {
            "_model_module": "@jupyter-widgets/base",
            "_model_module_version": "1.2.0",
            "_model_name": "LayoutModel",
            "_view_count": null,
            "_view_module": "@jupyter-widgets/base",
            "_view_module_version": "1.2.0",
            "_view_name": "LayoutView",
            "align_content": null,
            "align_items": null,
            "align_self": null,
            "border": null,
            "bottom": null,
            "display": null,
            "flex": null,
            "flex_flow": null,
            "grid_area": null,
            "grid_auto_columns": null,
            "grid_auto_flow": null,
            "grid_auto_rows": null,
            "grid_column": null,
            "grid_gap": null,
            "grid_row": null,
            "grid_template_areas": null,
            "grid_template_columns": null,
            "grid_template_rows": null,
            "height": null,
            "justify_content": null,
            "justify_items": null,
            "left": null,
            "margin": null,
            "max_height": null,
            "max_width": null,
            "min_height": null,
            "min_width": null,
            "object_fit": null,
            "object_position": null,
            "order": null,
            "overflow": null,
            "overflow_x": null,
            "overflow_y": null,
            "padding": null,
            "right": null,
            "top": null,
            "visibility": null,
            "width": null
          }
        },
        "2503c9ccb00f4d489a5f78b43f564c14": {
          "model_module": "@jupyter-widgets/controls",
          "model_module_version": "1.5.0",
          "model_name": "DescriptionStyleModel",
          "state": {
            "_model_module": "@jupyter-widgets/controls",
            "_model_module_version": "1.5.0",
            "_model_name": "DescriptionStyleModel",
            "_view_count": null,
            "_view_module": "@jupyter-widgets/base",
            "_view_module_version": "1.2.0",
            "_view_name": "StyleView",
            "description_width": ""
          }
        },
        "2c2ae4a1efb64329a6d9c4c9bc0aaa0c": {
          "model_module": "@jupyter-widgets/base",
          "model_module_version": "1.2.0",
          "model_name": "LayoutModel",
          "state": {
            "_model_module": "@jupyter-widgets/base",
            "_model_module_version": "1.2.0",
            "_model_name": "LayoutModel",
            "_view_count": null,
            "_view_module": "@jupyter-widgets/base",
            "_view_module_version": "1.2.0",
            "_view_name": "LayoutView",
            "align_content": null,
            "align_items": null,
            "align_self": null,
            "border": null,
            "bottom": null,
            "display": null,
            "flex": null,
            "flex_flow": null,
            "grid_area": null,
            "grid_auto_columns": null,
            "grid_auto_flow": null,
            "grid_auto_rows": null,
            "grid_column": null,
            "grid_gap": null,
            "grid_row": null,
            "grid_template_areas": null,
            "grid_template_columns": null,
            "grid_template_rows": null,
            "height": null,
            "justify_content": null,
            "justify_items": null,
            "left": null,
            "margin": null,
            "max_height": null,
            "max_width": null,
            "min_height": null,
            "min_width": null,
            "object_fit": null,
            "object_position": null,
            "order": null,
            "overflow": null,
            "overflow_x": null,
            "overflow_y": null,
            "padding": null,
            "right": null,
            "top": null,
            "visibility": null,
            "width": null
          }
        },
        "2f02b7c1cb5045c880132e2610aff345": {
          "model_module": "@jupyter-widgets/controls",
          "model_module_version": "1.5.0",
          "model_name": "DescriptionStyleModel",
          "state": {
            "_model_module": "@jupyter-widgets/controls",
            "_model_module_version": "1.5.0",
            "_model_name": "DescriptionStyleModel",
            "_view_count": null,
            "_view_module": "@jupyter-widgets/base",
            "_view_module_version": "1.2.0",
            "_view_name": "StyleView",
            "description_width": ""
          }
        },
        "2f7f0f2dddaf41d19cfb8e3b510b552a": {
          "model_module": "@jupyter-widgets/base",
          "model_module_version": "1.2.0",
          "model_name": "LayoutModel",
          "state": {
            "_model_module": "@jupyter-widgets/base",
            "_model_module_version": "1.2.0",
            "_model_name": "LayoutModel",
            "_view_count": null,
            "_view_module": "@jupyter-widgets/base",
            "_view_module_version": "1.2.0",
            "_view_name": "LayoutView",
            "align_content": null,
            "align_items": null,
            "align_self": null,
            "border": null,
            "bottom": null,
            "display": null,
            "flex": null,
            "flex_flow": null,
            "grid_area": null,
            "grid_auto_columns": null,
            "grid_auto_flow": null,
            "grid_auto_rows": null,
            "grid_column": null,
            "grid_gap": null,
            "grid_row": null,
            "grid_template_areas": null,
            "grid_template_columns": null,
            "grid_template_rows": null,
            "height": null,
            "justify_content": null,
            "justify_items": null,
            "left": null,
            "margin": null,
            "max_height": null,
            "max_width": null,
            "min_height": null,
            "min_width": null,
            "object_fit": null,
            "object_position": null,
            "order": null,
            "overflow": null,
            "overflow_x": null,
            "overflow_y": null,
            "padding": null,
            "right": null,
            "top": null,
            "visibility": null,
            "width": null
          }
        },
        "31037945c9254f4881f25933c620a2e2": {
          "model_module": "@jupyter-widgets/controls",
          "model_module_version": "1.5.0",
          "model_name": "HTMLModel",
          "state": {
            "_dom_classes": [],
            "_model_module": "@jupyter-widgets/controls",
            "_model_module_version": "1.5.0",
            "_model_name": "HTMLModel",
            "_view_count": null,
            "_view_module": "@jupyter-widgets/controls",
            "_view_module_version": "1.5.0",
            "_view_name": "HTMLView",
            "description": "",
            "description_tooltip": null,
            "layout": "IPY_MODEL_8aa16c232e9c4f019539572bc0491078",
            "placeholder": "​",
            "style": "IPY_MODEL_c3d23c348b85443aad4916ef02530cdb",
            "value": "Downloading (…)lve/main/config.json: 100%"
          }
        },
        "3403ed96235a4a4cb0de4566038db59f": {
          "model_module": "@jupyter-widgets/controls",
          "model_module_version": "1.5.0",
          "model_name": "HTMLModel",
          "state": {
            "_dom_classes": [],
            "_model_module": "@jupyter-widgets/controls",
            "_model_module_version": "1.5.0",
            "_model_name": "HTMLModel",
            "_view_count": null,
            "_view_module": "@jupyter-widgets/controls",
            "_view_module_version": "1.5.0",
            "_view_name": "HTMLView",
            "description": "",
            "description_tooltip": null,
            "layout": "IPY_MODEL_e6f38deef60948d7b3bd4a407fb4f3df",
            "placeholder": "​",
            "style": "IPY_MODEL_2503c9ccb00f4d489a5f78b43f564c14",
            "value": "Downloading pytorch_model.bin: 100%"
          }
        },
        "35955207a73a4598a3a42e1ea2e5720a": {
          "model_module": "@jupyter-widgets/controls",
          "model_module_version": "1.5.0",
          "model_name": "HTMLModel",
          "state": {
            "_dom_classes": [],
            "_model_module": "@jupyter-widgets/controls",
            "_model_module_version": "1.5.0",
            "_model_name": "HTMLModel",
            "_view_count": null,
            "_view_module": "@jupyter-widgets/controls",
            "_view_module_version": "1.5.0",
            "_view_name": "HTMLView",
            "description": "",
            "description_tooltip": null,
            "layout": "IPY_MODEL_e6016c8f6ea341af86d643d0f9edd742",
            "placeholder": "​",
            "style": "IPY_MODEL_6493a4c92aa6454981d417c3e361c585",
            "value": " 1.69k/1.69k [00:00&lt;00:00, 108kB/s]"
          }
        },
        "38ebc43e430b46378b15705d9ac16031": {
          "model_module": "@jupyter-widgets/base",
          "model_module_version": "1.2.0",
          "model_name": "LayoutModel",
          "state": {
            "_model_module": "@jupyter-widgets/base",
            "_model_module_version": "1.2.0",
            "_model_name": "LayoutModel",
            "_view_count": null,
            "_view_module": "@jupyter-widgets/base",
            "_view_module_version": "1.2.0",
            "_view_name": "LayoutView",
            "align_content": null,
            "align_items": null,
            "align_self": null,
            "border": null,
            "bottom": null,
            "display": null,
            "flex": null,
            "flex_flow": null,
            "grid_area": null,
            "grid_auto_columns": null,
            "grid_auto_flow": null,
            "grid_auto_rows": null,
            "grid_column": null,
            "grid_gap": null,
            "grid_row": null,
            "grid_template_areas": null,
            "grid_template_columns": null,
            "grid_template_rows": null,
            "height": null,
            "justify_content": null,
            "justify_items": null,
            "left": null,
            "margin": null,
            "max_height": null,
            "max_width": null,
            "min_height": null,
            "min_width": null,
            "object_fit": null,
            "object_position": null,
            "order": null,
            "overflow": null,
            "overflow_x": null,
            "overflow_y": null,
            "padding": null,
            "right": null,
            "top": null,
            "visibility": null,
            "width": null
          }
        },
        "3a8c81b24b704e41a20887a69e17a1a7": {
          "model_module": "@jupyter-widgets/controls",
          "model_module_version": "1.5.0",
          "model_name": "HTMLModel",
          "state": {
            "_dom_classes": [],
            "_model_module": "@jupyter-widgets/controls",
            "_model_module_version": "1.5.0",
            "_model_name": "HTMLModel",
            "_view_count": null,
            "_view_module": "@jupyter-widgets/controls",
            "_view_module_version": "1.5.0",
            "_view_name": "HTMLView",
            "description": "",
            "description_tooltip": null,
            "layout": "IPY_MODEL_38ebc43e430b46378b15705d9ac16031",
            "placeholder": "​",
            "style": "IPY_MODEL_0030ae52564e4359b54a316dae432d00",
            "value": " 110M/110M [00:03&lt;00:00, 39.1MB/s]"
          }
        },
        "3f14c04755744f589c29ed8ac597150b": {
          "model_module": "@jupyter-widgets/controls",
          "model_module_version": "1.5.0",
          "model_name": "DescriptionStyleModel",
          "state": {
            "_model_module": "@jupyter-widgets/controls",
            "_model_module_version": "1.5.0",
            "_model_name": "DescriptionStyleModel",
            "_view_count": null,
            "_view_module": "@jupyter-widgets/base",
            "_view_module_version": "1.2.0",
            "_view_name": "StyleView",
            "description_width": ""
          }
        },
        "3ff96860785843c4b2b1a9bcbba28db3": {
          "model_module": "@jupyter-widgets/controls",
          "model_module_version": "1.5.0",
          "model_name": "DescriptionStyleModel",
          "state": {
            "_model_module": "@jupyter-widgets/controls",
            "_model_module_version": "1.5.0",
            "_model_name": "DescriptionStyleModel",
            "_view_count": null,
            "_view_module": "@jupyter-widgets/base",
            "_view_module_version": "1.2.0",
            "_view_name": "StyleView",
            "description_width": ""
          }
        },
        "418e249d841d4671914e18eddafca35c": {
          "model_module": "@jupyter-widgets/controls",
          "model_module_version": "1.5.0",
          "model_name": "HTMLModel",
          "state": {
            "_dom_classes": [],
            "_model_module": "@jupyter-widgets/controls",
            "_model_module_version": "1.5.0",
            "_model_name": "HTMLModel",
            "_view_count": null,
            "_view_module": "@jupyter-widgets/controls",
            "_view_module_version": "1.5.0",
            "_view_name": "HTMLView",
            "description": "",
            "description_tooltip": null,
            "layout": "IPY_MODEL_2429b01cf3534bed82809ab74a8df5de",
            "placeholder": "​",
            "style": "IPY_MODEL_a45be2dca00c42af81f5486432d0dc5c",
            "value": "100%"
          }
        },
        "45587637faa9400a8f1b0d28b846c2e3": {
          "model_module": "@jupyter-widgets/controls",
          "model_module_version": "1.5.0",
          "model_name": "HTMLModel",
          "state": {
            "_dom_classes": [],
            "_model_module": "@jupyter-widgets/controls",
            "_model_module_version": "1.5.0",
            "_model_name": "HTMLModel",
            "_view_count": null,
            "_view_module": "@jupyter-widgets/controls",
            "_view_module_version": "1.5.0",
            "_view_name": "HTMLView",
            "description": "",
            "description_tooltip": null,
            "layout": "IPY_MODEL_18db62862c3e48b6b93f5718cfbd5c45",
            "placeholder": "​",
            "style": "IPY_MODEL_1a1a42e867e140dc84e87ec6451d72fe",
            "value": " 3.50k/3.50k [00:00&lt;00:00, 67.7kB/s]"
          }
        },
        "45742bde4dcc4fd2aa9cb061ac12c653": {
          "model_module": "@jupyter-widgets/base",
          "model_module_version": "1.2.0",
          "model_name": "LayoutModel",
          "state": {
            "_model_module": "@jupyter-widgets/base",
            "_model_module_version": "1.2.0",
            "_model_name": "LayoutModel",
            "_view_count": null,
            "_view_module": "@jupyter-widgets/base",
            "_view_module_version": "1.2.0",
            "_view_name": "LayoutView",
            "align_content": null,
            "align_items": null,
            "align_self": null,
            "border": null,
            "bottom": null,
            "display": null,
            "flex": null,
            "flex_flow": null,
            "grid_area": null,
            "grid_auto_columns": null,
            "grid_auto_flow": null,
            "grid_auto_rows": null,
            "grid_column": null,
            "grid_gap": null,
            "grid_row": null,
            "grid_template_areas": null,
            "grid_template_columns": null,
            "grid_template_rows": null,
            "height": null,
            "justify_content": null,
            "justify_items": null,
            "left": null,
            "margin": null,
            "max_height": null,
            "max_width": null,
            "min_height": null,
            "min_width": null,
            "object_fit": null,
            "object_position": null,
            "order": null,
            "overflow": null,
            "overflow_x": null,
            "overflow_y": null,
            "padding": null,
            "right": null,
            "top": null,
            "visibility": null,
            "width": null
          }
        },
        "46f50ccdd3404843967ed09872251894": {
          "model_module": "@jupyter-widgets/controls",
          "model_module_version": "1.5.0",
          "model_name": "ProgressStyleModel",
          "state": {
            "_model_module": "@jupyter-widgets/controls",
            "_model_module_version": "1.5.0",
            "_model_name": "ProgressStyleModel",
            "_view_count": null,
            "_view_module": "@jupyter-widgets/base",
            "_view_module_version": "1.2.0",
            "_view_name": "StyleView",
            "bar_color": null,
            "description_width": ""
          }
        },
        "4aeeb3bdf4574d089634d1b514f8077b": {
          "model_module": "@jupyter-widgets/controls",
          "model_module_version": "1.5.0",
          "model_name": "DescriptionStyleModel",
          "state": {
            "_model_module": "@jupyter-widgets/controls",
            "_model_module_version": "1.5.0",
            "_model_name": "DescriptionStyleModel",
            "_view_count": null,
            "_view_module": "@jupyter-widgets/base",
            "_view_module_version": "1.2.0",
            "_view_name": "StyleView",
            "description_width": ""
          }
        },
        "4e65202c394c48aab3ea2aeae2d959b2": {
          "model_module": "@jupyter-widgets/base",
          "model_module_version": "1.2.0",
          "model_name": "LayoutModel",
          "state": {
            "_model_module": "@jupyter-widgets/base",
            "_model_module_version": "1.2.0",
            "_model_name": "LayoutModel",
            "_view_count": null,
            "_view_module": "@jupyter-widgets/base",
            "_view_module_version": "1.2.0",
            "_view_name": "LayoutView",
            "align_content": null,
            "align_items": null,
            "align_self": null,
            "border": null,
            "bottom": null,
            "display": null,
            "flex": null,
            "flex_flow": null,
            "grid_area": null,
            "grid_auto_columns": null,
            "grid_auto_flow": null,
            "grid_auto_rows": null,
            "grid_column": null,
            "grid_gap": null,
            "grid_row": null,
            "grid_template_areas": null,
            "grid_template_columns": null,
            "grid_template_rows": null,
            "height": null,
            "justify_content": null,
            "justify_items": null,
            "left": null,
            "margin": null,
            "max_height": null,
            "max_width": null,
            "min_height": null,
            "min_width": null,
            "object_fit": null,
            "object_position": null,
            "order": null,
            "overflow": null,
            "overflow_x": null,
            "overflow_y": null,
            "padding": null,
            "right": null,
            "top": null,
            "visibility": null,
            "width": null
          }
        },
        "510a86e4942545918f8de7bf6d612a79": {
          "model_module": "@jupyter-widgets/controls",
          "model_module_version": "1.5.0",
          "model_name": "FloatProgressModel",
          "state": {
            "_dom_classes": [],
            "_model_module": "@jupyter-widgets/controls",
            "_model_module_version": "1.5.0",
            "_model_name": "FloatProgressModel",
            "_view_count": null,
            "_view_module": "@jupyter-widgets/controls",
            "_view_module_version": "1.5.0",
            "_view_name": "ProgressView",
            "bar_style": "success",
            "description": "",
            "description_tooltip": null,
            "layout": "IPY_MODEL_f75bc92f3fd349018afcebdc97903d4c",
            "max": 502,
            "min": 0,
            "orientation": "horizontal",
            "style": "IPY_MODEL_c9b82af0b7934c6c88ef450b8d9f00fe",
            "value": 502
          }
        },
        "5266ccc9f18e4b25b5c30506b3f3d10d": {
          "model_module": "@jupyter-widgets/controls",
          "model_module_version": "1.5.0",
          "model_name": "ProgressStyleModel",
          "state": {
            "_model_module": "@jupyter-widgets/controls",
            "_model_module_version": "1.5.0",
            "_model_name": "ProgressStyleModel",
            "_view_count": null,
            "_view_module": "@jupyter-widgets/base",
            "_view_module_version": "1.2.0",
            "_view_name": "StyleView",
            "bar_color": null,
            "description_width": ""
          }
        },
        "527fe9ebde784df1b6b8f16800d4935d": {
          "model_module": "@jupyter-widgets/controls",
          "model_module_version": "1.5.0",
          "model_name": "HTMLModel",
          "state": {
            "_dom_classes": [],
            "_model_module": "@jupyter-widgets/controls",
            "_model_module_version": "1.5.0",
            "_model_name": "HTMLModel",
            "_view_count": null,
            "_view_module": "@jupyter-widgets/controls",
            "_view_module_version": "1.5.0",
            "_view_name": "HTMLView",
            "description": "",
            "description_tooltip": null,
            "layout": "IPY_MODEL_81a092215f664ea696ec7c61b3e1d309",
            "placeholder": "​",
            "style": "IPY_MODEL_6e1c85821f9c4ee1a4a2d370101e9086",
            "value": "Downloading data: 100%"
          }
        },
        "5602f40ded264e729c3edac63251452a": {
          "model_module": "@jupyter-widgets/base",
          "model_module_version": "1.2.0",
          "model_name": "LayoutModel",
          "state": {
            "_model_module": "@jupyter-widgets/base",
            "_model_module_version": "1.2.0",
            "_model_name": "LayoutModel",
            "_view_count": null,
            "_view_module": "@jupyter-widgets/base",
            "_view_module_version": "1.2.0",
            "_view_name": "LayoutView",
            "align_content": null,
            "align_items": null,
            "align_self": null,
            "border": null,
            "bottom": null,
            "display": null,
            "flex": null,
            "flex_flow": null,
            "grid_area": null,
            "grid_auto_columns": null,
            "grid_auto_flow": null,
            "grid_auto_rows": null,
            "grid_column": null,
            "grid_gap": null,
            "grid_row": null,
            "grid_template_areas": null,
            "grid_template_columns": null,
            "grid_template_rows": null,
            "height": null,
            "justify_content": null,
            "justify_items": null,
            "left": null,
            "margin": null,
            "max_height": null,
            "max_width": null,
            "min_height": null,
            "min_width": null,
            "object_fit": null,
            "object_position": null,
            "order": null,
            "overflow": null,
            "overflow_x": null,
            "overflow_y": null,
            "padding": null,
            "right": null,
            "top": null,
            "visibility": null,
            "width": null
          }
        },
        "563e9d7058954570aee39bd85d2f113e": {
          "model_module": "@jupyter-widgets/controls",
          "model_module_version": "1.5.0",
          "model_name": "DescriptionStyleModel",
          "state": {
            "_model_module": "@jupyter-widgets/controls",
            "_model_module_version": "1.5.0",
            "_model_name": "DescriptionStyleModel",
            "_view_count": null,
            "_view_module": "@jupyter-widgets/base",
            "_view_module_version": "1.2.0",
            "_view_name": "StyleView",
            "description_width": ""
          }
        },
        "5b25289eb0b04221ba4b38b080025608": {
          "model_module": "@jupyter-widgets/base",
          "model_module_version": "1.2.0",
          "model_name": "LayoutModel",
          "state": {
            "_model_module": "@jupyter-widgets/base",
            "_model_module_version": "1.2.0",
            "_model_name": "LayoutModel",
            "_view_count": null,
            "_view_module": "@jupyter-widgets/base",
            "_view_module_version": "1.2.0",
            "_view_name": "LayoutView",
            "align_content": null,
            "align_items": null,
            "align_self": null,
            "border": null,
            "bottom": null,
            "display": null,
            "flex": null,
            "flex_flow": null,
            "grid_area": null,
            "grid_auto_columns": null,
            "grid_auto_flow": null,
            "grid_auto_rows": null,
            "grid_column": null,
            "grid_gap": null,
            "grid_row": null,
            "grid_template_areas": null,
            "grid_template_columns": null,
            "grid_template_rows": null,
            "height": null,
            "justify_content": null,
            "justify_items": null,
            "left": null,
            "margin": null,
            "max_height": null,
            "max_width": null,
            "min_height": null,
            "min_width": null,
            "object_fit": null,
            "object_position": null,
            "order": null,
            "overflow": null,
            "overflow_x": null,
            "overflow_y": null,
            "padding": null,
            "right": null,
            "top": null,
            "visibility": null,
            "width": null
          }
        },
        "5ca6a5d801ba4fa4be3d465c55623f55": {
          "model_module": "@jupyter-widgets/controls",
          "model_module_version": "1.5.0",
          "model_name": "HBoxModel",
          "state": {
            "_dom_classes": [],
            "_model_module": "@jupyter-widgets/controls",
            "_model_module_version": "1.5.0",
            "_model_name": "HBoxModel",
            "_view_count": null,
            "_view_module": "@jupyter-widgets/controls",
            "_view_module_version": "1.5.0",
            "_view_name": "HBoxView",
            "box_style": "",
            "children": [
              "IPY_MODEL_f103926b74eb4fd292ba2cb1791d3543",
              "IPY_MODEL_06dbd27471ef484f90b47095d65e13d0",
              "IPY_MODEL_35955207a73a4598a3a42e1ea2e5720a"
            ],
            "layout": "IPY_MODEL_a68427db3c924bfe82c68921506789ee"
          }
        },
        "5d9c273353a84160b2a53de4206894a0": {
          "model_module": "@jupyter-widgets/controls",
          "model_module_version": "1.5.0",
          "model_name": "FloatProgressModel",
          "state": {
            "_dom_classes": [],
            "_model_module": "@jupyter-widgets/controls",
            "_model_module_version": "1.5.0",
            "_model_name": "FloatProgressModel",
            "_view_count": null,
            "_view_module": "@jupyter-widgets/controls",
            "_view_module_version": "1.5.0",
            "_view_name": "ProgressView",
            "bar_style": "success",
            "description": "",
            "description_tooltip": null,
            "layout": "IPY_MODEL_cbb3a714b55c4707b1d29651e1d8af88",
            "max": 3498,
            "min": 0,
            "orientation": "horizontal",
            "style": "IPY_MODEL_be6d86c9fa764a0aaf61068260ce9024",
            "value": 3498
          }
        },
        "60717f60897147f39e68daa11a5d9613": {
          "model_module": "@jupyter-widgets/controls",
          "model_module_version": "1.5.0",
          "model_name": "HBoxModel",
          "state": {
            "_dom_classes": [],
            "_model_module": "@jupyter-widgets/controls",
            "_model_module_version": "1.5.0",
            "_model_name": "HBoxModel",
            "_view_count": null,
            "_view_module": "@jupyter-widgets/controls",
            "_view_module_version": "1.5.0",
            "_view_name": "HBoxView",
            "box_style": "",
            "children": [
              "IPY_MODEL_3403ed96235a4a4cb0de4566038db59f",
              "IPY_MODEL_fcd1bc5565ed4cd79a904fec636c8eca",
              "IPY_MODEL_ec11b9233fb54a88951008fa8e9eed7b"
            ],
            "layout": "IPY_MODEL_a4c837dafded4456b3576af2dfb2181a"
          }
        },
        "6493a4c92aa6454981d417c3e361c585": {
          "model_module": "@jupyter-widgets/controls",
          "model_module_version": "1.5.0",
          "model_name": "DescriptionStyleModel",
          "state": {
            "_model_module": "@jupyter-widgets/controls",
            "_model_module_version": "1.5.0",
            "_model_name": "DescriptionStyleModel",
            "_view_count": null,
            "_view_module": "@jupyter-widgets/base",
            "_view_module_version": "1.2.0",
            "_view_name": "StyleView",
            "description_width": ""
          }
        },
        "6602d2f02410405bbfaacf65bbd01217": {
          "model_module": "@jupyter-widgets/base",
          "model_module_version": "1.2.0",
          "model_name": "LayoutModel",
          "state": {
            "_model_module": "@jupyter-widgets/base",
            "_model_module_version": "1.2.0",
            "_model_name": "LayoutModel",
            "_view_count": null,
            "_view_module": "@jupyter-widgets/base",
            "_view_module_version": "1.2.0",
            "_view_name": "LayoutView",
            "align_content": null,
            "align_items": null,
            "align_self": null,
            "border": null,
            "bottom": null,
            "display": null,
            "flex": null,
            "flex_flow": null,
            "grid_area": null,
            "grid_auto_columns": null,
            "grid_auto_flow": null,
            "grid_auto_rows": null,
            "grid_column": null,
            "grid_gap": null,
            "grid_row": null,
            "grid_template_areas": null,
            "grid_template_columns": null,
            "grid_template_rows": null,
            "height": null,
            "justify_content": null,
            "justify_items": null,
            "left": null,
            "margin": null,
            "max_height": null,
            "max_width": null,
            "min_height": null,
            "min_width": null,
            "object_fit": null,
            "object_position": null,
            "order": null,
            "overflow": null,
            "overflow_x": null,
            "overflow_y": null,
            "padding": null,
            "right": null,
            "top": null,
            "visibility": null,
            "width": null
          }
        },
        "68373253278c4b79b50b5a991cf80ff1": {
          "model_module": "@jupyter-widgets/controls",
          "model_module_version": "1.5.0",
          "model_name": "HTMLModel",
          "state": {
            "_dom_classes": [],
            "_model_module": "@jupyter-widgets/controls",
            "_model_module_version": "1.5.0",
            "_model_name": "HTMLModel",
            "_view_count": null,
            "_view_module": "@jupyter-widgets/controls",
            "_view_module_version": "1.5.0",
            "_view_name": "HTMLView",
            "description": "",
            "description_tooltip": null,
            "layout": "IPY_MODEL_d5b7b0aaff6c4e7a9eea0550acf07cfa",
            "placeholder": "​",
            "style": "IPY_MODEL_15f7463c1e594785b1f975c2e8d36a13",
            "value": " 3/3 [00:00&lt;00:00, 32.18it/s]"
          }
        },
        "6e1c85821f9c4ee1a4a2d370101e9086": {
          "model_module": "@jupyter-widgets/controls",
          "model_module_version": "1.5.0",
          "model_name": "DescriptionStyleModel",
          "state": {
            "_model_module": "@jupyter-widgets/controls",
            "_model_module_version": "1.5.0",
            "_model_name": "DescriptionStyleModel",
            "_view_count": null,
            "_view_module": "@jupyter-widgets/base",
            "_view_module_version": "1.2.0",
            "_view_name": "StyleView",
            "description_width": ""
          }
        },
        "70d218f016dd4c06ba7025e3f3f117d5": {
          "model_module": "@jupyter-widgets/controls",
          "model_module_version": "1.5.0",
          "model_name": "HBoxModel",
          "state": {
            "_dom_classes": [],
            "_model_module": "@jupyter-widgets/controls",
            "_model_module_version": "1.5.0",
            "_model_name": "HBoxModel",
            "_view_count": null,
            "_view_module": "@jupyter-widgets/controls",
            "_view_module_version": "1.5.0",
            "_view_name": "HBoxView",
            "box_style": "",
            "children": [
              "IPY_MODEL_b0d96e56f97b4b639e3983e04a2262f8",
              "IPY_MODEL_5d9c273353a84160b2a53de4206894a0",
              "IPY_MODEL_45587637faa9400a8f1b0d28b846c2e3"
            ],
            "layout": "IPY_MODEL_850b1a4708f843c0b463772e5f046870"
          }
        },
        "7a45c157db7a4638b1a3c4fe945c0c63": {
          "model_module": "@jupyter-widgets/controls",
          "model_module_version": "1.5.0",
          "model_name": "ProgressStyleModel",
          "state": {
            "_model_module": "@jupyter-widgets/controls",
            "_model_module_version": "1.5.0",
            "_model_name": "ProgressStyleModel",
            "_view_count": null,
            "_view_module": "@jupyter-widgets/base",
            "_view_module_version": "1.2.0",
            "_view_name": "StyleView",
            "bar_color": null,
            "description_width": ""
          }
        },
        "7ecaab3223754469905dbdacab85612f": {
          "model_module": "@jupyter-widgets/controls",
          "model_module_version": "1.5.0",
          "model_name": "HTMLModel",
          "state": {
            "_dom_classes": [],
            "_model_module": "@jupyter-widgets/controls",
            "_model_module_version": "1.5.0",
            "_model_name": "HTMLModel",
            "_view_count": null,
            "_view_module": "@jupyter-widgets/controls",
            "_view_module_version": "1.5.0",
            "_view_name": "HTMLView",
            "description": "",
            "description_tooltip": null,
            "layout": "IPY_MODEL_e934a5b9e91b41968961804bb1c68612",
            "placeholder": "​",
            "style": "IPY_MODEL_f5c487e2745f4b4995acadb6e7fc5682",
            "value": "Generating test split: "
          }
        },
        "7f6f75abf8e342fe8fa627cb38f7ef60": {
          "model_module": "@jupyter-widgets/base",
          "model_module_version": "1.2.0",
          "model_name": "LayoutModel",
          "state": {
            "_model_module": "@jupyter-widgets/base",
            "_model_module_version": "1.2.0",
            "_model_name": "LayoutModel",
            "_view_count": null,
            "_view_module": "@jupyter-widgets/base",
            "_view_module_version": "1.2.0",
            "_view_name": "LayoutView",
            "align_content": null,
            "align_items": null,
            "align_self": null,
            "border": null,
            "bottom": null,
            "display": null,
            "flex": null,
            "flex_flow": null,
            "grid_area": null,
            "grid_auto_columns": null,
            "grid_auto_flow": null,
            "grid_auto_rows": null,
            "grid_column": null,
            "grid_gap": null,
            "grid_row": null,
            "grid_template_areas": null,
            "grid_template_columns": null,
            "grid_template_rows": null,
            "height": null,
            "justify_content": null,
            "justify_items": null,
            "left": null,
            "margin": null,
            "max_height": null,
            "max_width": null,
            "min_height": null,
            "min_width": null,
            "object_fit": null,
            "object_position": null,
            "order": null,
            "overflow": null,
            "overflow_x": null,
            "overflow_y": null,
            "padding": null,
            "right": null,
            "top": null,
            "visibility": null,
            "width": null
          }
        },
        "81a092215f664ea696ec7c61b3e1d309": {
          "model_module": "@jupyter-widgets/base",
          "model_module_version": "1.2.0",
          "model_name": "LayoutModel",
          "state": {
            "_model_module": "@jupyter-widgets/base",
            "_model_module_version": "1.2.0",
            "_model_name": "LayoutModel",
            "_view_count": null,
            "_view_module": "@jupyter-widgets/base",
            "_view_module_version": "1.2.0",
            "_view_name": "LayoutView",
            "align_content": null,
            "align_items": null,
            "align_self": null,
            "border": null,
            "bottom": null,
            "display": null,
            "flex": null,
            "flex_flow": null,
            "grid_area": null,
            "grid_auto_columns": null,
            "grid_auto_flow": null,
            "grid_auto_rows": null,
            "grid_column": null,
            "grid_gap": null,
            "grid_row": null,
            "grid_template_areas": null,
            "grid_template_columns": null,
            "grid_template_rows": null,
            "height": null,
            "justify_content": null,
            "justify_items": null,
            "left": null,
            "margin": null,
            "max_height": null,
            "max_width": null,
            "min_height": null,
            "min_width": null,
            "object_fit": null,
            "object_position": null,
            "order": null,
            "overflow": null,
            "overflow_x": null,
            "overflow_y": null,
            "padding": null,
            "right": null,
            "top": null,
            "visibility": null,
            "width": null
          }
        },
        "850b1a4708f843c0b463772e5f046870": {
          "model_module": "@jupyter-widgets/base",
          "model_module_version": "1.2.0",
          "model_name": "LayoutModel",
          "state": {
            "_model_module": "@jupyter-widgets/base",
            "_model_module_version": "1.2.0",
            "_model_name": "LayoutModel",
            "_view_count": null,
            "_view_module": "@jupyter-widgets/base",
            "_view_module_version": "1.2.0",
            "_view_name": "LayoutView",
            "align_content": null,
            "align_items": null,
            "align_self": null,
            "border": null,
            "bottom": null,
            "display": null,
            "flex": null,
            "flex_flow": null,
            "grid_area": null,
            "grid_auto_columns": null,
            "grid_auto_flow": null,
            "grid_auto_rows": null,
            "grid_column": null,
            "grid_gap": null,
            "grid_row": null,
            "grid_template_areas": null,
            "grid_template_columns": null,
            "grid_template_rows": null,
            "height": null,
            "justify_content": null,
            "justify_items": null,
            "left": null,
            "margin": null,
            "max_height": null,
            "max_width": null,
            "min_height": null,
            "min_width": null,
            "object_fit": null,
            "object_position": null,
            "order": null,
            "overflow": null,
            "overflow_x": null,
            "overflow_y": null,
            "padding": null,
            "right": null,
            "top": null,
            "visibility": null,
            "width": null
          }
        },
        "873d923b1c874e808b0279660cc61613": {
          "model_module": "@jupyter-widgets/base",
          "model_module_version": "1.2.0",
          "model_name": "LayoutModel",
          "state": {
            "_model_module": "@jupyter-widgets/base",
            "_model_module_version": "1.2.0",
            "_model_name": "LayoutModel",
            "_view_count": null,
            "_view_module": "@jupyter-widgets/base",
            "_view_module_version": "1.2.0",
            "_view_name": "LayoutView",
            "align_content": null,
            "align_items": null,
            "align_self": null,
            "border": null,
            "bottom": null,
            "display": null,
            "flex": null,
            "flex_flow": null,
            "grid_area": null,
            "grid_auto_columns": null,
            "grid_auto_flow": null,
            "grid_auto_rows": null,
            "grid_column": null,
            "grid_gap": null,
            "grid_row": null,
            "grid_template_areas": null,
            "grid_template_columns": null,
            "grid_template_rows": null,
            "height": null,
            "justify_content": null,
            "justify_items": null,
            "left": null,
            "margin": null,
            "max_height": null,
            "max_width": null,
            "min_height": null,
            "min_width": null,
            "object_fit": null,
            "object_position": null,
            "order": null,
            "overflow": null,
            "overflow_x": null,
            "overflow_y": null,
            "padding": null,
            "right": null,
            "top": null,
            "visibility": null,
            "width": null
          }
        },
        "8a3779fcb37c4021aa2263a3f7186069": {
          "model_module": "@jupyter-widgets/controls",
          "model_module_version": "1.5.0",
          "model_name": "DescriptionStyleModel",
          "state": {
            "_model_module": "@jupyter-widgets/controls",
            "_model_module_version": "1.5.0",
            "_model_name": "DescriptionStyleModel",
            "_view_count": null,
            "_view_module": "@jupyter-widgets/base",
            "_view_module_version": "1.2.0",
            "_view_name": "StyleView",
            "description_width": ""
          }
        },
        "8aa16c232e9c4f019539572bc0491078": {
          "model_module": "@jupyter-widgets/base",
          "model_module_version": "1.2.0",
          "model_name": "LayoutModel",
          "state": {
            "_model_module": "@jupyter-widgets/base",
            "_model_module_version": "1.2.0",
            "_model_name": "LayoutModel",
            "_view_count": null,
            "_view_module": "@jupyter-widgets/base",
            "_view_module_version": "1.2.0",
            "_view_name": "LayoutView",
            "align_content": null,
            "align_items": null,
            "align_self": null,
            "border": null,
            "bottom": null,
            "display": null,
            "flex": null,
            "flex_flow": null,
            "grid_area": null,
            "grid_auto_columns": null,
            "grid_auto_flow": null,
            "grid_auto_rows": null,
            "grid_column": null,
            "grid_gap": null,
            "grid_row": null,
            "grid_template_areas": null,
            "grid_template_columns": null,
            "grid_template_rows": null,
            "height": null,
            "justify_content": null,
            "justify_items": null,
            "left": null,
            "margin": null,
            "max_height": null,
            "max_width": null,
            "min_height": null,
            "min_width": null,
            "object_fit": null,
            "object_position": null,
            "order": null,
            "overflow": null,
            "overflow_x": null,
            "overflow_y": null,
            "padding": null,
            "right": null,
            "top": null,
            "visibility": null,
            "width": null
          }
        },
        "8c288bb88d9345368b8ed6de8a2dbebf": {
          "model_module": "@jupyter-widgets/controls",
          "model_module_version": "1.5.0",
          "model_name": "HTMLModel",
          "state": {
            "_dom_classes": [],
            "_model_module": "@jupyter-widgets/controls",
            "_model_module_version": "1.5.0",
            "_model_name": "HTMLModel",
            "_view_count": null,
            "_view_module": "@jupyter-widgets/controls",
            "_view_module_version": "1.5.0",
            "_view_name": "HTMLView",
            "description": "",
            "description_tooltip": null,
            "layout": "IPY_MODEL_5602f40ded264e729c3edac63251452a",
            "placeholder": "​",
            "style": "IPY_MODEL_563e9d7058954570aee39bd85d2f113e",
            "value": " 4327/0 [00:01&lt;00:00, 4017.77 examples/s]"
          }
        },
        "9049ee25a8584e7fadf1701887fd1fd6": {
          "model_module": "@jupyter-widgets/base",
          "model_module_version": "1.2.0",
          "model_name": "LayoutModel",
          "state": {
            "_model_module": "@jupyter-widgets/base",
            "_model_module_version": "1.2.0",
            "_model_name": "LayoutModel",
            "_view_count": null,
            "_view_module": "@jupyter-widgets/base",
            "_view_module_version": "1.2.0",
            "_view_name": "LayoutView",
            "align_content": null,
            "align_items": null,
            "align_self": null,
            "border": null,
            "bottom": null,
            "display": null,
            "flex": null,
            "flex_flow": null,
            "grid_area": null,
            "grid_auto_columns": null,
            "grid_auto_flow": null,
            "grid_auto_rows": null,
            "grid_column": null,
            "grid_gap": null,
            "grid_row": null,
            "grid_template_areas": null,
            "grid_template_columns": null,
            "grid_template_rows": null,
            "height": null,
            "justify_content": null,
            "justify_items": null,
            "left": null,
            "margin": null,
            "max_height": null,
            "max_width": null,
            "min_height": null,
            "min_width": null,
            "object_fit": null,
            "object_position": null,
            "order": null,
            "overflow": null,
            "overflow_x": null,
            "overflow_y": null,
            "padding": null,
            "right": null,
            "top": null,
            "visibility": "hidden",
            "width": null
          }
        },
        "90cebba4be804d3bbe2ad29a23fdaf28": {
          "model_module": "@jupyter-widgets/base",
          "model_module_version": "1.2.0",
          "model_name": "LayoutModel",
          "state": {
            "_model_module": "@jupyter-widgets/base",
            "_model_module_version": "1.2.0",
            "_model_name": "LayoutModel",
            "_view_count": null,
            "_view_module": "@jupyter-widgets/base",
            "_view_module_version": "1.2.0",
            "_view_name": "LayoutView",
            "align_content": null,
            "align_items": null,
            "align_self": null,
            "border": null,
            "bottom": null,
            "display": null,
            "flex": null,
            "flex_flow": null,
            "grid_area": null,
            "grid_auto_columns": null,
            "grid_auto_flow": null,
            "grid_auto_rows": null,
            "grid_column": null,
            "grid_gap": null,
            "grid_row": null,
            "grid_template_areas": null,
            "grid_template_columns": null,
            "grid_template_rows": null,
            "height": null,
            "justify_content": null,
            "justify_items": null,
            "left": null,
            "margin": null,
            "max_height": null,
            "max_width": null,
            "min_height": null,
            "min_width": null,
            "object_fit": null,
            "object_position": null,
            "order": null,
            "overflow": null,
            "overflow_x": null,
            "overflow_y": null,
            "padding": null,
            "right": null,
            "top": null,
            "visibility": null,
            "width": null
          }
        },
        "92f0945cf0f04162b1951d2c4249220d": {
          "model_module": "@jupyter-widgets/controls",
          "model_module_version": "1.5.0",
          "model_name": "ProgressStyleModel",
          "state": {
            "_model_module": "@jupyter-widgets/controls",
            "_model_module_version": "1.5.0",
            "_model_name": "ProgressStyleModel",
            "_view_count": null,
            "_view_module": "@jupyter-widgets/base",
            "_view_module_version": "1.2.0",
            "_view_name": "StyleView",
            "bar_color": null,
            "description_width": ""
          }
        },
        "94df2d3f47294a20a7f1ce16c9c1ad0e": {
          "model_module": "@jupyter-widgets/controls",
          "model_module_version": "1.5.0",
          "model_name": "HBoxModel",
          "state": {
            "_dom_classes": [],
            "_model_module": "@jupyter-widgets/controls",
            "_model_module_version": "1.5.0",
            "_model_name": "HBoxModel",
            "_view_count": null,
            "_view_module": "@jupyter-widgets/controls",
            "_view_module_version": "1.5.0",
            "_view_name": "HBoxView",
            "box_style": "",
            "children": [
              "IPY_MODEL_31037945c9254f4881f25933c620a2e2",
              "IPY_MODEL_510a86e4942545918f8de7bf6d612a79",
              "IPY_MODEL_d5d8b5fc79d94b258b14c39dac077083"
            ],
            "layout": "IPY_MODEL_f1a8f6e1718b48a1b41df2a5b82e55d3"
          }
        },
        "9ae210c4f43a49a482400ecf1b93333a": {
          "model_module": "@jupyter-widgets/base",
          "model_module_version": "1.2.0",
          "model_name": "LayoutModel",
          "state": {
            "_model_module": "@jupyter-widgets/base",
            "_model_module_version": "1.2.0",
            "_model_name": "LayoutModel",
            "_view_count": null,
            "_view_module": "@jupyter-widgets/base",
            "_view_module_version": "1.2.0",
            "_view_name": "LayoutView",
            "align_content": null,
            "align_items": null,
            "align_self": null,
            "border": null,
            "bottom": null,
            "display": null,
            "flex": null,
            "flex_flow": null,
            "grid_area": null,
            "grid_auto_columns": null,
            "grid_auto_flow": null,
            "grid_auto_rows": null,
            "grid_column": null,
            "grid_gap": null,
            "grid_row": null,
            "grid_template_areas": null,
            "grid_template_columns": null,
            "grid_template_rows": null,
            "height": null,
            "justify_content": null,
            "justify_items": null,
            "left": null,
            "margin": null,
            "max_height": null,
            "max_width": null,
            "min_height": null,
            "min_width": null,
            "object_fit": null,
            "object_position": null,
            "order": null,
            "overflow": null,
            "overflow_x": null,
            "overflow_y": null,
            "padding": null,
            "right": null,
            "top": null,
            "visibility": null,
            "width": "20px"
          }
        },
        "9cbf59fb949e4afea2f3ddd9c241b9e3": {
          "model_module": "@jupyter-widgets/controls",
          "model_module_version": "1.5.0",
          "model_name": "HTMLModel",
          "state": {
            "_dom_classes": [],
            "_model_module": "@jupyter-widgets/controls",
            "_model_module_version": "1.5.0",
            "_model_name": "HTMLModel",
            "_view_count": null,
            "_view_module": "@jupyter-widgets/controls",
            "_view_module_version": "1.5.0",
            "_view_name": "HTMLView",
            "description": "",
            "description_tooltip": null,
            "layout": "IPY_MODEL_873d923b1c874e808b0279660cc61613",
            "placeholder": "​",
            "style": "IPY_MODEL_3f14c04755744f589c29ed8ac597150b",
            "value": " 699/0 [00:00&lt;00:00, 2482.47 examples/s]"
          }
        },
        "a2f53fd1c68f4361b0e136eb10809c51": {
          "model_module": "@jupyter-widgets/controls",
          "model_module_version": "1.5.0",
          "model_name": "DescriptionStyleModel",
          "state": {
            "_model_module": "@jupyter-widgets/controls",
            "_model_module_version": "1.5.0",
            "_model_name": "DescriptionStyleModel",
            "_view_count": null,
            "_view_module": "@jupyter-widgets/base",
            "_view_module_version": "1.2.0",
            "_view_name": "StyleView",
            "description_width": ""
          }
        },
        "a45be2dca00c42af81f5486432d0dc5c": {
          "model_module": "@jupyter-widgets/controls",
          "model_module_version": "1.5.0",
          "model_name": "DescriptionStyleModel",
          "state": {
            "_model_module": "@jupyter-widgets/controls",
            "_model_module_version": "1.5.0",
            "_model_name": "DescriptionStyleModel",
            "_view_count": null,
            "_view_module": "@jupyter-widgets/base",
            "_view_module_version": "1.2.0",
            "_view_name": "StyleView",
            "description_width": ""
          }
        },
        "a4c837dafded4456b3576af2dfb2181a": {
          "model_module": "@jupyter-widgets/base",
          "model_module_version": "1.2.0",
          "model_name": "LayoutModel",
          "state": {
            "_model_module": "@jupyter-widgets/base",
            "_model_module_version": "1.2.0",
            "_model_name": "LayoutModel",
            "_view_count": null,
            "_view_module": "@jupyter-widgets/base",
            "_view_module_version": "1.2.0",
            "_view_name": "LayoutView",
            "align_content": null,
            "align_items": null,
            "align_self": null,
            "border": null,
            "bottom": null,
            "display": null,
            "flex": null,
            "flex_flow": null,
            "grid_area": null,
            "grid_auto_columns": null,
            "grid_auto_flow": null,
            "grid_auto_rows": null,
            "grid_column": null,
            "grid_gap": null,
            "grid_row": null,
            "grid_template_areas": null,
            "grid_template_columns": null,
            "grid_template_rows": null,
            "height": null,
            "justify_content": null,
            "justify_items": null,
            "left": null,
            "margin": null,
            "max_height": null,
            "max_width": null,
            "min_height": null,
            "min_width": null,
            "object_fit": null,
            "object_position": null,
            "order": null,
            "overflow": null,
            "overflow_x": null,
            "overflow_y": null,
            "padding": null,
            "right": null,
            "top": null,
            "visibility": null,
            "width": null
          }
        },
        "a68427db3c924bfe82c68921506789ee": {
          "model_module": "@jupyter-widgets/base",
          "model_module_version": "1.2.0",
          "model_name": "LayoutModel",
          "state": {
            "_model_module": "@jupyter-widgets/base",
            "_model_module_version": "1.2.0",
            "_model_name": "LayoutModel",
            "_view_count": null,
            "_view_module": "@jupyter-widgets/base",
            "_view_module_version": "1.2.0",
            "_view_name": "LayoutView",
            "align_content": null,
            "align_items": null,
            "align_self": null,
            "border": null,
            "bottom": null,
            "display": null,
            "flex": null,
            "flex_flow": null,
            "grid_area": null,
            "grid_auto_columns": null,
            "grid_auto_flow": null,
            "grid_auto_rows": null,
            "grid_column": null,
            "grid_gap": null,
            "grid_row": null,
            "grid_template_areas": null,
            "grid_template_columns": null,
            "grid_template_rows": null,
            "height": null,
            "justify_content": null,
            "justify_items": null,
            "left": null,
            "margin": null,
            "max_height": null,
            "max_width": null,
            "min_height": null,
            "min_width": null,
            "object_fit": null,
            "object_position": null,
            "order": null,
            "overflow": null,
            "overflow_x": null,
            "overflow_y": null,
            "padding": null,
            "right": null,
            "top": null,
            "visibility": null,
            "width": null
          }
        },
        "ac7a0fefed0c4782acce606645de7fc1": {
          "model_module": "@jupyter-widgets/controls",
          "model_module_version": "1.5.0",
          "model_name": "DescriptionStyleModel",
          "state": {
            "_model_module": "@jupyter-widgets/controls",
            "_model_module_version": "1.5.0",
            "_model_name": "DescriptionStyleModel",
            "_view_count": null,
            "_view_module": "@jupyter-widgets/base",
            "_view_module_version": "1.2.0",
            "_view_name": "StyleView",
            "description_width": ""
          }
        },
        "b0d96e56f97b4b639e3983e04a2262f8": {
          "model_module": "@jupyter-widgets/controls",
          "model_module_version": "1.5.0",
          "model_name": "HTMLModel",
          "state": {
            "_dom_classes": [],
            "_model_module": "@jupyter-widgets/controls",
            "_model_module_version": "1.5.0",
            "_model_name": "HTMLModel",
            "_view_count": null,
            "_view_module": "@jupyter-widgets/controls",
            "_view_module_version": "1.5.0",
            "_view_name": "HTMLView",
            "description": "",
            "description_tooltip": null,
            "layout": "IPY_MODEL_f858c3797f544e699950fa8592b48d20",
            "placeholder": "​",
            "style": "IPY_MODEL_4aeeb3bdf4574d089634d1b514f8077b",
            "value": "Downloading builder script: 100%"
          }
        },
        "bd5f7e1b1cc0427cb174d1ac7b0deab2": {
          "model_module": "@jupyter-widgets/controls",
          "model_module_version": "1.5.0",
          "model_name": "HTMLModel",
          "state": {
            "_dom_classes": [],
            "_model_module": "@jupyter-widgets/controls",
            "_model_module_version": "1.5.0",
            "_model_name": "HTMLModel",
            "_view_count": null,
            "_view_module": "@jupyter-widgets/controls",
            "_view_module_version": "1.5.0",
            "_view_name": "HTMLView",
            "description": "",
            "description_tooltip": null,
            "layout": "IPY_MODEL_5b25289eb0b04221ba4b38b080025608",
            "placeholder": "​",
            "style": "IPY_MODEL_13a850daf219469aae2a6488246c2c0d",
            "value": " 422/0 [00:00&lt;00:00, 2868.83 examples/s]"
          }
        },
        "be6d86c9fa764a0aaf61068260ce9024": {
          "model_module": "@jupyter-widgets/controls",
          "model_module_version": "1.5.0",
          "model_name": "ProgressStyleModel",
          "state": {
            "_model_module": "@jupyter-widgets/controls",
            "_model_module_version": "1.5.0",
            "_model_name": "ProgressStyleModel",
            "_view_count": null,
            "_view_module": "@jupyter-widgets/base",
            "_view_module_version": "1.2.0",
            "_view_name": "StyleView",
            "bar_color": null,
            "description_width": ""
          }
        },
        "c04b6f86312949d4aed562c6f23c25f6": {
          "model_module": "@jupyter-widgets/base",
          "model_module_version": "1.2.0",
          "model_name": "LayoutModel",
          "state": {
            "_model_module": "@jupyter-widgets/base",
            "_model_module_version": "1.2.0",
            "_model_name": "LayoutModel",
            "_view_count": null,
            "_view_module": "@jupyter-widgets/base",
            "_view_module_version": "1.2.0",
            "_view_name": "LayoutView",
            "align_content": null,
            "align_items": null,
            "align_self": null,
            "border": null,
            "bottom": null,
            "display": null,
            "flex": null,
            "flex_flow": null,
            "grid_area": null,
            "grid_auto_columns": null,
            "grid_auto_flow": null,
            "grid_auto_rows": null,
            "grid_column": null,
            "grid_gap": null,
            "grid_row": null,
            "grid_template_areas": null,
            "grid_template_columns": null,
            "grid_template_rows": null,
            "height": null,
            "justify_content": null,
            "justify_items": null,
            "left": null,
            "margin": null,
            "max_height": null,
            "max_width": null,
            "min_height": null,
            "min_width": null,
            "object_fit": null,
            "object_position": null,
            "order": null,
            "overflow": null,
            "overflow_x": null,
            "overflow_y": null,
            "padding": null,
            "right": null,
            "top": null,
            "visibility": null,
            "width": null
          }
        },
        "c0ae46588f8f47a8b5700effa4515efa": {
          "model_module": "@jupyter-widgets/controls",
          "model_module_version": "1.5.0",
          "model_name": "FloatProgressModel",
          "state": {
            "_dom_classes": [],
            "_model_module": "@jupyter-widgets/controls",
            "_model_module_version": "1.5.0",
            "_model_name": "FloatProgressModel",
            "_view_count": null,
            "_view_module": "@jupyter-widgets/controls",
            "_view_module_version": "1.5.0",
            "_view_name": "ProgressView",
            "bar_style": "info",
            "description": "",
            "description_tooltip": null,
            "layout": "IPY_MODEL_22ecffc85df1452d90934da63bc299e7",
            "max": 1,
            "min": 0,
            "orientation": "horizontal",
            "style": "IPY_MODEL_7a45c157db7a4638b1a3c4fe945c0c63",
            "value": 1
          }
        },
        "c2bb15cb582b4858a2f54c76222e6a99": {
          "model_module": "@jupyter-widgets/controls",
          "model_module_version": "1.5.0",
          "model_name": "FloatProgressModel",
          "state": {
            "_dom_classes": [],
            "_model_module": "@jupyter-widgets/controls",
            "_model_module_version": "1.5.0",
            "_model_name": "FloatProgressModel",
            "_view_count": null,
            "_view_module": "@jupyter-widgets/controls",
            "_view_module_version": "1.5.0",
            "_view_name": "ProgressView",
            "bar_style": "info",
            "description": "",
            "description_tooltip": null,
            "layout": "IPY_MODEL_faffcd03162346c3a29d604b0b53b28d",
            "max": 1,
            "min": 0,
            "orientation": "horizontal",
            "style": "IPY_MODEL_e026399afb7c4dac9a52bbf15faf3c09",
            "value": 1
          }
        },
        "c3d23c348b85443aad4916ef02530cdb": {
          "model_module": "@jupyter-widgets/controls",
          "model_module_version": "1.5.0",
          "model_name": "DescriptionStyleModel",
          "state": {
            "_model_module": "@jupyter-widgets/controls",
            "_model_module_version": "1.5.0",
            "_model_name": "DescriptionStyleModel",
            "_view_count": null,
            "_view_module": "@jupyter-widgets/base",
            "_view_module_version": "1.2.0",
            "_view_name": "StyleView",
            "description_width": ""
          }
        },
        "c5df17d3da9244e3b10d02ba44326038": {
          "model_module": "@jupyter-widgets/controls",
          "model_module_version": "1.5.0",
          "model_name": "HBoxModel",
          "state": {
            "_dom_classes": [],
            "_model_module": "@jupyter-widgets/controls",
            "_model_module_version": "1.5.0",
            "_model_name": "HBoxModel",
            "_view_count": null,
            "_view_module": "@jupyter-widgets/controls",
            "_view_module_version": "1.5.0",
            "_view_name": "HBoxView",
            "box_style": "",
            "children": [
              "IPY_MODEL_2281ed1c7ba8410d9029f752af6d5527",
              "IPY_MODEL_c0ae46588f8f47a8b5700effa4515efa",
              "IPY_MODEL_8c288bb88d9345368b8ed6de8a2dbebf"
            ],
            "layout": "IPY_MODEL_da750e10eaff4ef5ac8c224d20808072"
          }
        },
        "c9b82af0b7934c6c88ef450b8d9f00fe": {
          "model_module": "@jupyter-widgets/controls",
          "model_module_version": "1.5.0",
          "model_name": "ProgressStyleModel",
          "state": {
            "_model_module": "@jupyter-widgets/controls",
            "_model_module_version": "1.5.0",
            "_model_name": "ProgressStyleModel",
            "_view_count": null,
            "_view_module": "@jupyter-widgets/base",
            "_view_module_version": "1.2.0",
            "_view_name": "StyleView",
            "bar_color": null,
            "description_width": ""
          }
        },
        "c9be6e03b5534de0a50e03156566ab2b": {
          "model_module": "@jupyter-widgets/controls",
          "model_module_version": "1.5.0",
          "model_name": "ProgressStyleModel",
          "state": {
            "_model_module": "@jupyter-widgets/controls",
            "_model_module_version": "1.5.0",
            "_model_name": "ProgressStyleModel",
            "_view_count": null,
            "_view_module": "@jupyter-widgets/base",
            "_view_module_version": "1.2.0",
            "_view_name": "StyleView",
            "bar_color": null,
            "description_width": ""
          }
        },
        "cbb3a714b55c4707b1d29651e1d8af88": {
          "model_module": "@jupyter-widgets/base",
          "model_module_version": "1.2.0",
          "model_name": "LayoutModel",
          "state": {
            "_model_module": "@jupyter-widgets/base",
            "_model_module_version": "1.2.0",
            "_model_name": "LayoutModel",
            "_view_count": null,
            "_view_module": "@jupyter-widgets/base",
            "_view_module_version": "1.2.0",
            "_view_name": "LayoutView",
            "align_content": null,
            "align_items": null,
            "align_self": null,
            "border": null,
            "bottom": null,
            "display": null,
            "flex": null,
            "flex_flow": null,
            "grid_area": null,
            "grid_auto_columns": null,
            "grid_auto_flow": null,
            "grid_auto_rows": null,
            "grid_column": null,
            "grid_gap": null,
            "grid_row": null,
            "grid_template_areas": null,
            "grid_template_columns": null,
            "grid_template_rows": null,
            "height": null,
            "justify_content": null,
            "justify_items": null,
            "left": null,
            "margin": null,
            "max_height": null,
            "max_width": null,
            "min_height": null,
            "min_width": null,
            "object_fit": null,
            "object_position": null,
            "order": null,
            "overflow": null,
            "overflow_x": null,
            "overflow_y": null,
            "padding": null,
            "right": null,
            "top": null,
            "visibility": null,
            "width": null
          }
        },
        "cf74664d0c79422693af3fcf2fec01c7": {
          "model_module": "@jupyter-widgets/base",
          "model_module_version": "1.2.0",
          "model_name": "LayoutModel",
          "state": {
            "_model_module": "@jupyter-widgets/base",
            "_model_module_version": "1.2.0",
            "_model_name": "LayoutModel",
            "_view_count": null,
            "_view_module": "@jupyter-widgets/base",
            "_view_module_version": "1.2.0",
            "_view_name": "LayoutView",
            "align_content": null,
            "align_items": null,
            "align_self": null,
            "border": null,
            "bottom": null,
            "display": null,
            "flex": null,
            "flex_flow": null,
            "grid_area": null,
            "grid_auto_columns": null,
            "grid_auto_flow": null,
            "grid_auto_rows": null,
            "grid_column": null,
            "grid_gap": null,
            "grid_row": null,
            "grid_template_areas": null,
            "grid_template_columns": null,
            "grid_template_rows": null,
            "height": null,
            "justify_content": null,
            "justify_items": null,
            "left": null,
            "margin": null,
            "max_height": null,
            "max_width": null,
            "min_height": null,
            "min_width": null,
            "object_fit": null,
            "object_position": null,
            "order": null,
            "overflow": null,
            "overflow_x": null,
            "overflow_y": null,
            "padding": null,
            "right": null,
            "top": null,
            "visibility": "hidden",
            "width": null
          }
        },
        "d055d7d883e14c5cad7f5cc96c88d980": {
          "model_module": "@jupyter-widgets/base",
          "model_module_version": "1.2.0",
          "model_name": "LayoutModel",
          "state": {
            "_model_module": "@jupyter-widgets/base",
            "_model_module_version": "1.2.0",
            "_model_name": "LayoutModel",
            "_view_count": null,
            "_view_module": "@jupyter-widgets/base",
            "_view_module_version": "1.2.0",
            "_view_name": "LayoutView",
            "align_content": null,
            "align_items": null,
            "align_self": null,
            "border": null,
            "bottom": null,
            "display": null,
            "flex": null,
            "flex_flow": null,
            "grid_area": null,
            "grid_auto_columns": null,
            "grid_auto_flow": null,
            "grid_auto_rows": null,
            "grid_column": null,
            "grid_gap": null,
            "grid_row": null,
            "grid_template_areas": null,
            "grid_template_columns": null,
            "grid_template_rows": null,
            "height": null,
            "justify_content": null,
            "justify_items": null,
            "left": null,
            "margin": null,
            "max_height": null,
            "max_width": null,
            "min_height": null,
            "min_width": null,
            "object_fit": null,
            "object_position": null,
            "order": null,
            "overflow": null,
            "overflow_x": null,
            "overflow_y": null,
            "padding": null,
            "right": null,
            "top": null,
            "visibility": null,
            "width": null
          }
        },
        "d5b7b0aaff6c4e7a9eea0550acf07cfa": {
          "model_module": "@jupyter-widgets/base",
          "model_module_version": "1.2.0",
          "model_name": "LayoutModel",
          "state": {
            "_model_module": "@jupyter-widgets/base",
            "_model_module_version": "1.2.0",
            "_model_name": "LayoutModel",
            "_view_count": null,
            "_view_module": "@jupyter-widgets/base",
            "_view_module_version": "1.2.0",
            "_view_name": "LayoutView",
            "align_content": null,
            "align_items": null,
            "align_self": null,
            "border": null,
            "bottom": null,
            "display": null,
            "flex": null,
            "flex_flow": null,
            "grid_area": null,
            "grid_auto_columns": null,
            "grid_auto_flow": null,
            "grid_auto_rows": null,
            "grid_column": null,
            "grid_gap": null,
            "grid_row": null,
            "grid_template_areas": null,
            "grid_template_columns": null,
            "grid_template_rows": null,
            "height": null,
            "justify_content": null,
            "justify_items": null,
            "left": null,
            "margin": null,
            "max_height": null,
            "max_width": null,
            "min_height": null,
            "min_width": null,
            "object_fit": null,
            "object_position": null,
            "order": null,
            "overflow": null,
            "overflow_x": null,
            "overflow_y": null,
            "padding": null,
            "right": null,
            "top": null,
            "visibility": null,
            "width": null
          }
        },
        "d5d8b5fc79d94b258b14c39dac077083": {
          "model_module": "@jupyter-widgets/controls",
          "model_module_version": "1.5.0",
          "model_name": "HTMLModel",
          "state": {
            "_dom_classes": [],
            "_model_module": "@jupyter-widgets/controls",
            "_model_module_version": "1.5.0",
            "_model_name": "HTMLModel",
            "_view_count": null,
            "_view_module": "@jupyter-widgets/controls",
            "_view_module_version": "1.5.0",
            "_view_name": "HTMLView",
            "description": "",
            "description_tooltip": null,
            "layout": "IPY_MODEL_dc68450a2fa041498f35b73cf6c38a80",
            "placeholder": "​",
            "style": "IPY_MODEL_2f02b7c1cb5045c880132e2610aff345",
            "value": " 502/502 [00:00&lt;00:00, 5.83kB/s]"
          }
        },
        "d8aadb20f6e64787aab4dd0971719d73": {
          "model_module": "@jupyter-widgets/controls",
          "model_module_version": "1.5.0",
          "model_name": "HBoxModel",
          "state": {
            "_dom_classes": [],
            "_model_module": "@jupyter-widgets/controls",
            "_model_module_version": "1.5.0",
            "_model_name": "HBoxModel",
            "_view_count": null,
            "_view_module": "@jupyter-widgets/controls",
            "_view_module_version": "1.5.0",
            "_view_name": "HBoxView",
            "box_style": "",
            "children": [
              "IPY_MODEL_7ecaab3223754469905dbdacab85612f",
              "IPY_MODEL_c2bb15cb582b4858a2f54c76222e6a99",
              "IPY_MODEL_9cbf59fb949e4afea2f3ddd9c241b9e3"
            ],
            "layout": "IPY_MODEL_9049ee25a8584e7fadf1701887fd1fd6"
          }
        },
        "da750e10eaff4ef5ac8c224d20808072": {
          "model_module": "@jupyter-widgets/base",
          "model_module_version": "1.2.0",
          "model_name": "LayoutModel",
          "state": {
            "_model_module": "@jupyter-widgets/base",
            "_model_module_version": "1.2.0",
            "_model_name": "LayoutModel",
            "_view_count": null,
            "_view_module": "@jupyter-widgets/base",
            "_view_module_version": "1.2.0",
            "_view_name": "LayoutView",
            "align_content": null,
            "align_items": null,
            "align_self": null,
            "border": null,
            "bottom": null,
            "display": null,
            "flex": null,
            "flex_flow": null,
            "grid_area": null,
            "grid_auto_columns": null,
            "grid_auto_flow": null,
            "grid_auto_rows": null,
            "grid_column": null,
            "grid_gap": null,
            "grid_row": null,
            "grid_template_areas": null,
            "grid_template_columns": null,
            "grid_template_rows": null,
            "height": null,
            "justify_content": null,
            "justify_items": null,
            "left": null,
            "margin": null,
            "max_height": null,
            "max_width": null,
            "min_height": null,
            "min_width": null,
            "object_fit": null,
            "object_position": null,
            "order": null,
            "overflow": null,
            "overflow_x": null,
            "overflow_y": null,
            "padding": null,
            "right": null,
            "top": null,
            "visibility": "hidden",
            "width": null
          }
        },
        "db044c16ea6e4297ac7df408dd0826fe": {
          "model_module": "@jupyter-widgets/base",
          "model_module_version": "1.2.0",
          "model_name": "LayoutModel",
          "state": {
            "_model_module": "@jupyter-widgets/base",
            "_model_module_version": "1.2.0",
            "_model_name": "LayoutModel",
            "_view_count": null,
            "_view_module": "@jupyter-widgets/base",
            "_view_module_version": "1.2.0",
            "_view_name": "LayoutView",
            "align_content": null,
            "align_items": null,
            "align_self": null,
            "border": null,
            "bottom": null,
            "display": null,
            "flex": null,
            "flex_flow": null,
            "grid_area": null,
            "grid_auto_columns": null,
            "grid_auto_flow": null,
            "grid_auto_rows": null,
            "grid_column": null,
            "grid_gap": null,
            "grid_row": null,
            "grid_template_areas": null,
            "grid_template_columns": null,
            "grid_template_rows": null,
            "height": null,
            "justify_content": null,
            "justify_items": null,
            "left": null,
            "margin": null,
            "max_height": null,
            "max_width": null,
            "min_height": null,
            "min_width": null,
            "object_fit": null,
            "object_position": null,
            "order": null,
            "overflow": null,
            "overflow_x": null,
            "overflow_y": null,
            "padding": null,
            "right": null,
            "top": null,
            "visibility": null,
            "width": null
          }
        },
        "dbd513233bbb4305a92816cef3b98017": {
          "model_module": "@jupyter-widgets/controls",
          "model_module_version": "1.5.0",
          "model_name": "HBoxModel",
          "state": {
            "_dom_classes": [],
            "_model_module": "@jupyter-widgets/controls",
            "_model_module_version": "1.5.0",
            "_model_name": "HBoxModel",
            "_view_count": null,
            "_view_module": "@jupyter-widgets/controls",
            "_view_module_version": "1.5.0",
            "_view_name": "HBoxView",
            "box_style": "",
            "children": [
              "IPY_MODEL_f1c64eefea89497cb967e6729cf832be",
              "IPY_MODEL_029efde3a92f43acb3f54734df21c677",
              "IPY_MODEL_bd5f7e1b1cc0427cb174d1ac7b0deab2"
            ],
            "layout": "IPY_MODEL_cf74664d0c79422693af3fcf2fec01c7"
          }
        },
        "dc68450a2fa041498f35b73cf6c38a80": {
          "model_module": "@jupyter-widgets/base",
          "model_module_version": "1.2.0",
          "model_name": "LayoutModel",
          "state": {
            "_model_module": "@jupyter-widgets/base",
            "_model_module_version": "1.2.0",
            "_model_name": "LayoutModel",
            "_view_count": null,
            "_view_module": "@jupyter-widgets/base",
            "_view_module_version": "1.2.0",
            "_view_name": "LayoutView",
            "align_content": null,
            "align_items": null,
            "align_self": null,
            "border": null,
            "bottom": null,
            "display": null,
            "flex": null,
            "flex_flow": null,
            "grid_area": null,
            "grid_auto_columns": null,
            "grid_auto_flow": null,
            "grid_auto_rows": null,
            "grid_column": null,
            "grid_gap": null,
            "grid_row": null,
            "grid_template_areas": null,
            "grid_template_columns": null,
            "grid_template_rows": null,
            "height": null,
            "justify_content": null,
            "justify_items": null,
            "left": null,
            "margin": null,
            "max_height": null,
            "max_width": null,
            "min_height": null,
            "min_width": null,
            "object_fit": null,
            "object_position": null,
            "order": null,
            "overflow": null,
            "overflow_x": null,
            "overflow_y": null,
            "padding": null,
            "right": null,
            "top": null,
            "visibility": null,
            "width": null
          }
        },
        "e026399afb7c4dac9a52bbf15faf3c09": {
          "model_module": "@jupyter-widgets/controls",
          "model_module_version": "1.5.0",
          "model_name": "ProgressStyleModel",
          "state": {
            "_model_module": "@jupyter-widgets/controls",
            "_model_module_version": "1.5.0",
            "_model_name": "ProgressStyleModel",
            "_view_count": null,
            "_view_module": "@jupyter-widgets/base",
            "_view_module_version": "1.2.0",
            "_view_name": "StyleView",
            "bar_color": null,
            "description_width": ""
          }
        },
        "e1e59342aaca46e4b6a42080a2c08448": {
          "model_module": "@jupyter-widgets/controls",
          "model_module_version": "1.5.0",
          "model_name": "HBoxModel",
          "state": {
            "_dom_classes": [],
            "_model_module": "@jupyter-widgets/controls",
            "_model_module_version": "1.5.0",
            "_model_name": "HBoxModel",
            "_view_count": null,
            "_view_module": "@jupyter-widgets/controls",
            "_view_module_version": "1.5.0",
            "_view_name": "HBoxView",
            "box_style": "",
            "children": [
              "IPY_MODEL_418e249d841d4671914e18eddafca35c",
              "IPY_MODEL_02b01ff24e6044e88339be1bd2019bcd",
              "IPY_MODEL_68373253278c4b79b50b5a991cf80ff1"
            ],
            "layout": "IPY_MODEL_2c2ae4a1efb64329a6d9c4c9bc0aaa0c"
          }
        },
        "e6016c8f6ea341af86d643d0f9edd742": {
          "model_module": "@jupyter-widgets/base",
          "model_module_version": "1.2.0",
          "model_name": "LayoutModel",
          "state": {
            "_model_module": "@jupyter-widgets/base",
            "_model_module_version": "1.2.0",
            "_model_name": "LayoutModel",
            "_view_count": null,
            "_view_module": "@jupyter-widgets/base",
            "_view_module_version": "1.2.0",
            "_view_name": "LayoutView",
            "align_content": null,
            "align_items": null,
            "align_self": null,
            "border": null,
            "bottom": null,
            "display": null,
            "flex": null,
            "flex_flow": null,
            "grid_area": null,
            "grid_auto_columns": null,
            "grid_auto_flow": null,
            "grid_auto_rows": null,
            "grid_column": null,
            "grid_gap": null,
            "grid_row": null,
            "grid_template_areas": null,
            "grid_template_columns": null,
            "grid_template_rows": null,
            "height": null,
            "justify_content": null,
            "justify_items": null,
            "left": null,
            "margin": null,
            "max_height": null,
            "max_width": null,
            "min_height": null,
            "min_width": null,
            "object_fit": null,
            "object_position": null,
            "order": null,
            "overflow": null,
            "overflow_x": null,
            "overflow_y": null,
            "padding": null,
            "right": null,
            "top": null,
            "visibility": null,
            "width": null
          }
        },
        "e6f38deef60948d7b3bd4a407fb4f3df": {
          "model_module": "@jupyter-widgets/base",
          "model_module_version": "1.2.0",
          "model_name": "LayoutModel",
          "state": {
            "_model_module": "@jupyter-widgets/base",
            "_model_module_version": "1.2.0",
            "_model_name": "LayoutModel",
            "_view_count": null,
            "_view_module": "@jupyter-widgets/base",
            "_view_module_version": "1.2.0",
            "_view_name": "LayoutView",
            "align_content": null,
            "align_items": null,
            "align_self": null,
            "border": null,
            "bottom": null,
            "display": null,
            "flex": null,
            "flex_flow": null,
            "grid_area": null,
            "grid_auto_columns": null,
            "grid_auto_flow": null,
            "grid_auto_rows": null,
            "grid_column": null,
            "grid_gap": null,
            "grid_row": null,
            "grid_template_areas": null,
            "grid_template_columns": null,
            "grid_template_rows": null,
            "height": null,
            "justify_content": null,
            "justify_items": null,
            "left": null,
            "margin": null,
            "max_height": null,
            "max_width": null,
            "min_height": null,
            "min_width": null,
            "object_fit": null,
            "object_position": null,
            "order": null,
            "overflow": null,
            "overflow_x": null,
            "overflow_y": null,
            "padding": null,
            "right": null,
            "top": null,
            "visibility": null,
            "width": null
          }
        },
        "e934a5b9e91b41968961804bb1c68612": {
          "model_module": "@jupyter-widgets/base",
          "model_module_version": "1.2.0",
          "model_name": "LayoutModel",
          "state": {
            "_model_module": "@jupyter-widgets/base",
            "_model_module_version": "1.2.0",
            "_model_name": "LayoutModel",
            "_view_count": null,
            "_view_module": "@jupyter-widgets/base",
            "_view_module_version": "1.2.0",
            "_view_name": "LayoutView",
            "align_content": null,
            "align_items": null,
            "align_self": null,
            "border": null,
            "bottom": null,
            "display": null,
            "flex": null,
            "flex_flow": null,
            "grid_area": null,
            "grid_auto_columns": null,
            "grid_auto_flow": null,
            "grid_auto_rows": null,
            "grid_column": null,
            "grid_gap": null,
            "grid_row": null,
            "grid_template_areas": null,
            "grid_template_columns": null,
            "grid_template_rows": null,
            "height": null,
            "justify_content": null,
            "justify_items": null,
            "left": null,
            "margin": null,
            "max_height": null,
            "max_width": null,
            "min_height": null,
            "min_width": null,
            "object_fit": null,
            "object_position": null,
            "order": null,
            "overflow": null,
            "overflow_x": null,
            "overflow_y": null,
            "padding": null,
            "right": null,
            "top": null,
            "visibility": null,
            "width": null
          }
        },
        "ec11b9233fb54a88951008fa8e9eed7b": {
          "model_module": "@jupyter-widgets/controls",
          "model_module_version": "1.5.0",
          "model_name": "HTMLModel",
          "state": {
            "_dom_classes": [],
            "_model_module": "@jupyter-widgets/controls",
            "_model_module_version": "1.5.0",
            "_model_name": "HTMLModel",
            "_view_count": null,
            "_view_module": "@jupyter-widgets/controls",
            "_view_module_version": "1.5.0",
            "_view_name": "HTMLView",
            "description": "",
            "description_tooltip": null,
            "layout": "IPY_MODEL_4e65202c394c48aab3ea2aeae2d959b2",
            "placeholder": "​",
            "style": "IPY_MODEL_3ff96860785843c4b2b1a9bcbba28db3",
            "value": " 346M/346M [00:01&lt;00:00, 200MB/s]"
          }
        },
        "f103926b74eb4fd292ba2cb1791d3543": {
          "model_module": "@jupyter-widgets/controls",
          "model_module_version": "1.5.0",
          "model_name": "HTMLModel",
          "state": {
            "_dom_classes": [],
            "_model_module": "@jupyter-widgets/controls",
            "_model_module_version": "1.5.0",
            "_model_name": "HTMLModel",
            "_view_count": null,
            "_view_module": "@jupyter-widgets/controls",
            "_view_module_version": "1.5.0",
            "_view_name": "HTMLView",
            "description": "",
            "description_tooltip": null,
            "layout": "IPY_MODEL_90cebba4be804d3bbe2ad29a23fdaf28",
            "placeholder": "​",
            "style": "IPY_MODEL_a2f53fd1c68f4361b0e136eb10809c51",
            "value": "Downloading readme: 100%"
          }
        },
        "f1a8f6e1718b48a1b41df2a5b82e55d3": {
          "model_module": "@jupyter-widgets/base",
          "model_module_version": "1.2.0",
          "model_name": "LayoutModel",
          "state": {
            "_model_module": "@jupyter-widgets/base",
            "_model_module_version": "1.2.0",
            "_model_name": "LayoutModel",
            "_view_count": null,
            "_view_module": "@jupyter-widgets/base",
            "_view_module_version": "1.2.0",
            "_view_name": "LayoutView",
            "align_content": null,
            "align_items": null,
            "align_self": null,
            "border": null,
            "bottom": null,
            "display": null,
            "flex": null,
            "flex_flow": null,
            "grid_area": null,
            "grid_auto_columns": null,
            "grid_auto_flow": null,
            "grid_auto_rows": null,
            "grid_column": null,
            "grid_gap": null,
            "grid_row": null,
            "grid_template_areas": null,
            "grid_template_columns": null,
            "grid_template_rows": null,
            "height": null,
            "justify_content": null,
            "justify_items": null,
            "left": null,
            "margin": null,
            "max_height": null,
            "max_width": null,
            "min_height": null,
            "min_width": null,
            "object_fit": null,
            "object_position": null,
            "order": null,
            "overflow": null,
            "overflow_x": null,
            "overflow_y": null,
            "padding": null,
            "right": null,
            "top": null,
            "visibility": null,
            "width": null
          }
        },
        "f1c64eefea89497cb967e6729cf832be": {
          "model_module": "@jupyter-widgets/controls",
          "model_module_version": "1.5.0",
          "model_name": "HTMLModel",
          "state": {
            "_dom_classes": [],
            "_model_module": "@jupyter-widgets/controls",
            "_model_module_version": "1.5.0",
            "_model_name": "HTMLModel",
            "_view_count": null,
            "_view_module": "@jupyter-widgets/controls",
            "_view_module_version": "1.5.0",
            "_view_name": "HTMLView",
            "description": "",
            "description_tooltip": null,
            "layout": "IPY_MODEL_c04b6f86312949d4aed562c6f23c25f6",
            "placeholder": "​",
            "style": "IPY_MODEL_8a3779fcb37c4021aa2263a3f7186069",
            "value": "Generating validation split: "
          }
        },
        "f5c487e2745f4b4995acadb6e7fc5682": {
          "model_module": "@jupyter-widgets/controls",
          "model_module_version": "1.5.0",
          "model_name": "DescriptionStyleModel",
          "state": {
            "_model_module": "@jupyter-widgets/controls",
            "_model_module_version": "1.5.0",
            "_model_name": "DescriptionStyleModel",
            "_view_count": null,
            "_view_module": "@jupyter-widgets/base",
            "_view_module_version": "1.2.0",
            "_view_name": "StyleView",
            "description_width": ""
          }
        },
        "f75bc92f3fd349018afcebdc97903d4c": {
          "model_module": "@jupyter-widgets/base",
          "model_module_version": "1.2.0",
          "model_name": "LayoutModel",
          "state": {
            "_model_module": "@jupyter-widgets/base",
            "_model_module_version": "1.2.0",
            "_model_name": "LayoutModel",
            "_view_count": null,
            "_view_module": "@jupyter-widgets/base",
            "_view_module_version": "1.2.0",
            "_view_name": "LayoutView",
            "align_content": null,
            "align_items": null,
            "align_self": null,
            "border": null,
            "bottom": null,
            "display": null,
            "flex": null,
            "flex_flow": null,
            "grid_area": null,
            "grid_auto_columns": null,
            "grid_auto_flow": null,
            "grid_auto_rows": null,
            "grid_column": null,
            "grid_gap": null,
            "grid_row": null,
            "grid_template_areas": null,
            "grid_template_columns": null,
            "grid_template_rows": null,
            "height": null,
            "justify_content": null,
            "justify_items": null,
            "left": null,
            "margin": null,
            "max_height": null,
            "max_width": null,
            "min_height": null,
            "min_width": null,
            "object_fit": null,
            "object_position": null,
            "order": null,
            "overflow": null,
            "overflow_x": null,
            "overflow_y": null,
            "padding": null,
            "right": null,
            "top": null,
            "visibility": null,
            "width": null
          }
        },
        "f858c3797f544e699950fa8592b48d20": {
          "model_module": "@jupyter-widgets/base",
          "model_module_version": "1.2.0",
          "model_name": "LayoutModel",
          "state": {
            "_model_module": "@jupyter-widgets/base",
            "_model_module_version": "1.2.0",
            "_model_name": "LayoutModel",
            "_view_count": null,
            "_view_module": "@jupyter-widgets/base",
            "_view_module_version": "1.2.0",
            "_view_name": "LayoutView",
            "align_content": null,
            "align_items": null,
            "align_self": null,
            "border": null,
            "bottom": null,
            "display": null,
            "flex": null,
            "flex_flow": null,
            "grid_area": null,
            "grid_auto_columns": null,
            "grid_auto_flow": null,
            "grid_auto_rows": null,
            "grid_column": null,
            "grid_gap": null,
            "grid_row": null,
            "grid_template_areas": null,
            "grid_template_columns": null,
            "grid_template_rows": null,
            "height": null,
            "justify_content": null,
            "justify_items": null,
            "left": null,
            "margin": null,
            "max_height": null,
            "max_width": null,
            "min_height": null,
            "min_width": null,
            "object_fit": null,
            "object_position": null,
            "order": null,
            "overflow": null,
            "overflow_x": null,
            "overflow_y": null,
            "padding": null,
            "right": null,
            "top": null,
            "visibility": null,
            "width": null
          }
        },
        "faaf81aa5c364be2bdc37a327f0b249c": {
          "model_module": "@jupyter-widgets/controls",
          "model_module_version": "1.5.0",
          "model_name": "HBoxModel",
          "state": {
            "_dom_classes": [],
            "_model_module": "@jupyter-widgets/controls",
            "_model_module_version": "1.5.0",
            "_model_name": "HBoxModel",
            "_view_count": null,
            "_view_module": "@jupyter-widgets/controls",
            "_view_module_version": "1.5.0",
            "_view_name": "HBoxView",
            "box_style": "",
            "children": [
              "IPY_MODEL_527fe9ebde784df1b6b8f16800d4935d",
              "IPY_MODEL_fc680274cc3a4871aa54aefd7ddeaea9",
              "IPY_MODEL_3a8c81b24b704e41a20887a69e17a1a7"
            ],
            "layout": "IPY_MODEL_2f7f0f2dddaf41d19cfb8e3b510b552a"
          }
        },
        "faffcd03162346c3a29d604b0b53b28d": {
          "model_module": "@jupyter-widgets/base",
          "model_module_version": "1.2.0",
          "model_name": "LayoutModel",
          "state": {
            "_model_module": "@jupyter-widgets/base",
            "_model_module_version": "1.2.0",
            "_model_name": "LayoutModel",
            "_view_count": null,
            "_view_module": "@jupyter-widgets/base",
            "_view_module_version": "1.2.0",
            "_view_name": "LayoutView",
            "align_content": null,
            "align_items": null,
            "align_self": null,
            "border": null,
            "bottom": null,
            "display": null,
            "flex": null,
            "flex_flow": null,
            "grid_area": null,
            "grid_auto_columns": null,
            "grid_auto_flow": null,
            "grid_auto_rows": null,
            "grid_column": null,
            "grid_gap": null,
            "grid_row": null,
            "grid_template_areas": null,
            "grid_template_columns": null,
            "grid_template_rows": null,
            "height": null,
            "justify_content": null,
            "justify_items": null,
            "left": null,
            "margin": null,
            "max_height": null,
            "max_width": null,
            "min_height": null,
            "min_width": null,
            "object_fit": null,
            "object_position": null,
            "order": null,
            "overflow": null,
            "overflow_x": null,
            "overflow_y": null,
            "padding": null,
            "right": null,
            "top": null,
            "visibility": null,
            "width": "20px"
          }
        },
        "fc680274cc3a4871aa54aefd7ddeaea9": {
          "model_module": "@jupyter-widgets/controls",
          "model_module_version": "1.5.0",
          "model_name": "FloatProgressModel",
          "state": {
            "_dom_classes": [],
            "_model_module": "@jupyter-widgets/controls",
            "_model_module_version": "1.5.0",
            "_model_name": "FloatProgressModel",
            "_view_count": null,
            "_view_module": "@jupyter-widgets/controls",
            "_view_module_version": "1.5.0",
            "_view_name": "ProgressView",
            "bar_style": "success",
            "description": "",
            "description_tooltip": null,
            "layout": "IPY_MODEL_45742bde4dcc4fd2aa9cb061ac12c653",
            "max": 110279045,
            "min": 0,
            "orientation": "horizontal",
            "style": "IPY_MODEL_5266ccc9f18e4b25b5c30506b3f3d10d",
            "value": 110279045
          }
        },
        "fcd1bc5565ed4cd79a904fec636c8eca": {
          "model_module": "@jupyter-widgets/controls",
          "model_module_version": "1.5.0",
          "model_name": "FloatProgressModel",
          "state": {
            "_dom_classes": [],
            "_model_module": "@jupyter-widgets/controls",
            "_model_module_version": "1.5.0",
            "_model_name": "FloatProgressModel",
            "_view_count": null,
            "_view_module": "@jupyter-widgets/controls",
            "_view_module_version": "1.5.0",
            "_view_name": "ProgressView",
            "bar_style": "success",
            "description": "",
            "description_tooltip": null,
            "layout": "IPY_MODEL_db044c16ea6e4297ac7df408dd0826fe",
            "max": 345636463,
            "min": 0,
            "orientation": "horizontal",
            "style": "IPY_MODEL_c9be6e03b5534de0a50e03156566ab2b",
            "value": 345636463
          }
        }
      }
    }
  },
  "nbformat": 4,
  "nbformat_minor": 0
}